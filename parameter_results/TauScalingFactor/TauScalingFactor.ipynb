{
 "cells": [
  {
   "cell_type": "markdown",
   "id": "41b7ce68",
   "metadata": {},
   "source": [
    "# Network Parameter Experiment: `market.liquidity.probabilityOfTrading.tau.scaling`\n",
    "\n",
    "Experiment varies the network parameter `market.liquidity.probabilityOfTrading.tau.scaling` to the following three values:\n",
    "\n",
    "- 10\n",
    "- 100\n",
    "- 1000\n",
    "\n",
    "`SimpleLiquidityProvider` agents commit liquidity less competitively than the `ExponentialShapedMarketMaker` agent. As the network parameter is increased, the market-maker should receive a smaller proportion of the liquidity fees."
   ]
  },
  {
   "cell_type": "markdown",
   "id": "cb1f77a6",
   "metadata": {},
   "source": [
    "## Notebook Setup"
   ]
  },
  {
   "cell_type": "code",
   "execution_count": null,
   "id": "5e230b76",
   "metadata": {},
   "outputs": [],
   "source": [
    "import os\n",
    "from parameter_results.toolkit import SingleParameterExperimentTk"
   ]
  },
  {
   "cell_type": "code",
   "execution_count": null,
   "id": "78ca09ea",
   "metadata": {},
   "outputs": [],
   "source": [
    "experiment = SingleParameterExperimentTk(\n",
    "    path=os.getcwd(),\n",
    "    dt=5/60\n",
    ")"
   ]
  },
  {
   "cell_type": "markdown",
   "id": "3feec1fb",
   "metadata": {},
   "source": [
    "## Market Data"
   ]
  },
  {
   "cell_type": "markdown",
   "id": "03f76bec",
   "metadata": {},
   "source": [
    "### Market State\n",
    "\n",
    "As the experiment uses a pre-configured ParameterExperiment scenario, the market should stay mostly in an \"Active State\"."
   ]
  },
  {
   "cell_type": "code",
   "execution_count": null,
   "id": "3516be4e",
   "metadata": {},
   "outputs": [],
   "source": [
    "experiment.plot_results(variables=[\"Market State\"])"
   ]
  },
  {
   "cell_type": "markdown",
   "id": "99fe7488",
   "metadata": {},
   "source": [
    "### Open Interest\n",
    "\n",
    "The Market Open Interest should be consistent across tested parameter values. Slight variation can be accredited to randomness from use of threads."
   ]
  },
  {
   "cell_type": "code",
   "execution_count": null,
   "id": "414938e1",
   "metadata": {},
   "outputs": [],
   "source": [
    "experiment.plot_results(variables=[\"Market Open Interest\"])"
   ]
  },
  {
   "cell_type": "markdown",
   "id": "5bc65e89",
   "metadata": {},
   "source": [
    "## Market-Maker Results"
   ]
  },
  {
   "cell_type": "markdown",
   "id": "671138bb",
   "metadata": {},
   "source": [
    "### Position\n",
    "\n",
    "The market-makers Position should be consistent across tested parameter values. Slight variation can be accredited to randomness from use of threads."
   ]
  },
  {
   "cell_type": "code",
   "execution_count": null,
   "id": "ab7b688e",
   "metadata": {},
   "outputs": [],
   "source": [
    "experiment.plot_results(variables=[\"LP: Position\"])"
   ]
  },
  {
   "cell_type": "markdown",
   "id": "aa710463",
   "metadata": {},
   "source": [
    "### Liquidity Fees\n",
    "\n",
    "As the network parameter `` is increased the market-makers liquidity fee shares and received liquidity fees should drop."
   ]
  },
  {
   "cell_type": "code",
   "execution_count": null,
   "id": "ba41f9d2",
   "metadata": {},
   "outputs": [],
   "source": [
    "experiment.plot_results(variables=[\"LP: Liquidity Fee Shares\", \"LP: Received Liquidity Fees\"], iterations=[\"avg\"])"
   ]
  },
  {
   "cell_type": "code",
   "execution_count": null,
   "id": "73444af8-2ec9-46c8-9665-ef233bb0be99",
   "metadata": {},
   "outputs": [],
   "source": []
  }
 ],
 "metadata": {
  "kernelspec": {
   "display_name": "Python 3 (ipykernel)",
   "language": "python",
   "name": "python3"
  },
  "language_info": {
   "codemirror_mode": {
    "name": "ipython",
    "version": 3
   },
   "file_extension": ".py",
   "mimetype": "text/x-python",
   "name": "python",
   "nbconvert_exporter": "python",
   "pygments_lexer": "ipython3",
   "version": "3.10.8"
  },
  "vscode": {
   "interpreter": {
    "hash": "290045affa00dd5165d3fe24c481c5729c6dad53632503a698ecc0053ee56db0"
   }
  }
 },
 "nbformat": 4,
 "nbformat_minor": 5
}
