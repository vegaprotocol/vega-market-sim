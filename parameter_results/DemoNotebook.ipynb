{
 "cells": [
  {
   "cell_type": "markdown",
   "id": "41b7ce68",
   "metadata": {},
   "source": [
    "# Example Notebook\n",
    "\n",
    "Used to demonstrate the `SingleParameterExperimentTk` class in `toolkit.py`\n"
   ]
  },
  {
   "cell_type": "markdown",
   "id": "cb1f77a6",
   "metadata": {},
   "source": [
    "## Importing\n",
    "\n",
    "Minimal imports are required to start using `SingleParameterExperimentTk` as imports are\n",
    "handled within the `toolkit.py` file.\n",
    "\n",
    "`os` can be useful as the path to the directory containing the experiment data must be\n",
    "passed as an argument to the `SingleParameterExperimentTk` class."
   ]
  },
  {
   "cell_type": "code",
   "execution_count": null,
   "id": "5e230b76",
   "metadata": {},
   "outputs": [],
   "source": [
    "import os\n",
    "from parameter_results.toolkit import SingleParameterExperimentTk"
   ]
  },
  {
   "cell_type": "markdown",
   "id": "4367aea6",
   "metadata": {},
   "source": [
    "## Creating\n",
    "\n",
    "To create a `SingleParameterExperimentTk` object; the `path` to the directory containing\n",
    "the experiment data must be passed as an argument as well as the time-step size `dt`.\n",
    "\n",
    "On object creation, all experiment data is automatically loaded into the following\n",
    "attributes:\n",
    "\n",
    "- `data_raw`: list of dataframes containing results for each parameter tested\n",
    "- `data_avg`: list of DataFrames containing results for each parameter tested averaged\n",
    "across al iterations\n",
    "- `data_lob`: list of DataFrames containing Limit-Order-Book results for each parameter\n",
    "tested\n",
    "\n",
    "A dictionary containing default widgets is also created for use in the notebook:\n",
    "- `widgets[\"param_value\"]`: Dropdown widget for selecting a parameter value\n",
    "- `widgets[\"iteration\"]`: Dropdown widget for selecting an iteration value\n",
    "- `widgets[\"variable\"]`: MultiSelect widget for selecting variables"
   ]
  },
  {
   "cell_type": "code",
   "execution_count": null,
   "id": "08ea72bf",
   "metadata": {},
   "outputs": [],
   "source": [
    "experiment = SingleParameterExperimentTk(\n",
    "    path=os.getcwd() + \"/StakeTargetScaling\",\n",
    "    dt=5/60\n",
    ")"
   ]
  },
  {
   "cell_type": "markdown",
   "id": "36f2c21c",
   "metadata": {},
   "source": [
    "## Widgets\n",
    "\n",
    "Widgets can be displayed in a notebook using the `display()` method."
   ]
  },
  {
   "cell_type": "code",
   "execution_count": null,
   "id": "b5f582aa",
   "metadata": {},
   "outputs": [],
   "source": [
    "experiment.display([\"variable\"])"
   ]
  },
  {
   "cell_type": "markdown",
   "id": "d6fd8372",
   "metadata": {},
   "source": [
    "Or by passing a list of widget keys to the `display()` method."
   ]
  },
  {
   "cell_type": "code",
   "execution_count": null,
   "id": "308e70ea",
   "metadata": {},
   "outputs": [],
   "source": [
    "experiment.display([\"param_value\", \"iteration\", \"variable\"])"
   ]
  },
  {
   "cell_type": "markdown",
   "id": "516c3785",
   "metadata": {},
   "source": [
    "The toolkit currently supports the following widgets:\n",
    "\n",
    "- `Dropdown`\n",
    "- `SelectedMultiple`\n",
    "\n",
    "(Note: all widgets can be passed `value` as an optional argument which can be useful for\n",
    "creating widgets with default selections.)"
   ]
  },
  {
   "cell_type": "code",
   "execution_count": null,
   "id": "3e027a87",
   "metadata": {},
   "outputs": [],
   "source": [
    "experiment.add_widget_selectmultiple(\n",
    "    key=\"left_axis_vars\",\n",
    "    des=\"Left Variables\",\n",
    "    options=experiment.data_avg[0].columns,\n",
    "    value=[\"External Midprice\", \"Markprice\"]\n",
    ")\n",
    "\n",
    "experiment.add_widget_selectmultiple(\n",
    "    key=\"right_axis_vars\",\n",
    "    des=\"Right Variables\",\n",
    "    options=experiment.data_avg[0].columns,\n",
    "    value=[\"Market Open Interest\"]\n",
    ")"
   ]
  },
  {
   "cell_type": "code",
   "execution_count": null,
   "id": "e260238f",
   "metadata": {},
   "outputs": [],
   "source": [
    "experiment.display([\"left_axis_vars\", \"right_axis_vars\"])"
   ]
  },
  {
   "cell_type": "markdown",
   "id": "0e9d41aa",
   "metadata": {},
   "source": [
    "## Methods:\n",
    "\n",
    "The `SingleParameterExperimentTk` class has a number of methods which can be used to\n",
    "visualise results from parameter experiments. These methods have been created with the\n",
    "intent of being general.\n",
    "\n",
    "\n",
    "The following utilities have already been built for the `SingleParameterExperimentTk`:\n",
    "- `plot_results()`: plots multiple specified variable results on individual plots\n",
    "- `plot_comparisons()`: plots multiple specified variables on the same plot\n",
    "\n",
    "Further utilities can be built using the following private methods:\n",
    "- `_add_plot()`: adds a plot to the specified axis\n",
    "\n"
   ]
  },
  {
   "cell_type": "markdown",
   "id": "5664011c",
   "metadata": {},
   "source": [
    "### `plot_results()`\n",
    "\n",
    "Class method can be used to plot variable results over multiple runs."
   ]
  },
  {
   "cell_type": "code",
   "execution_count": null,
   "id": "61684ce5",
   "metadata": {},
   "outputs": [],
   "source": [
    "experiment.plot_results(variables=[\"LP: RealisedPnl\"])"
   ]
  },
  {
   "cell_type": "markdown",
   "id": "44abf2e1",
   "metadata": {},
   "source": [
    "Default behaviour of plotting results for all iterations can be modified with the\n",
    "`iterations` argument."
   ]
  },
  {
   "cell_type": "code",
   "execution_count": null,
   "id": "542e91e7",
   "metadata": {},
   "outputs": [],
   "source": [
    "experiment.plot_results(variables=[\"LP: UnrealisedPnl\", \"LP: RealisedPnl\"], iterations=[0])"
   ]
  },
  {
   "cell_type": "markdown",
   "id": "7de186dd",
   "metadata": {},
   "source": [
    "Results averaged across all runs can be plotted by using \"avg\" in the `iterations`\n",
    "argument."
   ]
  },
  {
   "cell_type": "code",
   "execution_count": null,
   "metadata": {},
   "outputs": [],
   "source": [
    "experiment.plot_results(variables=[\"LP: UnrealisedPnl\", \"LP: RealisedPnl\"], iterations=[\"avg\"])"
   ]
  },
  {
   "cell_type": "markdown",
   "id": "dc7fb200",
   "metadata": {},
   "source": [
    "By default; if no `variables` argument passed, method uses the values selected in the\n",
    "`variable` MultipleSelection widget."
   ]
  },
  {
   "cell_type": "code",
   "execution_count": null,
   "id": "cc3b88e1",
   "metadata": {},
   "outputs": [],
   "source": [
    "experiment.display([\"variable\"])"
   ]
  },
  {
   "cell_type": "code",
   "execution_count": null,
   "id": "80d509ce",
   "metadata": {},
   "outputs": [],
   "source": [
    "experiment.plot_results()"
   ]
  },
  {
   "cell_type": "markdown",
   "id": "e2c54475",
   "metadata": {},
   "source": [
    "If `\"Market State\"` is included in a variables argument. The toolkit will\n",
    "automatically adjust the ticks for the relevant axis to a human readable format.§"
   ]
  },
  {
   "cell_type": "code",
   "execution_count": 21,
   "id": "581e6055",
   "metadata": {},
   "outputs": [
    {
     "data": {
      "image/png": "[encoded data removed]",
      "text/plain": [
       "<Figure size 1600x600 with 2 Axes>"
      ]
     },
     "metadata": {},
     "output_type": "display_data"
    }
   ],
   "source": [
    "experiment.plot_results(variables=[\"Market State\"])"
   ]
  },
  {
   "cell_type": "markdown",
   "id": "03668f49",
   "metadata": {},
   "source": [
    "### `plot_comparison()`:\n",
    "\n",
    "Class method can be used to plot multiple variables on either the left or right axis. By\n",
    "default it will split selected parameter values and iterations across subplots."
   ]
  },
  {
   "cell_type": "code",
   "execution_count": null,
   "id": "51d36b45",
   "metadata": {},
   "outputs": [],
   "source": [
    "experiment.plot_comparison(\n",
    "    variables=[\"Market Open Interest\"],\n",
    "    formats=[\"b-\"],\n",
    "    ylabel=\"Price\",\n",
    "    variables_right=[\"Target Stake\"],\n",
    "    formats_right=[\"r--\"],\n",
    "    ylabel_right=\"Target Stake\",\n",
    ")"
   ]
  },
  {
   "cell_type": "markdown",
   "id": "e5f86bcd",
   "metadata": {},
   "source": [
    "If `\"Market State\"` is included in a variables argument. The toolkit will\n",
    "automatically adjust the ticks for the relevant axis to a human readable format."
   ]
  },
  {
   "cell_type": "code",
   "execution_count": null,
   "id": "b0164c17",
   "metadata": {},
   "outputs": [],
   "source": [
    "experiment.plot_comparison(\n",
    "    variables=[\"External Midprice\", \"Markprice\"],\n",
    "    formats=[\"b-\", \"r:\"],\n",
    "    ylabel=\"Price\",\n",
    "    variables_right=[\"Market State\"],\n",
    "    formats_right=[\"k.\"],\n",
    "    ylabel_right=\"Market State\",\n",
    ")"
   ]
  }
 ],
 "metadata": {
  "kernelspec": {
   "display_name": "Python 3.10.6 ('vega-sim-6rZAmc0L-py3.10')",
   "language": "python",
   "name": "python3"
  },
  "language_info": {
   "codemirror_mode": {
    "name": "ipython",
    "version": 3
   },
   "file_extension": ".py",
   "mimetype": "text/x-python",
   "name": "python",
   "nbconvert_exporter": "python",
   "pygments_lexer": "ipython3",
   "version": "3.10.6"
  },
  "vscode": {
   "interpreter": {
    "hash": "613be1d7618c7d62b96d7f58c295208ded5f97ca423fa9edcba06d051567fcc8"
   }
  }
 },
 "nbformat": 4,
 "nbformat_minor": 5
}
