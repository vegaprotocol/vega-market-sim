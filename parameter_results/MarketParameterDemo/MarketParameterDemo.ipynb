{
 "cells": [
  {
   "cell_type": "code",
   "execution_count": null,
   "metadata": {},
   "outputs": [],
   "source": [
    "from parameter_results.toolkit import SingleParameterExperimentTk\n",
    "import os\n",
    "\n",
    "experiment = SingleParameterExperimentTk(path=os.getcwd(), dt=60)"
   ]
  },
  {
   "cell_type": "markdown",
   "metadata": {},
   "source": [
    "The `MarketParameterDemo` experiment varies the following market parameter:\n",
    "\n",
    "- `liquidity_monitoring_parameters.target_stake_parameters.scaling_factor`\n",
    " \n",
    "Expected behaviour is for the target stake to increase as the `scaling_factor` increases."
   ]
  },
  {
   "cell_type": "code",
   "execution_count": null,
   "metadata": {},
   "outputs": [],
   "source": [
    "experiment.plot_results(variables=[\"Target Stake\"])"
   ]
  }
 ],
 "metadata": {
  "kernelspec": {
   "display_name": "Python 3.10.6 ('.venv': poetry)",
   "language": "python",
   "name": "python3"
  },
  "language_info": {
   "codemirror_mode": {
    "name": "ipython",
    "version": 3
   },
   "file_extension": ".py",
   "mimetype": "text/x-python",
   "name": "python",
   "nbconvert_exporter": "python",
   "pygments_lexer": "ipython3",
   "version": "3.10.6"
  },
  "orig_nbformat": 4,
  "vscode": {
   "interpreter": {
    "hash": "290045affa00dd5165d3fe24c481c5729c6dad53632503a698ecc0053ee56db0"
   }
  }
 },
 "nbformat": 4,
 "nbformat_minor": 2
}
