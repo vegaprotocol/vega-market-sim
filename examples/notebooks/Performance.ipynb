{
 "cells": [
  {
   "cell_type": "code",
   "execution_count": 1,
   "metadata": {},
   "outputs": [],
   "source": [
    "%load_ext autoreload\n",
    "%autoreload 2"
   ]
  },
  {
   "cell_type": "code",
   "execution_count": 2,
   "metadata": {},
   "outputs": [],
   "source": [
    "from collections import namedtuple\n",
    "\n",
    "from vega_sim.null_service import VegaServiceNull\n"
   ]
  },
  {
   "cell_type": "code",
   "execution_count": 3,
   "metadata": {},
   "outputs": [],
   "source": [
    "WalletConfig = namedtuple(\"WalletConfig\", [\"name\", \"passphrase\"])\n",
    "\n",
    "# Set up parties in the market/ Submit liquidity provision/ Control midprice\n",
    "MM_WALLET = WalletConfig(\"mm\", \"pin\")\n",
    "\n",
    "# The party to send selling/buying MOs to hit LP orders\n",
    "TRADER_WALLET = WalletConfig(\"Zl3pLs6Xk6SwIK7Jlp2x\", \"bJQDDVGAhKkj3PVCc7Rr\")\n",
    "\n",
    "# The party randomly post LOs at buy/sell side to simulate real Market situation\n",
    "RANDOM_WALLET = WalletConfig(\"OJpVLvU5fgLJbhNPdESa\", \"GmJTt9Gk34BHDlovB7AJ\")\n",
    "\n",
    "# The party to terminate the market and send settlment price\n",
    "TERMINATE_WALLET = WalletConfig(\"FJMKnwfZdd48C8NqvYrG\", \"bY3DxwtsCstMIIZdNpKs\")\n",
    "\n",
    "wallets = [MM_WALLET, TRADER_WALLET, RANDOM_WALLET, TERMINATE_WALLET]"
   ]
  },
  {
   "cell_type": "code",
   "execution_count": 5,
   "metadata": {},
   "outputs": [
    {
     "name": "stdout",
     "output_type": "stream",
     "text": [
      "/var/folders/67/mjxp58z56yj83_1x0372gkwr0000gn/T/tmpfb3gcpxb\n"
     ]
    },
    {
     "name": "stderr",
     "output_type": "stream",
     "text": [
      "Using function with raw data from data-node VegaService.all_markets. Be wary if prices/positions are not converted from int form\n"
     ]
    }
   ],
   "source": [
    "vega = VegaServiceNull(run_with_console=False)\n",
    "vega.start()"
   ]
  },
  {
   "cell_type": "code",
   "execution_count": 6,
   "metadata": {},
   "outputs": [],
   "source": [
    "for wallet in wallets:\n",
    "    vega.create_wallet(wallet.name, wallet.passphrase)"
   ]
  },
  {
   "cell_type": "code",
   "execution_count": 7,
   "metadata": {},
   "outputs": [
    {
     "ename": "HTTPError",
     "evalue": "400 Client Error: Bad Request for url: http://localhost:61068/api/v1/mint",
     "output_type": "error",
     "traceback": [
      "\u001b[0;31m---------------------------------------------------------------------------\u001b[0m",
      "\u001b[0;31mHTTPError\u001b[0m                                 Traceback (most recent call last)",
      "\u001b[1;32m/Users/davidsiska/git-repos/github.com/vegaprotocol/vega-market-sim/examples/notebooks/Performance.ipynb Cell 6\u001b[0m in \u001b[0;36m<cell line: 1>\u001b[0;34m()\u001b[0m\n\u001b[0;32m----> <a href='vscode-notebook-cell:/Users/davidsiska/git-repos/github.com/vegaprotocol/vega-market-sim/examples/notebooks/Performance.ipynb#ch0000005?line=0'>1</a>\u001b[0m vega\u001b[39m.\u001b[39;49mmint(\n\u001b[1;32m      <a href='vscode-notebook-cell:/Users/davidsiska/git-repos/github.com/vegaprotocol/vega-market-sim/examples/notebooks/Performance.ipynb#ch0000005?line=1'>2</a>\u001b[0m     MM_WALLET\u001b[39m.\u001b[39;49mname,\n\u001b[1;32m      <a href='vscode-notebook-cell:/Users/davidsiska/git-repos/github.com/vegaprotocol/vega-market-sim/examples/notebooks/Performance.ipynb#ch0000005?line=2'>3</a>\u001b[0m     asset\u001b[39m=\u001b[39;49m\u001b[39m\"\u001b[39;49m\u001b[39mVOTE\u001b[39;49m\u001b[39m\"\u001b[39;49m,\n\u001b[1;32m      <a href='vscode-notebook-cell:/Users/davidsiska/git-repos/github.com/vegaprotocol/vega-market-sim/examples/notebooks/Performance.ipynb#ch0000005?line=3'>4</a>\u001b[0m     amount\u001b[39m=\u001b[39;49m\u001b[39m10000000000\u001b[39;49m,\n\u001b[1;32m      <a href='vscode-notebook-cell:/Users/davidsiska/git-repos/github.com/vegaprotocol/vega-market-sim/examples/notebooks/Performance.ipynb#ch0000005?line=4'>5</a>\u001b[0m )\n\u001b[1;32m      <a href='vscode-notebook-cell:/Users/davidsiska/git-repos/github.com/vegaprotocol/vega-market-sim/examples/notebooks/Performance.ipynb#ch0000005?line=6'>7</a>\u001b[0m vega\u001b[39m.\u001b[39mforward(\u001b[39m\"\u001b[39m\u001b[39m10s\u001b[39m\u001b[39m\"\u001b[39m)\n\u001b[1;32m      <a href='vscode-notebook-cell:/Users/davidsiska/git-repos/github.com/vegaprotocol/vega-market-sim/examples/notebooks/Performance.ipynb#ch0000005?line=7'>8</a>\u001b[0m vega\u001b[39m.\u001b[39mcreate_asset(\n\u001b[1;32m      <a href='vscode-notebook-cell:/Users/davidsiska/git-repos/github.com/vegaprotocol/vega-market-sim/examples/notebooks/Performance.ipynb#ch0000005?line=8'>9</a>\u001b[0m     MM_WALLET\u001b[39m.\u001b[39mname,\n\u001b[1;32m     <a href='vscode-notebook-cell:/Users/davidsiska/git-repos/github.com/vegaprotocol/vega-market-sim/examples/notebooks/Performance.ipynb#ch0000005?line=9'>10</a>\u001b[0m     name\u001b[39m=\u001b[39m\u001b[39m\"\u001b[39m\u001b[39mtDAI\u001b[39m\u001b[39m\"\u001b[39m,\n\u001b[0;32m   (...)\u001b[0m\n\u001b[1;32m     <a href='vscode-notebook-cell:/Users/davidsiska/git-repos/github.com/vegaprotocol/vega-market-sim/examples/notebooks/Performance.ipynb#ch0000005?line=12'>13</a>\u001b[0m     max_faucet_amount\u001b[39m=\u001b[39m\u001b[39m1e10\u001b[39m,\n\u001b[1;32m     <a href='vscode-notebook-cell:/Users/davidsiska/git-repos/github.com/vegaprotocol/vega-market-sim/examples/notebooks/Performance.ipynb#ch0000005?line=13'>14</a>\u001b[0m )\n",
      "File \u001b[0;32m~/git-repos/github.com/vegaprotocol/vega-market-sim/vega_sim/service.py:251\u001b[0m, in \u001b[0;36mVegaService.mint\u001b[0;34m(self, wallet_name, asset, amount)\u001b[0m\n\u001b[1;32m    240\u001b[0m \u001b[39m\"\"\"Mints a given amount of requested asset into the associated wallet\u001b[39;00m\n\u001b[1;32m    241\u001b[0m \n\u001b[1;32m    242\u001b[0m \u001b[39mArgs:\u001b[39;00m\n\u001b[0;32m   (...)\u001b[0m\n\u001b[1;32m    248\u001b[0m \u001b[39m        float, the amount of asset to mint\u001b[39;00m\n\u001b[1;32m    249\u001b[0m \u001b[39m\"\"\"\u001b[39;00m\n\u001b[1;32m    250\u001b[0m asset_decimals \u001b[39m=\u001b[39m \u001b[39mself\u001b[39m\u001b[39m.\u001b[39masset_decimals[asset]\n\u001b[0;32m--> 251\u001b[0m faucet\u001b[39m.\u001b[39;49mmint(\n\u001b[1;32m    252\u001b[0m     \u001b[39mself\u001b[39;49m\u001b[39m.\u001b[39;49mwallet\u001b[39m.\u001b[39;49mpublic_key(wallet_name),\n\u001b[1;32m    253\u001b[0m     asset,\n\u001b[1;32m    254\u001b[0m     num_to_padded_int(amount, asset_decimals),\n\u001b[1;32m    255\u001b[0m     faucet_url\u001b[39m=\u001b[39;49m\u001b[39mself\u001b[39;49m\u001b[39m.\u001b[39;49mfaucet_url,\n\u001b[1;32m    256\u001b[0m )\n\u001b[1;32m    257\u001b[0m \u001b[39mself\u001b[39m\u001b[39m.\u001b[39mwait_fn(\u001b[39m2\u001b[39m)\n",
      "File \u001b[0;32m~/git-repos/github.com/vegaprotocol/vega-market-sim/vega_sim/api/faucet.py:15\u001b[0m, in \u001b[0;36mmint\u001b[0;34m(pub_key, asset, amount, faucet_url)\u001b[0m\n\u001b[1;32m      8\u001b[0m payload \u001b[39m=\u001b[39m {\n\u001b[1;32m      9\u001b[0m     \u001b[39m\"\u001b[39m\u001b[39mparty\u001b[39m\u001b[39m\"\u001b[39m: pub_key,\n\u001b[1;32m     10\u001b[0m     \u001b[39m\"\u001b[39m\u001b[39mamount\u001b[39m\u001b[39m\"\u001b[39m: \u001b[39mstr\u001b[39m(\u001b[39mint\u001b[39m(amount)),\n\u001b[1;32m     11\u001b[0m     \u001b[39m\"\u001b[39m\u001b[39masset\u001b[39m\u001b[39m\"\u001b[39m: asset,\n\u001b[1;32m     12\u001b[0m }\n\u001b[1;32m     13\u001b[0m req \u001b[39m=\u001b[39m requests\u001b[39m.\u001b[39mpost(url, json\u001b[39m=\u001b[39mpayload)\n\u001b[0;32m---> 15\u001b[0m req\u001b[39m.\u001b[39;49mraise_for_status()\n",
      "File \u001b[0;32m/usr/local/miniforge3/envs/sim/lib/python3.10/site-packages/requests/models.py:1022\u001b[0m, in \u001b[0;36mResponse.raise_for_status\u001b[0;34m(self)\u001b[0m\n\u001b[1;32m   1017\u001b[0m     http_error_msg \u001b[39m=\u001b[39m (\n\u001b[1;32m   1018\u001b[0m         \u001b[39mf\u001b[39m\u001b[39m\"\u001b[39m\u001b[39m{\u001b[39;00m\u001b[39mself\u001b[39m\u001b[39m.\u001b[39mstatus_code\u001b[39m}\u001b[39;00m\u001b[39m Server Error: \u001b[39m\u001b[39m{\u001b[39;00mreason\u001b[39m}\u001b[39;00m\u001b[39m for url: \u001b[39m\u001b[39m{\u001b[39;00m\u001b[39mself\u001b[39m\u001b[39m.\u001b[39murl\u001b[39m}\u001b[39;00m\u001b[39m\"\u001b[39m\n\u001b[1;32m   1019\u001b[0m     )\n\u001b[1;32m   1021\u001b[0m \u001b[39mif\u001b[39;00m http_error_msg:\n\u001b[0;32m-> 1022\u001b[0m     \u001b[39mraise\u001b[39;00m HTTPError(http_error_msg, response\u001b[39m=\u001b[39m\u001b[39mself\u001b[39m)\n",
      "\u001b[0;31mHTTPError\u001b[0m: 400 Client Error: Bad Request for url: http://localhost:61068/api/v1/mint"
     ]
    }
   ],
   "source": [
    "vega.mint(\n",
    "    MM_WALLET.name,\n",
    "    asset=\"VOTE\",\n",
    "    amount=10000000000,\n",
    ")\n",
    "\n",
    "vega.forward(\"10s\")\n",
    "vega.create_asset(\n",
    "    MM_WALLET.name,\n",
    "    name=\"tDAI\",\n",
    "    symbol=\"tDAI\",\n",
    "    decimals=5,\n",
    "    max_faucet_amount=1e10,\n",
    ")"
   ]
  },
  {
   "cell_type": "code",
   "execution_count": null,
   "metadata": {},
   "outputs": [],
   "source": [
    "tdai_id = vega.find_asset_id(symbol=\"tDAI\")"
   ]
  },
  {
   "cell_type": "code",
   "execution_count": null,
   "metadata": {
    "tags": []
   },
   "outputs": [],
   "source": [
    "\n",
    "vega.mint(\n",
    "    MM_WALLET.name,\n",
    "    tdai_id,\n",
    "    amount=1e6\n",
    ")\n",
    "vega.mint(\n",
    "    TERMINATE_WALLET.name,\n",
    "    tdai_id,\n",
    "    amount=1e2\n",
    ")\n",
    "vega.mint(\n",
    "    RANDOM_WALLET.name,\n",
    "    tdai_id,\n",
    "    amount=1e6\n",
    ")"
   ]
  },
  {
   "cell_type": "code",
   "execution_count": null,
   "metadata": {},
   "outputs": [],
   "source": [
    "vega.create_simple_market(\n",
    "        market_name=\"BTC:DAI_Mar22\",\n",
    "        proposal_wallet=MM_WALLET.name,\n",
    "        settlement_asset_id=tdai_id,\n",
    "        termination_wallet=TERMINATE_WALLET.name,\n",
    "    )"
   ]
  },
  {
   "cell_type": "code",
   "execution_count": null,
   "metadata": {},
   "outputs": [],
   "source": [
    "market_id = vega.all_markets()[0].id"
   ]
  },
  {
   "cell_type": "code",
   "execution_count": null,
   "metadata": {},
   "outputs": [],
   "source": [
    "market_id"
   ]
  },
  {
   "cell_type": "code",
   "execution_count": null,
   "metadata": {},
   "outputs": [],
   "source": [
    "%%timeit\n",
    "vega.submit_order(\n",
    "    trading_wallet=RANDOM_WALLET.name,\n",
    "    market_id=market_id,\n",
    "    time_in_force=\"TIME_IN_FORCE_GTC\",\n",
    "    order_type=\"TYPE_LIMIT\",\n",
    "    side=\"SIDE_SELL\",\n",
    "    volume=1,\n",
    "    price=50000,\n",
    ")"
   ]
  },
  {
   "cell_type": "code",
   "execution_count": null,
   "metadata": {},
   "outputs": [],
   "source": [
    "%%timeit\n",
    "vega.submit_order(\n",
    "    trading_wallet=RANDOM_WALLET.name,\n",
    "    market_id=market_id,\n",
    "    time_in_force=\"TIME_IN_FORCE_GTC\",\n",
    "    order_type=\"TYPE_LIMIT\",\n",
    "    side=\"SIDE_SELL\",\n",
    "    volume=1,\n",
    "    price=50000,\n",
    "    wait=False\n",
    ")"
   ]
  },
  {
   "cell_type": "code",
   "execution_count": null,
   "metadata": {},
   "outputs": [],
   "source": [
    "%%timeit\n",
    "for _ in range(10):\n",
    "    vega.market_info(market_id=market_id)"
   ]
  },
  {
   "cell_type": "code",
   "execution_count": null,
   "metadata": {},
   "outputs": [],
   "source": []
  }
 ],
 "metadata": {
  "kernelspec": {
   "display_name": "Python 3.10.5 ('sim')",
   "language": "python",
   "name": "python3"
  },
  "language_info": {
   "codemirror_mode": {
    "name": "ipython",
    "version": 3
   },
   "file_extension": ".py",
   "mimetype": "text/x-python",
   "name": "python",
   "nbconvert_exporter": "python",
   "pygments_lexer": "ipython3",
   "version": "3.10.5"
  },
  "vscode": {
   "interpreter": {
    "hash": "9068ccf1de4887af20e553bb0f136ba360e9f0490ad6f851d5d4e487c8ec3e60"
   }
  }
 },
 "nbformat": 4,
 "nbformat_minor": 4
}
