{
 "cells": [
  {
   "cell_type": "code",
   "execution_count": 1,
   "metadata": {},
   "outputs": [],
   "source": [
    "%load_ext autoreload\n",
    "%autoreload 2"
   ]
  },
  {
   "cell_type": "code",
   "execution_count": 2,
   "metadata": {},
   "outputs": [],
   "source": [
    "from collections import namedtuple\n",
    "\n",
    "from vega_sim.null_service import VegaServiceNull\n"
   ]
  },
  {
   "cell_type": "code",
   "execution_count": 3,
   "metadata": {},
   "outputs": [],
   "source": [
    "WalletConfig = namedtuple(\"WalletConfig\", [\"name\", \"passphrase\"])\n",
    "\n",
    "# Set up parties in the market/ Submit liquidity provision/ Control midprice\n",
    "MM_WALLET = WalletConfig(\"mm\", \"pin\")\n",
    "\n",
    "# The party to send selling/buying MOs to hit LP orders\n",
    "TRADER_WALLET = WalletConfig(\"Zl3pLs6Xk6SwIK7Jlp2x\", \"bJQDDVGAhKkj3PVCc7Rr\")\n",
    "\n",
    "# The party randomly post LOs at buy/sell side to simulate real Market situation\n",
    "RANDOM_WALLET = WalletConfig(\"OJpVLvU5fgLJbhNPdESa\", \"GmJTt9Gk34BHDlovB7AJ\")\n",
    "\n",
    "# The party to terminate the market and send settlment price\n",
    "TERMINATE_WALLET = WalletConfig(\"FJMKnwfZdd48C8NqvYrG\", \"bY3DxwtsCstMIIZdNpKs\")\n",
    "\n",
    "wallets = [MM_WALLET, TRADER_WALLET, RANDOM_WALLET, TERMINATE_WALLET]"
   ]
  },
  {
   "cell_type": "code",
   "execution_count": 4,
   "metadata": {},
   "outputs": [],
   "source": [
    "vega = VegaServiceNull(run_wallet_with_console=True)\n",
    "vega.start()"
   ]
  },
  {
   "cell_type": "code",
   "execution_count": 5,
   "metadata": {},
   "outputs": [],
   "source": [
    "for wallet in wallets:\n",
    "    vega.create_wallet(wallet.name, wallet.passphrase)"
   ]
  },
  {
   "cell_type": "code",
   "execution_count": 6,
   "metadata": {},
   "outputs": [],
   "source": [
    "vega.mint(\n",
    "    MM_WALLET.name,\n",
    "    asset=\"VOTE\",\n",
    "    amount=10000000000,\n",
    ")\n",
    "\n",
    "vega.forward(\"10s\")\n",
    "vega.create_asset(\n",
    "    MM_WALLET.name,\n",
    "    name=\"tDAI\",\n",
    "    symbol=\"tDAI\",\n",
    "    decimals=5,\n",
    "    max_faucet_amount=1e10,\n",
    ")"
   ]
  },
  {
   "cell_type": "code",
   "execution_count": 7,
   "metadata": {},
   "outputs": [],
   "source": [
    "tdai_id = vega.find_asset_id(symbol=\"tDAI\")"
   ]
  },
  {
   "cell_type": "code",
   "execution_count": 8,
   "metadata": {
    "tags": []
   },
   "outputs": [],
   "source": [
    "\n",
    "vega.mint(\n",
    "    MM_WALLET.name,\n",
    "    tdai_id,\n",
    "    amount=1e6\n",
    ")\n",
    "vega.mint(\n",
    "    TERMINATE_WALLET.name,\n",
    "    tdai_id,\n",
    "    amount=1e2\n",
    ")\n",
    "vega.mint(\n",
    "    RANDOM_WALLET.name,\n",
    "    tdai_id,\n",
    "    amount=1e6\n",
    ")"
   ]
  },
  {
   "cell_type": "code",
   "execution_count": 9,
   "metadata": {},
   "outputs": [],
   "source": [
    "vega.create_simple_market(\n",
    "        market_name=\"BTC:DAI_Mar22\",\n",
    "        proposal_wallet=MM_WALLET.name,\n",
    "        settlement_asset_id=tdai_id,\n",
    "        termination_wallet=TERMINATE_WALLET.name,\n",
    "    )"
   ]
  },
  {
   "cell_type": "code",
   "execution_count": 10,
   "metadata": {},
   "outputs": [],
   "source": [
    "market_id = vega.all_markets()[0].id"
   ]
  },
  {
   "cell_type": "code",
   "execution_count": 11,
   "metadata": {},
   "outputs": [
    {
     "data": {
      "text/plain": [
       "'c4141503a6fbf8b64dc9cbfec1d40a91ce012908af8b8af206d89d50aad204c4'"
      ]
     },
     "execution_count": 11,
     "metadata": {},
     "output_type": "execute_result"
    }
   ],
   "source": [
    "market_id"
   ]
  },
  {
   "cell_type": "code",
   "execution_count": 21,
   "metadata": {},
   "outputs": [
    {
     "name": "stdout",
     "output_type": "stream",
     "text": [
      "3.68 ms ± 402 µs per loop (mean ± std. dev. of 7 runs, 100 loops each)\n"
     ]
    }
   ],
   "source": [
    "%%timeit\n",
    "vega.submit_order(\n",
    "    trading_wallet=RANDOM_WALLET.name,\n",
    "    market_id=market_id,\n",
    "    time_in_force=\"TIME_IN_FORCE_GTC\",\n",
    "    order_type=\"TYPE_LIMIT\",\n",
    "    side=\"SIDE_SELL\",\n",
    "    volume=1,\n",
    "    price=50000,\n",
    ")"
   ]
  },
  {
   "cell_type": "code",
   "execution_count": 22,
   "metadata": {},
   "outputs": [
    {
     "name": "stdout",
     "output_type": "stream",
     "text": [
      "2.91 ms ± 248 µs per loop (mean ± std. dev. of 7 runs, 100 loops each)\n"
     ]
    }
   ],
   "source": [
    "%%timeit\n",
    "vega.submit_order(\n",
    "    trading_wallet=RANDOM_WALLET.name,\n",
    "    market_id=market_id,\n",
    "    time_in_force=\"TIME_IN_FORCE_GTC\",\n",
    "    order_type=\"TYPE_LIMIT\",\n",
    "    side=\"SIDE_SELL\",\n",
    "    volume=1,\n",
    "    price=50000,\n",
    "    wait=False\n",
    ")"
   ]
  },
  {
   "cell_type": "code",
   "execution_count": 29,
   "metadata": {},
   "outputs": [
    {
     "name": "stdout",
     "output_type": "stream",
     "text": [
      "2.2 ms ± 92.4 µs per loop (mean ± std. dev. of 7 runs, 100 loops each)\n"
     ]
    }
   ],
   "source": [
    "%%timeit\n",
    "for _ in range(10):\n",
    "    vega.market_info(market_id=market_id)"
   ]
  },
  {
   "cell_type": "code",
   "execution_count": 31,
   "metadata": {},
   "outputs": [
    {
     "name": "stderr",
     "output_type": "stream",
     "text": [
      "[autoreload of vega_sim.service failed: Traceback (most recent call last):\n",
      "  File \"/Users/tom/.local/share/virtualenvs/vega-market-sim-Rx-j5lal/lib/python3.9/site-packages/IPython/extensions/autoreload.py\", line 257, in check\n",
      "    superreload(m, reload, self.old_objects)\n",
      "  File \"/Users/tom/.local/share/virtualenvs/vega-market-sim-Rx-j5lal/lib/python3.9/site-packages/IPython/extensions/autoreload.py\", line 455, in superreload\n",
      "    module = reload(module)\n",
      "  File \"/Users/tom/.pyenv/versions/3.9.11/lib/python3.9/importlib/__init__.py\", line 169, in reload\n",
      "    _bootstrap._exec(spec, module)\n",
      "  File \"<frozen importlib._bootstrap>\", line 613, in _exec\n",
      "  File \"<frozen importlib._bootstrap_external>\", line 846, in exec_module\n",
      "  File \"<frozen importlib._bootstrap_external>\", line 983, in get_code\n",
      "  File \"<frozen importlib._bootstrap_external>\", line 913, in source_to_code\n",
      "  File \"<frozen importlib._bootstrap>\", line 228, in _call_with_frames_removed\n",
      "  File \"/Users/tom/Code/vega-market-sim/vega_sim/service.py\", line 653\n",
      "    def find_asset_id(self, symbol: str, raise_on_missing: bool = False) -> str:\n",
      "    ^\n",
      "SyntaxError: invalid syntax\n",
      "]\n"
     ]
    },
    {
     "data": {
      "text/plain": [
       "id: \"c4141503a6fbf8b64dc9cbfec1d40a91ce012908af8b8af206d89d50aad204c4\"\n",
       "tradable_instrument {\n",
       "  instrument {\n",
       "    code: \"BTC:DAI_Mar22\"\n",
       "    name: \"BTC:DAI_Mar22\"\n",
       "    metadata {\n",
       "      tags: \"base:BTC\"\n",
       "    }\n",
       "    future {\n",
       "      settlement_asset: \"42672ba8f605d9e51b1f9c399863c6e7feddb0a493f930ab3924422c68b5061a\"\n",
       "      quote_name: \"BTC\"\n",
       "      oracle_spec_for_settlement_price {\n",
       "        id: \"d4bb865071002ab1e7a7d5160b7d6c419f67d5d304e26611f2b1f2e06e94c47d\"\n",
       "        pub_keys: \"c5f874313d65a78bc2eba2ecf7780b024c5f74a9aedfe4be38cd39779896a6f2\"\n",
       "        filters {\n",
       "          key {\n",
       "            name: \"price.BTC.value\"\n",
       "            type: TYPE_INTEGER\n",
       "          }\n",
       "        }\n",
       "      }\n",
       "      oracle_spec_for_trading_termination {\n",
       "        id: \"f24f5f9b18f6054b8834b71b4ae3d46e55eca2cdec443c1932e8b38bd31879da\"\n",
       "        pub_keys: \"c5f874313d65a78bc2eba2ecf7780b024c5f74a9aedfe4be38cd39779896a6f2\"\n",
       "        filters {\n",
       "          key {\n",
       "            name: \"trading.terminated\"\n",
       "            type: TYPE_BOOLEAN\n",
       "          }\n",
       "        }\n",
       "      }\n",
       "      oracle_spec_binding {\n",
       "        settlement_price_property: \"price.BTC.value\"\n",
       "        trading_termination_property: \"trading.terminated\"\n",
       "      }\n",
       "    }\n",
       "  }\n",
       "  margin_calculator {\n",
       "    scaling_factors {\n",
       "      search_level: 1.1\n",
       "      initial_margin: 1.2\n",
       "      collateral_release: 1.4\n",
       "    }\n",
       "  }\n",
       "  log_normal_risk_model {\n",
       "    risk_aversion_parameter: 0.01\n",
       "    tau: 1.90128526884173e-06\n",
       "    params {\n",
       "      r: 0.016\n",
       "      sigma: 1.5\n",
       "    }\n",
       "  }\n",
       "}\n",
       "decimal_places: 5\n",
       "fees {\n",
       "  factors {\n",
       "    maker_fee: \"0.001\"\n",
       "    infrastructure_fee: \"0.001\"\n",
       "    liquidity_fee: \"0.002\"\n",
       "  }\n",
       "}\n",
       "opening_auction {\n",
       "  duration: 359\n",
       "}\n",
       "price_monitoring_settings {\n",
       "  parameters {\n",
       "  }\n",
       "  update_frequency: 60\n",
       "}\n",
       "liquidity_monitoring_parameters {\n",
       "  target_stake_parameters {\n",
       "    time_window: 3600\n",
       "    scaling_factor: 100.0\n",
       "  }\n",
       "  auction_extension: 1\n",
       "}\n",
       "trading_mode: TRADING_MODE_CONTINUOUS\n",
       "state: STATE_ACTIVE\n",
       "market_timestamps {\n",
       "  proposed: 1638185425259066000\n",
       "  pending: 1638185425259066000\n",
       "  open: 1638185425259066359\n",
       "}"
      ]
     },
     "execution_count": 31,
     "metadata": {},
     "output_type": "execute_result"
    }
   ],
   "source": [
    "vega.market_info(market_id=market_id)"
   ]
  }
 ],
 "metadata": {
  "interpreter": {
   "hash": "87b20bb796d189f13d9ce00805651be06d69b84ebb9e8b04acadd5416d612a7f"
  },
  "kernelspec": {
   "display_name": "Python 3 (ipykernel)",
   "language": "python",
   "name": "python3"
  },
  "language_info": {
   "codemirror_mode": {
    "name": "ipython",
    "version": 3
   },
   "file_extension": ".py",
   "mimetype": "text/x-python",
   "name": "python",
   "nbconvert_exporter": "python",
   "pygments_lexer": "ipython3",
   "version": "3.9.11"
  }
 },
 "nbformat": 4,
 "nbformat_minor": 4
}
