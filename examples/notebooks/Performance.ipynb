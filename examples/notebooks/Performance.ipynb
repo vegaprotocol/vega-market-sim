{
 "cells": [
  {
   "cell_type": "code",
   "execution_count": null,
   "metadata": {},
   "outputs": [],
   "source": [
    "%load_ext autoreload\n",
    "%autoreload 2"
   ]
  },
  {
   "cell_type": "code",
   "execution_count": null,
   "metadata": {},
   "outputs": [],
   "source": [
    "from collections import namedtuple\n",
    "\n",
    "from vega_sim.null_service import VegaServiceNull\n"
   ]
  },
  {
   "cell_type": "code",
   "execution_count": null,
   "metadata": {},
   "outputs": [],
   "source": [
    "WalletConfig = namedtuple(\"WalletConfig\", [\"name\", \"passphrase\"])\n",
    "\n",
    "# Set up parties in the market/ Submit liquidity provision/ Control midprice\n",
    "MM_WALLET = WalletConfig(\"mm\", \"pin\")\n",
    "\n",
    "# The party to send selling/buying MOs to hit LP orders\n",
    "TRADER_WALLET = WalletConfig(\"Zl3pLs6Xk6SwIK7Jlp2x\", \"bJQDDVGAhKkj3PVCc7Rr\")\n",
    "\n",
    "# The party randomly post LOs at buy/sell side to simulate real Market situation\n",
    "RANDOM_WALLET = WalletConfig(\"OJpVLvU5fgLJbhNPdESa\", \"GmJTt9Gk34BHDlovB7AJ\")\n",
    "\n",
    "# The party to terminate the market and send settlment price\n",
    "TERMINATE_WALLET = WalletConfig(\"FJMKnwfZdd48C8NqvYrG\", \"bY3DxwtsCstMIIZdNpKs\")\n",
    "\n",
    "wallets = [MM_WALLET, TRADER_WALLET, RANDOM_WALLET, TERMINATE_WALLET]"
   ]
  },
  {
   "cell_type": "code",
   "execution_count": null,
   "metadata": {},
   "outputs": [],
   "source": [
    "vega = VegaServiceNull(run_with_console=False,warn_on_raw_data_access=False, transactions_per_block=5)\n",
    "vega.start()"
   ]
  },
  {
   "cell_type": "code",
   "execution_count": null,
   "metadata": {},
   "outputs": [],
   "source": [
    "for wallet in wallets:\n",
    "    vega.create_wallet(wallet.name, wallet.passphrase)"
   ]
  },
  {
   "cell_type": "code",
   "execution_count": null,
   "metadata": {},
   "outputs": [],
   "source": [
    "vega.mint(\n",
    "    MM_WALLET.name,\n",
    "    asset=\"VOTE\",\n",
    "    amount=10000,\n",
    ")\n",
    "\n",
    "vega.forward(\"10s\")\n",
    "vega.create_asset(\n",
    "    MM_WALLET.name,\n",
    "    name=\"tDAI\",\n",
    "    symbol=\"tDAI\",\n",
    "    decimals=5,\n",
    "    max_faucet_amount=1e10,\n",
    ")\n",
    "vega.wait_fn(10)"
   ]
  },
  {
   "cell_type": "code",
   "execution_count": null,
   "metadata": {},
   "outputs": [],
   "source": [
    "tdai_id = vega.find_asset_id(symbol=\"tDAI\")"
   ]
  },
  {
   "cell_type": "code",
   "execution_count": null,
   "metadata": {
    "tags": []
   },
   "outputs": [],
   "source": [
    "\n",
    "vega.mint(\n",
    "    MM_WALLET.name,\n",
    "    tdai_id,\n",
    "    amount=1e3\n",
    ")\n",
    "vega.mint(\n",
    "    TERMINATE_WALLET.name,\n",
    "    tdai_id,\n",
    "    amount=1e3\n",
    ")\n",
    "vega.mint(\n",
    "    RANDOM_WALLET.name,\n",
    "    tdai_id,\n",
    "    amount=1e3\n",
    ")"
   ]
  },
  {
   "cell_type": "code",
   "execution_count": null,
   "metadata": {},
   "outputs": [],
   "source": [
    "vega.create_simple_market(\n",
    "        market_name=\"BTC:DAI_Mar22\",\n",
    "        proposal_wallet=MM_WALLET.name,\n",
    "        settlement_asset_id=tdai_id,\n",
    "        termination_wallet=TERMINATE_WALLET.name,\n",
    "    )"
   ]
  },
  {
   "cell_type": "code",
   "execution_count": null,
   "metadata": {},
   "outputs": [],
   "source": [
    "market_id = vega.all_markets()[0].id"
   ]
  },
  {
   "cell_type": "code",
   "execution_count": null,
   "metadata": {},
   "outputs": [],
   "source": [
    "market_id"
   ]
  },
  {
   "cell_type": "code",
   "execution_count": null,
   "metadata": {},
   "outputs": [],
   "source": [
    "%%timeit\n",
    "vega.submit_order(\n",
    "    trading_wallet=RANDOM_WALLET.name,\n",
    "    market_id=market_id,\n",
    "    time_in_force=\"TIME_IN_FORCE_GTC\",\n",
    "    order_type=\"TYPE_LIMIT\",\n",
    "    side=\"SIDE_SELL\",\n",
    "    volume=1,\n",
    "    price=5,\n",
    ")"
   ]
  },
  {
   "cell_type": "code",
   "execution_count": null,
   "metadata": {},
   "outputs": [],
   "source": [
    "%%timeit\n",
    "vega.submit_order(\n",
    "    trading_wallet=RANDOM_WALLET.name,\n",
    "    market_id=market_id,\n",
    "    time_in_force=\"TIME_IN_FORCE_GTC\",\n",
    "    order_type=\"TYPE_LIMIT\",\n",
    "    side=\"SIDE_SELL\",\n",
    "    volume=1,\n",
    "    price=5,\n",
    "    wait=False\n",
    ")"
   ]
  },
  {
   "cell_type": "code",
   "execution_count": null,
   "metadata": {},
   "outputs": [],
   "source": [
    "%%timeit\n",
    "for _ in range(10):\n",
    "    vega.market_info(market_id=market_id)"
   ]
  },
  {
   "cell_type": "code",
   "execution_count": null,
   "metadata": {},
   "outputs": [],
   "source": [
    "vega.stop()"
   ]
  },
  {
   "cell_type": "code",
   "execution_count": null,
   "metadata": {},
   "outputs": [],
   "source": []
  }
 ],
 "metadata": {
  "kernelspec": {
   "display_name": "Python 3 (ipykernel)",
   "language": "python",
   "name": "python3"
  },
  "language_info": {
   "codemirror_mode": {
    "name": "ipython",
    "version": 3
   },
   "file_extension": ".py",
   "mimetype": "text/x-python",
   "name": "python",
   "nbconvert_exporter": "python",
   "pygments_lexer": "ipython3",
   "version": "3.10.5"
  },
  "vscode": {
   "interpreter": {
    "hash": "9068ccf1de4887af20e553bb0f136ba360e9f0490ad6f851d5d4e487c8ec3e60"
   }
  }
 },
 "nbformat": 4,
 "nbformat_minor": 4
}
