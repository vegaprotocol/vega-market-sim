{
 "cells": [
  {
   "cell_type": "code",
   "execution_count": null,
   "id": "77274a4d-2cc1-4edc-8ac5-edb54a320afe",
   "metadata": {},
   "outputs": [],
   "source": [
    "%load_ext autoreload\n",
    "%autoreload 2"
   ]
  },
  {
   "cell_type": "code",
   "execution_count": null,
   "id": "e3bbce86-d6dc-443c-b5df-6d11c14779a4",
   "metadata": {},
   "outputs": [],
   "source": [
    "import logging\n",
    "from multiprocessing import Pool\n",
    "import datetime\n",
    "from typing import List, Optional\n",
    "\n",
    "from examples.agent_market.agents import (\n",
    "    MM_WALLET,\n",
    "    TERMINATE_WALLET,\n",
    "    TRADER_1_WALLET,\n",
    "    TRADER_2_WALLET,\n",
    "    TRADER_3_WALLET,\n",
    "    TRADER_4_WALLET,\n",
    "    MarketMaker,\n",
    "    MarketOrderTraders,\n",
    "    random_walk_price,\n",
    "    StateAgentWithWallet\n",
    ")\n",
    "from vega_sim.environment import MarketEnvironmentWithState\n",
    "from vega_sim.null_service import VegaServiceNull\n",
    "\n",
    "trader_wallets = [\n",
    "    TRADER_1_WALLET,\n",
    "    TRADER_2_WALLET,\n",
    "    TRADER_3_WALLET,\n",
    "    TRADER_4_WALLET\n",
    "]"
   ]
  },
  {
   "cell_type": "code",
   "execution_count": null,
   "id": "e2ed7047-3d83-4e42-800d-b88faa691387",
   "metadata": {},
   "outputs": [],
   "source": [
    "def build_env(\n",
    "    num_steps: int = 60,\n",
    "    block_size: int = 1,\n",
    "    order_arrival_rate: float = 2,\n",
    "    vega: Optional[VegaServiceNull] = None,\n",
    "    state_extraction_fn = None\n",
    "):\n",
    "    market_maker = MarketMaker(\n",
    "        wallet_name=MM_WALLET.name,\n",
    "        wallet_pass=MM_WALLET.passphrase,\n",
    "        terminate_wallet_name=TERMINATE_WALLET.name,\n",
    "        terminate_wallet_pass=TERMINATE_WALLET.passphrase,\n",
    "        price_process=random_walk_price(\n",
    "            terminal_time_seconds=num_steps + 10, sigma=0.001, initial_price=20, min_price=2\n",
    "        ),\n",
    "        spread=0.2,\n",
    "    )\n",
    "    mo_traders = [StateAgentWithWallet(w.name, w.passphrase) for w in trader_wallets]\n",
    "    mo_trader_agent = MarketOrderTraders(\n",
    "        mo_traders[:1],\n",
    "        buy_order_arrival_rate=order_arrival_rate,\n",
    "    )\n",
    "    env = MarketEnvironmentWithState(\n",
    "        agents=[market_maker, mo_trader_agent],\n",
    "        n_steps=num_steps,\n",
    "        transactions_per_block=block_size,\n",
    "        vega_service=vega,\n",
    "        state_extraction_fn=state_extraction_fn\n",
    "    )\n",
    "    return env"
   ]
  },
  {
   "cell_type": "code",
   "execution_count": null,
   "id": "4b1a7062-7612-49ca-b69b-4ae0f542ffa7",
   "metadata": {},
   "outputs": [],
   "source": [
    "with VegaServiceNull(warn_on_raw_data_access=False, use_full_vega_wallet=False, run_with_console=False, start_order_feed=True) as vega:\n",
    "    import time\n",
    "    time.sleep(2)\n",
    "    print(vega.wallet_url)\n",
    "    print(vega.data_node_graphql_port)\n",
    "    env = build_env(\n",
    "        **{\n",
    "            \"num_steps\": int(1 * 60),\n",
    "            \"block_size\": 10,\n",
    "            \"vega\": vega,\n",
    "            \"state_extraction_fn\": lambda veg, agents: (veg.best_prices(agents[0].market_id), veg.party_account(agents[1].market_agents[0].wallet_name, agents[0].asset_id, agents[0].market_id))\n",
    "        },\n",
    "    )\n",
    "    results = env.run(run_with_console=False, pause_at_completion=False)"
   ]
  },
  {
   "cell_type": "code",
   "execution_count": null,
   "id": "e407f9c2-7dba-411a-9846-eaf145cfb846",
   "metadata": {},
   "outputs": [],
   "source": [
    "import numpy as np"
   ]
  },
  {
   "cell_type": "code",
   "execution_count": null,
   "id": "e4895eac-78a0-4db4-bc9f-636acc9891c3",
   "metadata": {},
   "outputs": [],
   "source": [
    "res = np.array([r[0] for r in results])\n",
    "bids = res[:, 0]\n",
    "asks = res[:, 1]"
   ]
  },
  {
   "cell_type": "code",
   "execution_count": null,
   "id": "5962cc87-9512-454d-8e27-557198a4ff99",
   "metadata": {},
   "outputs": [],
   "source": [
    "import matplotlib.pyplot as plt"
   ]
  },
  {
   "cell_type": "code",
   "execution_count": null,
   "id": "1e747961-06b7-4bce-a829-f581b89ae608",
   "metadata": {},
   "outputs": [],
   "source": [
    "plt.plot(bids)\n",
    "plt.plot(asks)\n",
    "plt.show()"
   ]
  },
  {
   "cell_type": "code",
   "execution_count": null,
   "id": "02d3a155",
   "metadata": {},
   "outputs": [],
   "source": []
  }
 ],
 "metadata": {
  "kernelspec": {
   "display_name": "Python 3.10.5",
   "language": "python",
   "name": "python3"
  },
  "language_info": {
   "codemirror_mode": {
    "name": "ipython",
    "version": 3
   },
   "file_extension": ".py",
   "mimetype": "text/x-python",
   "name": "python",
   "nbconvert_exporter": "python",
   "pygments_lexer": "ipython3",
   "version": "3.10.5"
  },
  "vscode": {
   "interpreter": {
    "hash": "9068ccf1de4887af20e553bb0f136ba360e9f0490ad6f851d5d4e487c8ec3e60"
   }
  }
 },
 "nbformat": 4,
 "nbformat_minor": 5
}
