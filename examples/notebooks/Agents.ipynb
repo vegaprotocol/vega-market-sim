{
 "cells": [
  {
   "cell_type": "code",
   "execution_count": 1,
   "id": "77274a4d-2cc1-4edc-8ac5-edb54a320afe",
   "metadata": {},
   "outputs": [],
   "source": [
    "%load_ext autoreload\n",
    "%autoreload 2"
   ]
  },
  {
   "cell_type": "code",
   "execution_count": 2,
   "id": "e3bbce86-d6dc-443c-b5df-6d11c14779a4",
   "metadata": {},
   "outputs": [],
   "source": [
    "import logging\n",
    "from multiprocessing import Pool\n",
    "import datetime\n",
    "from typing import List, Optional\n",
    "\n",
    "from examples.agent_market.agents import (\n",
    "    MM_WALLET,\n",
    "    TERMINATE_WALLET,\n",
    "    TRADER_1_WALLET,\n",
    "    TRADER_2_WALLET,\n",
    "    TRADER_3_WALLET,\n",
    "    TRADER_4_WALLET,\n",
    "    MarketMaker,\n",
    "    MarketOrderTraders,\n",
    "    random_walk_price,\n",
    "    StateAgentWithWallet\n",
    ")\n",
    "from vega_sim.environment import MarketEnvironmentWithState\n",
    "from vega_sim.null_service import VegaServiceNull\n",
    "\n",
    "trader_wallets = [\n",
    "    TRADER_1_WALLET,\n",
    "    TRADER_2_WALLET,\n",
    "    TRADER_3_WALLET,\n",
    "    TRADER_4_WALLET\n",
    "]"
   ]
  },
  {
   "cell_type": "code",
   "execution_count": 3,
   "id": "e2ed7047-3d83-4e42-800d-b88faa691387",
   "metadata": {},
   "outputs": [],
   "source": [
    "def build_env(\n",
    "    num_steps: int = 60,\n",
    "    block_size: int = 1,\n",
    "    order_arrival_rate: float = 2,\n",
    "    vega: Optional[VegaServiceNull] = None,\n",
    "    state_extraction_fn = None\n",
    "):\n",
    "    market_maker = MarketMaker(\n",
    "        wallet_name=MM_WALLET.name,\n",
    "        wallet_pass=MM_WALLET.passphrase,\n",
    "        terminate_wallet_name=TERMINATE_WALLET.name,\n",
    "        terminate_wallet_pass=TERMINATE_WALLET.passphrase,\n",
    "        price_process=random_walk_price(\n",
    "            terminal_time_seconds=num_steps + 10, sigma=0.001, initial_price=20, min_price=2\n",
    "        ),\n",
    "        spread=0.2,\n",
    "    )\n",
    "    mo_traders = [StateAgentWithWallet(w.name, w.passphrase) for w in trader_wallets]\n",
    "    mo_trader_agent = MarketOrderTraders(\n",
    "        mo_traders[:1],\n",
    "        buy_order_arrival_rate=order_arrival_rate,\n",
    "    )\n",
    "    env = MarketEnvironmentWithState(\n",
    "        agents=[market_maker, mo_trader_agent],\n",
    "        n_steps=num_steps,\n",
    "        transactions_per_block=block_size,\n",
    "        vega_service=vega,\n",
    "        state_extraction_fn=state_extraction_fn\n",
    "    )\n",
    "    return env"
   ]
  },
  {
   "cell_type": "code",
   "execution_count": 4,
   "id": "4b1a7062-7612-49ca-b69b-4ae0f542ffa7",
   "metadata": {},
   "outputs": [
    {
     "name": "stdout",
     "output_type": "stream",
     "text": [
      "/var/folders/67/mjxp58z56yj83_1x0372gkwr0000gn/T/tmpkex64tcy\n",
      "http://localhost:57878\n",
      "57881\n",
      "step: 0\n"
     ]
    },
    {
     "ename": "KeyError",
     "evalue": "'492eba9b25f2a8795cba689de509b4c1ab3decf3be626b5590109f0779b69bd5'",
     "output_type": "error",
     "traceback": [
      "\u001b[0;31m---------------------------------------------------------------------------\u001b[0m",
      "\u001b[0;31mKeyError\u001b[0m                                  Traceback (most recent call last)",
      "\u001b[1;32m/Users/davidsiska/git-repos/github.com/vegaprotocol/vega-market-sim/examples/notebooks/Agents.ipynb Cell 4'\u001b[0m in \u001b[0;36m<cell line: 1>\u001b[0;34m()\u001b[0m\n\u001b[1;32m      <a href='vscode-notebook-cell:/Users/davidsiska/git-repos/github.com/vegaprotocol/vega-market-sim/examples/notebooks/Agents.ipynb#ch0000003?line=4'>5</a>\u001b[0m \u001b[39mprint\u001b[39m(vega\u001b[39m.\u001b[39mdata_node_graphql_port)\n\u001b[1;32m      <a href='vscode-notebook-cell:/Users/davidsiska/git-repos/github.com/vegaprotocol/vega-market-sim/examples/notebooks/Agents.ipynb#ch0000003?line=5'>6</a>\u001b[0m env \u001b[39m=\u001b[39m build_env(\n\u001b[1;32m      <a href='vscode-notebook-cell:/Users/davidsiska/git-repos/github.com/vegaprotocol/vega-market-sim/examples/notebooks/Agents.ipynb#ch0000003?line=6'>7</a>\u001b[0m     \u001b[39m*\u001b[39m\u001b[39m*\u001b[39m{\n\u001b[1;32m      <a href='vscode-notebook-cell:/Users/davidsiska/git-repos/github.com/vegaprotocol/vega-market-sim/examples/notebooks/Agents.ipynb#ch0000003?line=7'>8</a>\u001b[0m         \u001b[39m\"\u001b[39m\u001b[39mnum_steps\u001b[39m\u001b[39m\"\u001b[39m: \u001b[39mint\u001b[39m(\u001b[39m1\u001b[39m \u001b[39m*\u001b[39m \u001b[39m60\u001b[39m),\n\u001b[0;32m   (...)\u001b[0m\n\u001b[1;32m     <a href='vscode-notebook-cell:/Users/davidsiska/git-repos/github.com/vegaprotocol/vega-market-sim/examples/notebooks/Agents.ipynb#ch0000003?line=11'>12</a>\u001b[0m     },\n\u001b[1;32m     <a href='vscode-notebook-cell:/Users/davidsiska/git-repos/github.com/vegaprotocol/vega-market-sim/examples/notebooks/Agents.ipynb#ch0000003?line=12'>13</a>\u001b[0m )\n\u001b[0;32m---> <a href='vscode-notebook-cell:/Users/davidsiska/git-repos/github.com/vegaprotocol/vega-market-sim/examples/notebooks/Agents.ipynb#ch0000003?line=13'>14</a>\u001b[0m results \u001b[39m=\u001b[39m env\u001b[39m.\u001b[39;49mrun(run_with_console\u001b[39m=\u001b[39;49m\u001b[39mFalse\u001b[39;49;00m, pause_at_completion\u001b[39m=\u001b[39;49m\u001b[39mFalse\u001b[39;49;00m)\n",
      "File \u001b[0;32m~/git-repos/github.com/vegaprotocol/vega-market-sim/vega_sim/environment/environment.py:150\u001b[0m, in \u001b[0;36mMarketEnvironment.run\u001b[0;34m(self, run_with_console, pause_at_completion)\u001b[0m\n\u001b[1;32m    148\u001b[0m         \u001b[39mreturn\u001b[39;00m \u001b[39mself\u001b[39m\u001b[39m.\u001b[39m_run(vega, pause_at_completion\u001b[39m=\u001b[39mpause_at_completion)\n\u001b[1;32m    149\u001b[0m \u001b[39melse\u001b[39;00m:\n\u001b[0;32m--> 150\u001b[0m     \u001b[39mreturn\u001b[39;00m \u001b[39mself\u001b[39;49m\u001b[39m.\u001b[39;49m_run(\u001b[39mself\u001b[39;49m\u001b[39m.\u001b[39;49m_vega, pause_at_completion\u001b[39m=\u001b[39;49mpause_at_completion)\n",
      "File \u001b[0;32m~/git-repos/github.com/vegaprotocol/vega-market-sim/vega_sim/environment/environment.py:181\u001b[0m, in \u001b[0;36mMarketEnvironment._run\u001b[0;34m(self, vega, pause_at_completion)\u001b[0m\n\u001b[1;32m    179\u001b[0m \u001b[39mfor\u001b[39;00m i \u001b[39min\u001b[39;00m \u001b[39mrange\u001b[39m(\u001b[39mself\u001b[39m\u001b[39m.\u001b[39mn_steps):\n\u001b[1;32m    180\u001b[0m     \u001b[39mprint\u001b[39m(\u001b[39m\"\u001b[39m\u001b[39mstep: \u001b[39m\u001b[39m\"\u001b[39m\u001b[39m+\u001b[39m\u001b[39mstr\u001b[39m(i))\n\u001b[0;32m--> 181\u001b[0m     \u001b[39mself\u001b[39;49m\u001b[39m.\u001b[39;49mstep(vega)\n\u001b[1;32m    182\u001b[0m     \u001b[39mif\u001b[39;00m (\n\u001b[1;32m    183\u001b[0m         \u001b[39mself\u001b[39m\u001b[39m.\u001b[39m_state_extraction_fn \u001b[39mis\u001b[39;00m \u001b[39mnot\u001b[39;00m \u001b[39mNone\u001b[39;00m\n\u001b[1;32m    184\u001b[0m         \u001b[39mand\u001b[39;00m i \u001b[39m%\u001b[39m \u001b[39mself\u001b[39m\u001b[39m.\u001b[39m_state_extraction_freq \u001b[39m==\u001b[39m \u001b[39m0\u001b[39m\n\u001b[1;32m    185\u001b[0m     ):\n\u001b[1;32m    186\u001b[0m         state_values\u001b[39m.\u001b[39mappend(\u001b[39mself\u001b[39m\u001b[39m.\u001b[39m_state_extraction_fn(vega, \u001b[39mself\u001b[39m\u001b[39m.\u001b[39magents))\n",
      "File \u001b[0;32m~/git-repos/github.com/vegaprotocol/vega-market-sim/vega_sim/environment/environment.py:337\u001b[0m, in \u001b[0;36mMarketEnvironmentWithState.step\u001b[0;34m(self, vega)\u001b[0m\n\u001b[1;32m    336\u001b[0m \u001b[39mdef\u001b[39;00m \u001b[39mstep\u001b[39m(\u001b[39mself\u001b[39m, vega: VegaService) \u001b[39m-\u001b[39m\u001b[39m>\u001b[39m \u001b[39mNone\u001b[39;00m:\n\u001b[0;32m--> 337\u001b[0m     state \u001b[39m=\u001b[39m \u001b[39mself\u001b[39;49m\u001b[39m.\u001b[39;49mstate_func(vega)\n\u001b[1;32m    338\u001b[0m     \u001b[39mfor\u001b[39;00m agent \u001b[39min\u001b[39;00m (\n\u001b[1;32m    339\u001b[0m         \u001b[39msorted\u001b[39m(\u001b[39mself\u001b[39m\u001b[39m.\u001b[39magents, key\u001b[39m=\u001b[39m\u001b[39mlambda\u001b[39;00m _: random\u001b[39m.\u001b[39mrandom())\n\u001b[1;32m    340\u001b[0m         \u001b[39mif\u001b[39;00m \u001b[39mself\u001b[39m\u001b[39m.\u001b[39mrandom_agent_ordering\n\u001b[1;32m    341\u001b[0m         \u001b[39melse\u001b[39;00m \u001b[39mself\u001b[39m\u001b[39m.\u001b[39magents\n\u001b[1;32m    342\u001b[0m     ):\n\u001b[1;32m    343\u001b[0m         agent\u001b[39m.\u001b[39mstep(state)\n",
      "File \u001b[0;32m~/git-repos/github.com/vegaprotocol/vega-market-sim/vega_sim/environment/environment.py:330\u001b[0m, in \u001b[0;36mMarketEnvironmentWithState._default_state_extraction\u001b[0;34m(vega)\u001b[0m\n\u001b[1;32m    325\u001b[0m \u001b[39mfor\u001b[39;00m market \u001b[39min\u001b[39;00m vega\u001b[39m.\u001b[39mall_markets():\n\u001b[1;32m    326\u001b[0m     market_info \u001b[39m=\u001b[39m vega\u001b[39m.\u001b[39mmarket_info(market_id\u001b[39m=\u001b[39mmarket\u001b[39m.\u001b[39mid)\n\u001b[1;32m    327\u001b[0m     market_state[market\u001b[39m.\u001b[39mid] \u001b[39m=\u001b[39m MarketState(\n\u001b[1;32m    328\u001b[0m         state\u001b[39m=\u001b[39mmarket_info\u001b[39m.\u001b[39mstate,\n\u001b[1;32m    329\u001b[0m         trading_mode\u001b[39m=\u001b[39mmarket_info\u001b[39m.\u001b[39mtrading_mode,\n\u001b[0;32m--> 330\u001b[0m         orders\u001b[39m=\u001b[39morder_status[market\u001b[39m.\u001b[39;49mid],\n\u001b[1;32m    331\u001b[0m         \u001b[39m# order_book=vega.order_book_by_market(market.id),\u001b[39;00m\n\u001b[1;32m    332\u001b[0m     )\n\u001b[1;32m    334\u001b[0m \u001b[39mreturn\u001b[39;00m VegaState(network_state\u001b[39m=\u001b[39m(), market_state\u001b[39m=\u001b[39mmarket_state)\n",
      "\u001b[0;31mKeyError\u001b[0m: '492eba9b25f2a8795cba689de509b4c1ab3decf3be626b5590109f0779b69bd5'"
     ]
    }
   ],
   "source": [
    "with VegaServiceNull(warn_on_raw_data_access=False, use_full_vega_wallet=False, run_with_console=False, start_order_feed=False) as vega:\n",
    "    import time\n",
    "    time.sleep(2)\n",
    "    print(vega.wallet_url)\n",
    "    print(vega.data_node_graphql_port)\n",
    "    env = build_env(\n",
    "        **{\n",
    "            \"num_steps\": int(1 * 60),\n",
    "            \"block_size\": 10,\n",
    "            \"vega\": vega,\n",
    "            \"state_extraction_fn\": lambda veg, agents: (veg.best_prices(agents[0].market_id), veg.party_account(agents[1].market_agents[0].wallet_name, agents[0].asset_id, agents[0].market_id))\n",
    "        },\n",
    "    )\n",
    "    results = env.run(run_with_console=False, pause_at_completion=False)"
   ]
  },
  {
   "cell_type": "code",
   "execution_count": 5,
   "id": "e407f9c2-7dba-411a-9846-eaf145cfb846",
   "metadata": {},
   "outputs": [],
   "source": [
    "import numpy as np"
   ]
  },
  {
   "cell_type": "code",
   "execution_count": 6,
   "id": "e4895eac-78a0-4db4-bc9f-636acc9891c3",
   "metadata": {},
   "outputs": [
    {
     "ename": "NameError",
     "evalue": "name 'results' is not defined",
     "output_type": "error",
     "traceback": [
      "\u001b[0;31m---------------------------------------------------------------------------\u001b[0m",
      "\u001b[0;31mNameError\u001b[0m                                 Traceback (most recent call last)",
      "\u001b[1;32m/Users/davidsiska/git-repos/github.com/vegaprotocol/vega-market-sim/examples/notebooks/Agents.ipynb Cell 6'\u001b[0m in \u001b[0;36m<cell line: 1>\u001b[0;34m()\u001b[0m\n\u001b[0;32m----> <a href='vscode-notebook-cell:/Users/davidsiska/git-repos/github.com/vegaprotocol/vega-market-sim/examples/notebooks/Agents.ipynb#ch0000005?line=0'>1</a>\u001b[0m res \u001b[39m=\u001b[39m np\u001b[39m.\u001b[39marray([r[\u001b[39m0\u001b[39m] \u001b[39mfor\u001b[39;00m r \u001b[39min\u001b[39;00m results])\n\u001b[1;32m      <a href='vscode-notebook-cell:/Users/davidsiska/git-repos/github.com/vegaprotocol/vega-market-sim/examples/notebooks/Agents.ipynb#ch0000005?line=1'>2</a>\u001b[0m bids \u001b[39m=\u001b[39m res[:, \u001b[39m0\u001b[39m]\n\u001b[1;32m      <a href='vscode-notebook-cell:/Users/davidsiska/git-repos/github.com/vegaprotocol/vega-market-sim/examples/notebooks/Agents.ipynb#ch0000005?line=2'>3</a>\u001b[0m asks \u001b[39m=\u001b[39m res[:, \u001b[39m1\u001b[39m]\n",
      "\u001b[0;31mNameError\u001b[0m: name 'results' is not defined"
     ]
    }
   ],
   "source": [
    "res = np.array([r[0] for r in results])\n",
    "bids = res[:, 0]\n",
    "asks = res[:, 1]"
   ]
  },
  {
   "cell_type": "code",
   "execution_count": 7,
   "id": "5962cc87-9512-454d-8e27-557198a4ff99",
   "metadata": {},
   "outputs": [],
   "source": [
    "import matplotlib.pyplot as plt"
   ]
  },
  {
   "cell_type": "code",
   "execution_count": 8,
   "id": "1e747961-06b7-4bce-a829-f581b89ae608",
   "metadata": {},
   "outputs": [
    {
     "ename": "NameError",
     "evalue": "name 'bids' is not defined",
     "output_type": "error",
     "traceback": [
      "\u001b[0;31m---------------------------------------------------------------------------\u001b[0m",
      "\u001b[0;31mNameError\u001b[0m                                 Traceback (most recent call last)",
      "\u001b[1;32m/Users/davidsiska/git-repos/github.com/vegaprotocol/vega-market-sim/examples/notebooks/Agents.ipynb Cell 8'\u001b[0m in \u001b[0;36m<cell line: 1>\u001b[0;34m()\u001b[0m\n\u001b[0;32m----> <a href='vscode-notebook-cell:/Users/davidsiska/git-repos/github.com/vegaprotocol/vega-market-sim/examples/notebooks/Agents.ipynb#ch0000007?line=0'>1</a>\u001b[0m plt\u001b[39m.\u001b[39mplot(bids)\n\u001b[1;32m      <a href='vscode-notebook-cell:/Users/davidsiska/git-repos/github.com/vegaprotocol/vega-market-sim/examples/notebooks/Agents.ipynb#ch0000007?line=1'>2</a>\u001b[0m plt\u001b[39m.\u001b[39mplot(asks)\n\u001b[1;32m      <a href='vscode-notebook-cell:/Users/davidsiska/git-repos/github.com/vegaprotocol/vega-market-sim/examples/notebooks/Agents.ipynb#ch0000007?line=2'>3</a>\u001b[0m plt\u001b[39m.\u001b[39mshow()\n",
      "\u001b[0;31mNameError\u001b[0m: name 'bids' is not defined"
     ]
    }
   ],
   "source": [
    "plt.plot(bids)\n",
    "plt.plot(asks)\n",
    "plt.show()"
   ]
  },
  {
   "cell_type": "code",
   "execution_count": 10,
   "id": "b69e4456-b82b-4577-a77b-ced80007d6cb",
   "metadata": {},
   "outputs": [],
   "source": [
    "vega.stop()\n"
   ]
  },
  {
   "cell_type": "code",
   "execution_count": null,
   "id": "afaab53b",
   "metadata": {},
   "outputs": [],
   "source": []
  }
 ],
 "metadata": {
  "kernelspec": {
   "display_name": "Python 3.10.5",
   "language": "python",
   "name": "python3"
  },
  "language_info": {
   "codemirror_mode": {
    "name": "ipython",
    "version": 3
   },
   "file_extension": ".py",
   "mimetype": "text/x-python",
   "name": "python",
   "nbconvert_exporter": "python",
   "pygments_lexer": "ipython3",
   "version": "3.10.5"
  },
  "vscode": {
   "interpreter": {
    "hash": "9068ccf1de4887af20e553bb0f136ba360e9f0490ad6f851d5d4e487c8ec3e60"
   }
  }
 },
 "nbformat": 4,
 "nbformat_minor": 5
}
