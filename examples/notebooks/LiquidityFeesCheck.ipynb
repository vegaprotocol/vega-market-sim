{
 "cells": [
  {
   "cell_type": "code",
   "execution_count": null,
   "id": "4eb2bebd-77d2-42bd-b31a-51b1abd21fba",
   "metadata": {},
   "outputs": [],
   "source": [
    "%load_ext autoreload\n",
    "%autoreload 2"
   ]
  },
  {
   "cell_type": "code",
   "execution_count": null,
   "id": "93778ab8-58fb-4d3a-b5d5-6186db5d637d",
   "metadata": {},
   "outputs": [],
   "source": [
    "from collections import namedtuple\n",
    "\n",
    "from vega_sim.null_service import VegaServiceNull\n",
    "import vega_sim.proto.vega as vega_protos\n",
    "\n",
    "import numpy as np\n",
    "import time\n",
    "import datetime\n",
    "\n",
    "from gql import gql, Client\n",
    "from gql.transport.aiohttp import AIOHTTPTransport"
   ]
  },
  {
   "cell_type": "code",
   "execution_count": null,
   "id": "b48d05f5-00fd-4196-a6cd-9d02bd28ff9b",
   "metadata": {},
   "outputs": [],
   "source": [
    "WalletConfig = namedtuple(\"WalletConfig\", [\"name\", \"passphrase\"])\n",
    "\n",
    "MM_WALLET = WalletConfig(\"mm\", \"mm\")\n",
    "\n",
    "TRADER_1_WALLET = WalletConfig(\"T1\", \"pin\")\n",
    "\n",
    "TRADER_2_WALLET = WalletConfig(\"T2\", \"pin\")\n",
    "\n",
    "TERMINATE_WALLET = WalletConfig(\"Settle\", \"pin\")\n",
    "\n",
    "wallets = [MM_WALLET, TRADER_1_WALLET, TRADER_2_WALLET, TERMINATE_WALLET]"
   ]
  },
  {
   "cell_type": "code",
   "execution_count": null,
   "id": "8a55f9ef-9af4-473f-ab15-09883059e7c7",
   "metadata": {},
   "outputs": [],
   "source": [
    "vega = VegaServiceNull(run_with_console=False, use_full_vega_wallet=False)\n",
    "vega.start()"
   ]
  },
  {
   "cell_type": "markdown",
   "id": "1a794af8-c9ee-49f3-a1cd-1c8ff032b31d",
   "metadata": {},
   "source": [
    "#### Create the wallets"
   ]
  },
  {
   "cell_type": "code",
   "execution_count": null,
   "id": "6c7e104f-2bc8-465d-82c4-94102fb0b08f",
   "metadata": {},
   "outputs": [],
   "source": [
    "for wallet in wallets:\n",
    "    vega.create_wallet(wallet.name, passphrase=wallet.passphrase)\n",
    "vega.forward('10s')"
   ]
  },
  {
   "cell_type": "markdown",
   "id": "5b75a56d-6435-4795-8286-7800c97e3933",
   "metadata": {},
   "source": [
    "#### Create the asset"
   ]
  },
  {
   "cell_type": "code",
   "execution_count": null,
   "id": "2020bd42-8a53-4527-af16-d63d1b781584",
   "metadata": {},
   "outputs": [],
   "source": [
    "vega.mint(\n",
    "    MM_WALLET.name,\n",
    "    asset=\"VOTE\",\n",
    "    amount=10000,\n",
    ")\n",
    "\n",
    "vega.forward(\"20s\")\n",
    "vega.create_asset(\n",
    "    MM_WALLET.name,\n",
    "    name=\"tDAI\",\n",
    "    symbol=\"tDAI\",\n",
    "    decimals=5,\n",
    "    max_faucet_amount=10e15,  # is this including decimals or not?\n",
    ")"
   ]
  },
  {
   "cell_type": "code",
   "execution_count": null,
   "id": "e447d8a1",
   "metadata": {},
   "outputs": [],
   "source": [
    "vega.update_network_parameter(MM_WALLET.name, \"market.liquidity.providers.fee.distributionTimeStep\", \"600s\")\n",
    "vega.wait_for_datanode_sync()\n",
    "vega.update_network_parameter(MM_WALLET.name, \"market.fee.factors.infrastructureFee\", \"0.0\")"
   ]
  },
  {
   "cell_type": "code",
   "execution_count": null,
   "id": "dcc18fdb-4a5a-4c90-a62f-d34ed9709c8d",
   "metadata": {},
   "outputs": [],
   "source": [
    "tdai_id = vega.find_asset_id(symbol=\"tDAI\")"
   ]
  },
  {
   "cell_type": "code",
   "execution_count": null,
   "id": "08dce991-7fbc-485d-b6f2-2889b754c0d4",
   "metadata": {},
   "outputs": [],
   "source": [
    "vega.mint(\n",
    "    MM_WALLET.name,\n",
    "    tdai_id,\n",
    "    amount=10e8\n",
    ")\n",
    "vega.mint(\n",
    "    TRADER_1_WALLET.name,\n",
    "    tdai_id,\n",
    "    amount=10e5\n",
    ")\n",
    "vega.mint(\n",
    "    TRADER_2_WALLET.name,\n",
    "    tdai_id,\n",
    "    amount=10e5\n",
    ")\n",
    "vega.wait_for_total_catchup()"
   ]
  },
  {
   "cell_type": "code",
   "execution_count": null,
   "id": "d05124e2",
   "metadata": {},
   "outputs": [],
   "source": [
    "market_decimals = 3 \n",
    "position_decimals = 2"
   ]
  },
  {
   "cell_type": "markdown",
   "id": "5e50c3fe-55af-4ff1-a1ef-1de2b2573ece",
   "metadata": {},
   "source": [
    "#### Create the market and set up liquidity"
   ]
  },
  {
   "cell_type": "code",
   "execution_count": null,
   "id": "b329b75c-0e27-4b3d-b5c6-0b1a34a04894",
   "metadata": {},
   "outputs": [],
   "source": [
    "vega.create_simple_market(\n",
    "        market_name=\"BTC:DAI_Mar22\",\n",
    "        proposal_wallet=MM_WALLET.name,\n",
    "        settlement_asset_id=tdai_id,\n",
    "        termination_wallet=TERMINATE_WALLET.name,\n",
    "        position_decimals=position_decimals,\n",
    "        market_decimals=market_decimals,\n",
    "    )"
   ]
  },
  {
   "cell_type": "code",
   "execution_count": null,
   "id": "4e6762d4-a986-492d-84fe-59b3a1a562ff",
   "metadata": {},
   "outputs": [],
   "source": [
    "market_id = vega.all_markets()[0].id\n",
    "print(\"Market id = \" + market_id)"
   ]
  },
  {
   "cell_type": "code",
   "execution_count": null,
   "id": "a6240f32",
   "metadata": {},
   "outputs": [],
   "source": [
    "cumulative_sum_after_mint = 0.0 \n",
    "for wallet in wallets:\n",
    "    general, margin, bond = vega.party_account(wallet_name=wallet.name, asset_id=tdai_id, market_id=market_id)\n",
    "    cumulative_sum_after_mint +=  general + margin + bond \n",
    "\n",
    "print(\"cumulative sum = \" + str(cumulative_sum_after_mint))\n"
   ]
  },
  {
   "cell_type": "code",
   "execution_count": null,
   "id": "49afceef-d159-4afb-85e1-e7c47eaf3a6c",
   "metadata": {},
   "outputs": [],
   "source": [
    "MM_commintment_amount=50000\n",
    "vega.submit_liquidity(\n",
    "        MM_WALLET.name,\n",
    "        market_id=market_id,\n",
    "        commitment_amount=MM_commintment_amount,\n",
    "        fee=0.05,\n",
    "        buy_specs=[\n",
    "            (\"PEGGED_REFERENCE_BEST_BID\", 0.5, 1), \n",
    "            (\"PEGGED_REFERENCE_BEST_BID\", 1.0, 1)],\n",
    "        sell_specs=[\n",
    "            (\"PEGGED_REFERENCE_BEST_ASK\", 0.5, 1),\n",
    "            (\"PEGGED_REFERENCE_BEST_ASK\", 1.0, 1),\n",
    "        ],\n",
    "        is_amendment=True,\n",
    "    )\n",
    "vega.wait_fn(1)\n",
    "vega.wait_for_total_catchup()\n",
    "\n"
   ]
  },
  {
   "cell_type": "code",
   "execution_count": null,
   "id": "2fb9cbaf-7d48-4b22-a590-749fe42b290e",
   "metadata": {},
   "outputs": [],
   "source": [
    "# Submit orders which will stay on the book and create best bid / ask \n",
    "vega.submit_order(\n",
    "    trading_wallet=MM_WALLET.name,\n",
    "    market_id=market_id,\n",
    "    order_type=\"TYPE_LIMIT\",\n",
    "    time_in_force=\"TIME_IN_FORCE_GTC\",\n",
    "    side=\"SIDE_BUY\",\n",
    "    volume=1,\n",
    "    price=96,\n",
    "    wait=False,\n",
    ")\n",
    "\n",
    "vega.submit_order(\n",
    "    trading_wallet=MM_WALLET.name,\n",
    "    market_id=market_id,\n",
    "    order_type=\"TYPE_LIMIT\",\n",
    "    time_in_force=\"TIME_IN_FORCE_GTC\",\n",
    "    side=\"SIDE_SELL\",\n",
    "    volume=1,\n",
    "    price=104,\n",
    "    wait=False,\n",
    ")\n",
    "\n"
   ]
  },
  {
   "cell_type": "code",
   "execution_count": null,
   "id": "94aae890",
   "metadata": {},
   "outputs": [],
   "source": [
    "num_levels = 11\n",
    "book_state = vega.market_depth(\n",
    "            market_id, num_levels=num_levels\n",
    "        )\n",
    "bid_prices=[level.price for level in book_state.buys] + [0] * max(0, num_levels - len(book_state.buys))\n",
    "ask_prices=[level.price for level in book_state.sells] + [0] * max(0, num_levels - len(book_state.sells))\n",
    "bid_volumes=[level.volume for level in book_state.buys] + [0] * max(0, num_levels - len(book_state.buys))\n",
    "ask_volumes=[level.volume for level in book_state.sells] + [0] * max(0, num_levels - len(book_state.sells))\n",
    "\n",
    "print(\"ask prices: \"+str(ask_prices))\n",
    "print(\"ask volumes: \"+str(ask_volumes))\n",
    "print(\"--------------------------------------------------------\")\n",
    "print(\"bid prices: \"+str(bid_prices))\n",
    "print(\"bid volumes: \"+str(bid_volumes))\n"
   ]
  },
  {
   "cell_type": "markdown",
   "id": "b6378ae4-ed75-41d8-bb66-7887d32848e3",
   "metadata": {},
   "source": [
    "#### Do some trading"
   ]
  },
  {
   "cell_type": "code",
   "execution_count": null,
   "id": "7c3a0346-4c12-4904-956e-cc87252ad2a7",
   "metadata": {},
   "outputs": [],
   "source": [
    "# Do a trade which will cross\n",
    "price = 99\n",
    "liq_fees = vega.market_account(market_id,vega_protos.vega.ACCOUNT_TYPE_FEES_LIQUIDITY)\n",
    "print(\"Market undistributed liquidity fees: \" + str(liq_fees))\n",
    "vega.submit_order(\n",
    "    trading_wallet=TRADER_1_WALLET.name,\n",
    "    market_id=market_id,\n",
    "    order_type=\"TYPE_LIMIT\",\n",
    "    time_in_force=\"TIME_IN_FORCE_GTC\",\n",
    "    side=\"SIDE_BUY\",\n",
    "    volume=1,\n",
    "    price=price,\n",
    "    wait=True,\n",
    ")\n",
    "\n",
    "vega.submit_order(\n",
    "    trading_wallet=TRADER_2_WALLET.name,\n",
    "    market_id=market_id,\n",
    "    order_type=\"TYPE_LIMIT\",\n",
    "    time_in_force=\"TIME_IN_FORCE_GTC\",\n",
    "    side=\"SIDE_SELL\",\n",
    "    volume=1,\n",
    "    price=price,\n",
    "    wait=True,\n",
    ")\n",
    "liq_fees = vega.market_account(market_id,vega_protos.vega.ACCOUNT_TYPE_FEES_LIQUIDITY)\n",
    "print(\"Market undistributed liquidity fees: \" + str(liq_fees))\n",
    "vega.wait_fn(1)\n",
    "vega.wait_for_total_catchup()\n",
    "liq_fees = vega.market_account(market_id,vega_protos.vega.ACCOUNT_TYPE_FEES_LIQUIDITY)\n",
    "print(\"Market undistributed liquidity fees: \" + str(liq_fees))"
   ]
  },
  {
   "cell_type": "code",
   "execution_count": null,
   "id": "4adf739b",
   "metadata": {},
   "outputs": [],
   "source": [
    "num_levels = 11\n",
    "book_state = vega.market_depth(\n",
    "            market_id, num_levels=num_levels\n",
    "        )\n",
    "bid_prices=[level.price for level in book_state.buys] + [0] * max(0, num_levels - len(book_state.buys))\n",
    "ask_prices=[level.price for level in book_state.sells] + [0] * max(0, num_levels - len(book_state.sells))\n",
    "bid_volumes=[level.volume for level in book_state.buys] + [0] * max(0, num_levels - len(book_state.buys))\n",
    "ask_volumes=[level.volume for level in book_state.sells] + [0] * max(0, num_levels - len(book_state.sells))\n",
    "\n",
    "print(\"ask prices: \"+str(ask_prices))\n",
    "print(\"ask volumes: \"+str(ask_volumes))\n",
    "print(\"--------------------------------------------------------\")\n",
    "print(\"bid prices: \"+str(bid_prices))\n",
    "print(\"bid volumes: \"+str(bid_volumes))\n"
   ]
  },
  {
   "cell_type": "code",
   "execution_count": null,
   "id": "c867ad38",
   "metadata": {},
   "outputs": [],
   "source": [
    "\n",
    "liq_fees = vega.market_account(market_id,vega_protos.vega.ACCOUNT_TYPE_FEES_LIQUIDITY)\n",
    "print(\"Market pretrade undistributed liquidity fees: \" + str(liq_fees))\n",
    "\n",
    "vega.submit_order(\n",
    "    trading_wallet=TRADER_1_WALLET.name,\n",
    "    market_id=market_id,\n",
    "    order_type=\"TYPE_LIMIT\",\n",
    "    time_in_force=\"TIME_IN_FORCE_GTC\",\n",
    "    side=\"SIDE_BUY\",\n",
    "    volume=1,\n",
    "    price=price,\n",
    "    wait=True,\n",
    ")\n",
    "\n",
    "vega.submit_order(\n",
    "    trading_wallet=TRADER_2_WALLET.name,\n",
    "    market_id=market_id,\n",
    "    order_type=\"TYPE_LIMIT\",\n",
    "    time_in_force=\"TIME_IN_FORCE_GTC\",\n",
    "    side=\"SIDE_SELL\",\n",
    "    volume=1,\n",
    "    price=price,\n",
    "    wait=True,\n",
    ")\n",
    "liq_fees = vega.market_account(market_id,vega_protos.vega.ACCOUNT_TYPE_FEES_LIQUIDITY)\n",
    "print(\"Market post trade undistributed liquidity fees: \" + str(liq_fees))\n",
    "vega.forward('1s')\n",
    "\n",
    "market_data = vega.market_data(market_id=market_id)\n",
    "print(\"Market OI is: {}\".format(market_data.open_interest))"
   ]
  },
  {
   "cell_type": "code",
   "execution_count": null,
   "id": "12b3f3d1",
   "metadata": {},
   "outputs": [],
   "source": [
    "num_levels = 11\n",
    "book_state = vega.market_depth(\n",
    "            market_id, num_levels=num_levels\n",
    "        )\n",
    "bid_prices=[level.price for level in book_state.buys] + [0] * max(0, num_levels - len(book_state.buys))\n",
    "ask_prices=[level.price for level in book_state.sells] + [0] * max(0, num_levels - len(book_state.sells))\n",
    "bid_volumes=[level.volume for level in book_state.buys] + [0] * max(0, num_levels - len(book_state.buys))\n",
    "ask_volumes=[level.volume for level in book_state.sells] + [0] * max(0, num_levels - len(book_state.sells))\n",
    "\n",
    "print(\"ask prices: \"+str(ask_prices))\n",
    "print(\"ask volumes: \"+str(ask_volumes))\n",
    "print(\"--------------------------------------------------------\")\n",
    "print(\"bid prices: \"+str(bid_prices))\n",
    "print(\"bid volumes: \"+str(bid_volumes))\n",
    "\n",
    "liq_fees = vega.market_account(market_id,vega_protos.vega.ACCOUNT_TYPE_FEES_LIQUIDITY)\n",
    "print(\"Market undistributed liquidity fees: \" + str(liq_fees))"
   ]
  },
  {
   "cell_type": "code",
   "execution_count": null,
   "id": "bef9ba2a",
   "metadata": {},
   "outputs": [],
   "source": [
    "\n",
    "vega.wait_for_total_catchup()\n",
    "\n",
    "market_data = vega.market_data(market_id=market_id)\n",
    "\n",
    "best_static_bid = float(market_data.best_static_bid_price)/10**market_decimals\n",
    "best_static_ask = float(market_data.best_static_offer_price)/10**market_decimals\n",
    "print(\"best static bid price: \"+ str(best_static_bid)+\", volume: \"+str(float(market_data.best_static_bid_volume)/10**position_decimals))\n",
    "print(\"best static ask price: \"+ str(best_static_bid)+\", volume: \"+str(float(market_data.best_static_offer_volume)/10**position_decimals))\n",
    "markprice = float(market_data.mark_price) / 10**market_decimals\n",
    "print(\"Mark price is \"+str(markprice))\n",
    "\n",
    "liq_fees = vega.market_account(market_id,vega_protos.vega.ACCOUNT_TYPE_FEES_LIQUIDITY)\n",
    "print(\"Market undistributed liquidity fees: \" + str(liq_fees))\n",
    "print(\"Market OI is: {}\".format(market_data.open_interest))\n",
    "\n",
    "print(\"And positions for trader 1 are: {}\".format(vega.positions_by_market(market_id=market_id, wallet_name=TRADER_1_WALLET.name)))\n",
    "print(\"And positions for trader 2 are: {}\".format(vega.positions_by_market(market_id=market_id, wallet_name=TRADER_2_WALLET.name)))\n",
    "print(\"And positions for MM are: {}\".format(vega.positions_by_market(market_id=market_id, wallet_name=MM_WALLET.name)))"
   ]
  },
  {
   "cell_type": "code",
   "execution_count": null,
   "id": "2e5c8813-8909-4454-a2bb-356c50c201f2",
   "metadata": {},
   "outputs": [],
   "source": [
    "vega.wait_fn(1)\n",
    "vega.wait_for_total_catchup()\n",
    "\n",
    "liq_fees = vega.market_account(market_id,vega_protos.vega.ACCOUNT_TYPE_FEES_LIQUIDITY)\n",
    "\n",
    "cumulative_sum = 0.0 \n",
    "for wallet in wallets:\n",
    "    general, margin, bond = vega.party_account(wallet_name=wallet.name, asset_id=tdai_id, market_id=market_id)\n",
    "    cumulative_sum +=  general + margin + bond \n",
    "    \n",
    "print(\"Pre-Settlement Market undistributed liquidity fees: \" + str(liq_fees))\n"
   ]
  },
  {
   "cell_type": "code",
   "execution_count": null,
   "id": "73c6a4e4-a13d-4fd9-9c51-3091571db2e0",
   "metadata": {},
   "outputs": [],
   "source": [
    "vega.settle_market(settlement_wallet = TERMINATE_WALLET.name, settlement_price = 95, market_id=market_id)"
   ]
  },
  {
   "cell_type": "code",
   "execution_count": null,
   "id": "7d97b42d",
   "metadata": {},
   "outputs": [],
   "source": [
    "vega.wait_fn(1)\n",
    "vega.wait_for_total_catchup()\n",
    "\n",
    "liq_fees = vega.market_account(market_id,vega_protos.vega.ACCOUNT_TYPE_FEES_LIQUIDITY)\n",
    "\n",
    "cumulative_sum = 0.0 \n",
    "for wallet in wallets:\n",
    "    general, margin, bond = vega.party_account(wallet_name=wallet.name, asset_id=tdai_id, market_id=market_id)\n",
    "    cumulative_sum +=  general + margin + bond \n",
    "    \n",
    "print(\"Market undistributed liquidity fees: \" + str(liq_fees))\n",
    "print(\"cumulative sum = \" + str(cumulative_sum))\n",
    "print(\"initially minted = \" + str(cumulative_sum_after_mint))\n",
    "print(\"cumulative sum + undistributed liq fees = \" + str(cumulative_sum + liq_fees)) \n",
    "\n",
    "if (np.abs(liq_fees - 4.95) > 1e-2):\n",
    "    raise Exception(\"Expected to see 5.02503 - this isn't correct but it's the bug I am expecting to demonstrate\")"
   ]
  },
  {
   "cell_type": "code",
   "execution_count": null,
   "id": "3a1f559d",
   "metadata": {},
   "outputs": [],
   "source": [
    "print(\"Check out http://localhost:\"+str(vega.data_node_graphql_port))\n",
    "print(\"Market id = \" + market_id)\n",
    "\n",
    "#vega.stop()"
   ]
  },
  {
   "cell_type": "code",
   "execution_count": null,
   "id": "db066437",
   "metadata": {},
   "outputs": [],
   "source": [
    "vega.data_node_postgres_port"
   ]
  },
  {
   "cell_type": "code",
   "execution_count": null,
   "id": "d58affda-c3b6-4976-bf98-1e8f74adaeb9",
   "metadata": {},
   "outputs": [],
   "source": [
    "\n",
    "market_data_post_settle = vega.market_info(market_id=market_id)"
   ]
  },
  {
   "cell_type": "code",
   "execution_count": null,
   "id": "39421aa4-e193-4966-adc9-624f09604f86",
   "metadata": {},
   "outputs": [],
   "source": [
    "# Select your transport with a defined url endpoint\n",
    "graphql_server_addr=\"http://localhost:\"+str(vega.data_node_graphql_port) + \"/query\"\n",
    "transport = AIOHTTPTransport(url=graphql_server_addr)\n",
    "\n",
    "# Create a GraphQL client using the defined transport\n",
    "client = Client(transport=transport, fetch_schema_from_transport=True)\n",
    "\n",
    "query = gql(\n",
    "    \"\"\"\n",
    "    {\n",
    "        markets {\n",
    "            id\n",
    "        }\n",
    "    }\n",
    "    \"\"\"\n",
    ")\n",
    "\n",
    "# Execute the query on the transport\n",
    "result = await client.execute_async(query) \n",
    "print(result)"
   ]
  },
  {
   "cell_type": "code",
   "execution_count": null,
   "id": "427f5bc4-bbc7-44dc-b102-5318dce7910f",
   "metadata": {},
   "outputs": [],
   "source": []
  }
 ],
 "metadata": {
  "kernelspec": {
   "display_name": "Python 3 (ipykernel)",
   "language": "python",
   "name": "python3"
  },
  "language_info": {
   "codemirror_mode": {
    "name": "ipython",
    "version": 3
   },
   "file_extension": ".py",
   "mimetype": "text/x-python",
   "name": "python",
   "nbconvert_exporter": "python",
   "pygments_lexer": "ipython3",
   "version": "3.10.5"
  },
  "vscode": {
   "interpreter": {
    "hash": "9068ccf1de4887af20e553bb0f136ba360e9f0490ad6f851d5d4e487c8ec3e60"
   }
  }
 },
 "nbformat": 4,
 "nbformat_minor": 5
}
