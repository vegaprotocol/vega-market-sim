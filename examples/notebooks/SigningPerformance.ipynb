{
 "cells": [
  {
   "cell_type": "code",
   "execution_count": 1,
   "metadata": {},
   "outputs": [],
   "source": [
    "%load_ext autoreload\n",
    "%autoreload 2"
   ]
  },
  {
   "cell_type": "code",
   "execution_count": 2,
   "metadata": {},
   "outputs": [],
   "source": [
    "from collections import namedtuple\n",
    "\n",
    "from vega_sim.null_service import VegaServiceNull\n",
    "from __future__ import annotations\n",
    "\n",
    "import logging\n",
    "from time import time\n",
    "import requests\n",
    "import uuid\n",
    "from google.protobuf.json_format import MessageToDict\n",
    "from typing import Callable, Optional, Union\n",
    "import random\n",
    "import vega_sim.grpc.client as vac\n",
    "import vega_sim.proto.data_node.api.v1 as data_node_protos\n",
    "import vega_sim.proto.vega as vega_protos\n",
    "import vega_sim.api.faucet as faucet\n",
    "from vega_sim.api.helpers import get_enum, enum_to_str, wait_for_acceptance\n",
    "\n",
    "import vega_sim.proto.vega.api.v1.core_pb2 as core_proto\n",
    "import vega_sim.proto.vega.commands.v1.commands_pb2 as commands_proto\n",
    "import vega_sim.proto.vega.commands.v1.transaction_pb2 as transaction_proto\n",
    "import vega_sim.proto.vega.commands.v1.signature_pb2 as signature_proto\n",
    "\n",
    "from nacl.signing import SigningKey\n",
    "from nacl.encoding import HexEncoder, RawEncoder\n",
    "import nacl.hash\n",
    "import hashlib\n",
    "import numpy as np"
   ]
  },
  {
   "cell_type": "code",
   "execution_count": 3,
   "metadata": {},
   "outputs": [],
   "source": [
    "WalletConfig = namedtuple(\"WalletConfig\", [\"name\", \"passphrase\"])\n",
    "\n",
    "# Set up parties in the market/ Submit liquidity provision/ Control midprice\n",
    "MM_WALLET = WalletConfig(\"mm\", \"pin\")\n",
    "\n",
    "# The party to send selling/buying MOs to hit LP orders\n",
    "TRADER_WALLET = WalletConfig(\"Zl3pLs6Xk6SwIK7Jlp2x\", \"bJQDDVGAhKkj3PVCc7Rr\")\n",
    "\n",
    "# The party randomly post LOs at buy/sell side to simulate real Market situation\n",
    "RANDOM_WALLET = WalletConfig(\"OJpVLvU5fgLJbhNPdESa\", \"GmJTt9Gk34BHDlovB7AJ\")\n",
    "\n",
    "# The party to terminate the market and send settlment price\n",
    "TERMINATE_WALLET = WalletConfig(\"FJMKnwfZdd48C8NqvYrG\", \"bY3DxwtsCstMIIZdNpKs\")\n",
    "\n",
    "wallets = [MM_WALLET, TRADER_WALLET, RANDOM_WALLET, TERMINATE_WALLET]"
   ]
  },
  {
   "cell_type": "code",
   "execution_count": 63,
   "metadata": {},
   "outputs": [
    {
     "name": "stdout",
     "output_type": "stream",
     "text": [
      "/var/folders/yj/cjhtlxn90wldd1hvw5lkxnrc0000gn/T/tmp28rl0ru1\n"
     ]
    }
   ],
   "source": [
    "vega = VegaServiceNull(run_wallet_with_console=False)\n",
    "vega.start()"
   ]
  },
  {
   "cell_type": "code",
   "execution_count": 64,
   "metadata": {},
   "outputs": [],
   "source": [
    "for wallet in wallets:\n",
    "    vega.create_wallet(wallet.name, wallet.passphrase)"
   ]
  },
  {
   "cell_type": "code",
   "execution_count": 65,
   "metadata": {
    "tags": []
   },
   "outputs": [],
   "source": [
    "vega.mint(\n",
    "    MM_WALLET.name,\n",
    "    asset=\"VOTE\",\n",
    "    amount=100000,\n",
    ")\n",
    "\n",
    "vega.forward(\"10s\")\n",
    "vega.create_asset(\n",
    "    MM_WALLET.name,\n",
    "    name=\"tDAI\",\n",
    "    symbol=\"tDAI\",\n",
    "    decimals=5,\n",
    "    max_faucet_amount=1e10,\n",
    ")"
   ]
  },
  {
   "cell_type": "code",
   "execution_count": 66,
   "metadata": {},
   "outputs": [],
   "source": [
    "tdai_id = vega.find_asset_id(symbol=\"tDAI\")"
   ]
  },
  {
   "cell_type": "code",
   "execution_count": 67,
   "metadata": {
    "tags": []
   },
   "outputs": [],
   "source": [
    "\n",
    "vega.mint(\n",
    "    MM_WALLET.name,\n",
    "    tdai_id,\n",
    "    amount=1e5\n",
    ")\n",
    "vega.mint(\n",
    "    TERMINATE_WALLET.name,\n",
    "    tdai_id,\n",
    "    amount=1e2\n",
    ")\n",
    "vega.mint(\n",
    "    RANDOM_WALLET.name,\n",
    "    tdai_id,\n",
    "    amount=1e5\n",
    ")"
   ]
  },
  {
   "cell_type": "code",
   "execution_count": 68,
   "metadata": {},
   "outputs": [],
   "source": [
    "vega.create_simple_market(\n",
    "        market_name=\"BTC:DAI_Mar22\",\n",
    "        proposal_wallet=MM_WALLET.name,\n",
    "        settlement_asset_id=tdai_id,\n",
    "        termination_wallet=TERMINATE_WALLET.name,\n",
    "    )"
   ]
  },
  {
   "cell_type": "code",
   "execution_count": 69,
   "metadata": {},
   "outputs": [
    {
     "name": "stderr",
     "output_type": "stream",
     "text": [
      "Using function with raw data from data-node VegaService.all_markets. Be wary if prices/positions are not converted from int form\n"
     ]
    }
   ],
   "source": [
    "market_id = vega.all_markets()[0].id"
   ]
  },
  {
   "cell_type": "code",
   "execution_count": 70,
   "metadata": {},
   "outputs": [
    {
     "data": {
      "text/plain": [
       "'3ce7037c56f04bf9212e839412fe6e5ee634065cb5d74255658690f284449a6e'"
      ]
     },
     "execution_count": 70,
     "metadata": {},
     "output_type": "execute_result"
    }
   ],
   "source": [
    "market_id"
   ]
  },
  {
   "cell_type": "code",
   "execution_count": 71,
   "metadata": {},
   "outputs": [],
   "source": [
    "login_token = vega.login_tokens[MM_WALLET.name]\n",
    "data_client = vega.trading_data_client()\n",
    "pub_key = vega.pub_keys[MM_WALLET.name]"
   ]
  },
  {
   "cell_type": "code",
   "execution_count": 84,
   "metadata": {},
   "outputs": [],
   "source": [
    "headers = {\"Authorization\": f\"Bearer {login_token}\"}\n",
    "\n",
    "order_ref = f\"{pub_key}-{uuid.uuid4()}\"\n",
    "\n",
    "order_data = vega_protos.commands.v1.commands.OrderSubmission(\n",
    "    market_id=market_id,\n",
    "    # price is an integer. For example 123456 is a price of 1.23456,\n",
    "    # assuming 5 decimal places.\n",
    "    price=\"10\",\n",
    "    side=vega_protos.vega.Side.SIDE_BUY,\n",
    "    size=10,\n",
    "    time_in_force=vega_protos.vega.Order.TimeInForce.TIME_IN_FORCE_GTC,\n",
    "    type=vega_protos.vega.Order.Type.TYPE_LIMIT,\n",
    "    reference=order_ref,\n",
    ")"
   ]
  },
  {
   "cell_type": "code",
   "execution_count": 73,
   "metadata": {},
   "outputs": [],
   "source": [
    "submission = {\n",
    "        \"orderSubmission\": MessageToDict(order_data),\n",
    "        \"pubKey\": pub_key,\n",
    "        \"propagate\": False,\n",
    "    }"
   ]
  },
  {
   "cell_type": "code",
   "execution_count": 74,
   "metadata": {},
   "outputs": [],
   "source": [
    "url = f\"{vega.wallet_url()}/api/v1/command/sync\""
   ]
  },
  {
   "cell_type": "code",
   "execution_count": 75,
   "metadata": {},
   "outputs": [],
   "source": [
    "enc = str(submission).encode()"
   ]
  },
  {
   "cell_type": "code",
   "execution_count": 90,
   "metadata": {},
   "outputs": [
    {
     "name": "stdout",
     "output_type": "stream",
     "text": [
      "1.32 ms ± 18 µs per loop (mean ± std. dev. of 7 runs, 1,000 loops each)\n"
     ]
    }
   ],
   "source": [
    "%%timeit\n",
    "response = requests.post(url, headers=headers, json=submission)\n",
    "# response.raise_for_status()"
   ]
  },
  {
   "cell_type": "code",
   "execution_count": 36,
   "metadata": {},
   "outputs": [],
   "source": [
    "sk = SigningKey.generate()"
   ]
  },
  {
   "cell_type": "code",
   "execution_count": 37,
   "metadata": {},
   "outputs": [],
   "source": [
    "pub_key = sk.verify_key.encode(encoder=HexEncoder).decode()"
   ]
  },
  {
   "cell_type": "code",
   "execution_count": 81,
   "metadata": {},
   "outputs": [],
   "source": [
    "faucet.mint(sk.verify_key.encode(encoder=HexEncoder).decode(), tdai_id, 10000, vega.faucet_url())"
   ]
  },
  {
   "cell_type": "code",
   "execution_count": 39,
   "metadata": {},
   "outputs": [],
   "source": [
    "block_height = vega.core_client().LastBlockHeight(core_proto.LastBlockHeightRequest()).height"
   ]
  },
  {
   "cell_type": "code",
   "execution_count": 40,
   "metadata": {},
   "outputs": [
    {
     "name": "stdout",
     "output_type": "stream",
     "text": [
      "72.4 µs ± 538 ns per loop (mean ± std. dev. of 7 runs, 10,000 loops each)\n"
     ]
    }
   ],
   "source": [
    "%%timeit\n",
    "sk.sign(enc, encoder=HexEncoder)"
   ]
  },
  {
   "cell_type": "code",
   "execution_count": 41,
   "metadata": {},
   "outputs": [],
   "source": [
    "\n",
    "def count_zeros(b):\n",
    "    ret = 0\n",
    "    for x in b:\n",
    "        if x == 0:\n",
    "            ret += 8\n",
    "        else:\n",
    "            if x % 128 != 0:\n",
    "                break\n",
    "            elif x % 64 != 0:\n",
    "                ret += 1\n",
    "                break\n",
    "            elif x % 32 != 0:\n",
    "                ret += 2\n",
    "                break\n",
    "            elif x % 16 != 0:\n",
    "                ret += 3\n",
    "                break\n",
    "            elif x % 8 != 0:\n",
    "                ret += 4\n",
    "                break\n",
    "            elif x % 4 != 0:\n",
    "                ret += 5\n",
    "                break\n",
    "            elif x % 2 != 0:\n",
    "                ret += 6\n",
    "                break\n",
    "            elif x % 1 != 0:\n",
    "                ret += 7\n",
    "                break\n",
    "            break\n",
    "    return ret"
   ]
  },
  {
   "cell_type": "code",
   "execution_count": 42,
   "metadata": {},
   "outputs": [],
   "source": [
    "nonces = [(nonce).to_bytes(2, byteorder='big') for nonce in range(0, 10000)]\n",
    "def PoW(signed_data, tx_id):\n",
    "    valid_hash = None\n",
    "    for nonce in nonces:\n",
    "        new_key = b\"Vega_SPAM_PoW\" + signed_data + tx_id + nonce\n",
    "        hashed = hashlib.sha256()\n",
    "        hashed.update(new_key)\n",
    "        hashed_dig = hashed.digest()\n",
    "        if count_zeros(hashed_dig) >= 1:\n",
    "            valid_hash = hashed_dig\n",
    "            break\n",
    "    return nonce, valid_hash"
   ]
  },
  {
   "cell_type": "code",
   "execution_count": 252,
   "metadata": {},
   "outputs": [
    {
     "name": "stdout",
     "output_type": "stream",
     "text": [
      "515 µs ± 27.2 µs per loop (mean ± std. dev. of 7 runs, 1,000 loops each)\n"
     ]
    }
   ],
   "source": [
    "%%timeit\n",
    "block_height = vega.core_client().LastBlockHeight(core_proto.LastBlockHeightRequest()).height\n",
    "signed = sk.sign(enc, encoder=HexEncoder)\n",
    "tx_id = random.getrandbits(10*8).to_bytes(10, byteorder='big')\n",
    "PoW(signed, tx_id)"
   ]
  },
  {
   "cell_type": "code",
   "execution_count": 115,
   "metadata": {},
   "outputs": [
    {
     "data": {
      "text/plain": [
       "\u001b[0;31mDocstring:\u001b[0m\n",
       "perf_counter() -> float\n",
       "\n",
       "Performance counter for benchmarking.\n",
       "\u001b[0;31mType:\u001b[0m      builtin_function_or_method\n"
      ]
     },
     "metadata": {},
     "output_type": "display_data"
    }
   ],
   "source": [
    "import time\n",
    "time.perf_counter?"
   ]
  },
  {
   "cell_type": "code",
   "execution_count": 128,
   "metadata": {},
   "outputs": [
    {
     "name": "stdout",
     "output_type": "stream",
     "text": [
      "177 µs ± 2.29 µs per loop (mean ± std. dev. of 7 runs, 10,000 loops each)\n"
     ]
    }
   ],
   "source": [
    "%%timeit\n",
    "block_height = vega.core_client().LastBlockHeight(core_proto.LastBlockHeightRequest()).height\n",
    "signed = sk.sign(enc, encoder=HexEncoder)\n",
    "\n",
    "\n",
    "tx_id = random.getrandbits(10*8)\n",
    "# tx_id_bytes = tx_id.to_bytes(10, byteorder='big')\n",
    "# nonce, proof = PoW(signed, tx_id_bytes)\n",
    "\n",
    "# input_data = transaction_proto.InputData(\n",
    "#     nonce = random.randint(1000, 5000),\n",
    "#     block_height = block_height,\n",
    "#     order_submission = order_data\n",
    "# )\n",
    "# serialised = input_data.SerializeToString()\n",
    "\n",
    "# request = core_proto.SubmitTransactionRequest(\n",
    "#     tx=transaction_proto.Transaction(\n",
    "#         input_data=serialised,\n",
    "#         signature=signature_proto.Signature(\n",
    "#             value=signed,\n",
    "#             algo=\"vega/ed25519\",\n",
    "#             version=1,\n",
    "#         ),\n",
    "#         pub_key=pub_key,\n",
    "#         version=2,\n",
    "#         pow=transaction_proto.ProofOfWork(\n",
    "#             tid=str(tx_id_bytes),\n",
    "#             nonce=int.from_bytes(nonce, byteorder='big'),\n",
    "#             hash_function=\"sha3_24_rounds\"\n",
    "#         )\n",
    "#     ),\n",
    "#     type=core_proto.SubmitTransactionRequest.Type.TYPE_ASYNC\n",
    "# )\n",
    "\n",
    "# vega.core_client().SubmitTransaction(request)"
   ]
  },
  {
   "cell_type": "code",
   "execution_count": 62,
   "metadata": {},
   "outputs": [],
   "source": [
    "vega.stop()"
   ]
  },
  {
   "cell_type": "code",
   "execution_count": 127,
   "metadata": {},
   "outputs": [
    {
     "name": "stdout",
     "output_type": "stream",
     "text": [
      "360 µs ± 16.1 µs per loop (mean ± std. dev. of 7 runs, 1,000 loops each)\n"
     ]
    }
   ],
   "source": [
    "%%timeit\n",
    "vega.core_client().SubmitTransaction(request)"
   ]
  },
  {
   "cell_type": "code",
   "execution_count": null,
   "metadata": {},
   "outputs": [],
   "source": []
  },
  {
   "cell_type": "code",
   "execution_count": null,
   "metadata": {},
   "outputs": [],
   "source": []
  }
 ],
 "metadata": {
  "interpreter": {
   "hash": "87b20bb796d189f13d9ce00805651be06d69b84ebb9e8b04acadd5416d612a7f"
  },
  "kernelspec": {
   "display_name": "Python 3 (ipykernel)",
   "language": "python",
   "name": "python3"
  },
  "language_info": {
   "codemirror_mode": {
    "name": "ipython",
    "version": 3
   },
   "file_extension": ".py",
   "mimetype": "text/x-python",
   "name": "python",
   "nbconvert_exporter": "python",
   "pygments_lexer": "ipython3",
   "version": "3.9.11"
  }
 },
 "nbformat": 4,
 "nbformat_minor": 4
}
