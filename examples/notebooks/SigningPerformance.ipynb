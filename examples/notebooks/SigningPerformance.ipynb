{
 "cells": [
  {
   "cell_type": "code",
   "execution_count": 1,
   "metadata": {},
   "outputs": [],
   "source": [
    "%load_ext autoreload\n",
    "%autoreload 2"
   ]
  },
  {
   "cell_type": "code",
   "execution_count": 236,
   "metadata": {},
   "outputs": [],
   "source": [
    "from collections import namedtuple\n",
    "\n",
    "from vega_sim.null_service import VegaServiceNull\n",
    "from __future__ import annotations\n",
    "\n",
    "import logging\n",
    "from time import time\n",
    "import requests\n",
    "import uuid\n",
    "from google.protobuf.json_format import MessageToDict\n",
    "from typing import Callable, Optional, Union\n",
    "import random\n",
    "import vega_sim.grpc.client as vac\n",
    "import vega_sim.proto.data_node.api.v1 as data_node_protos\n",
    "import vega_sim.proto.vega as vega_protos\n",
    "import vega_sim.api.faucet as faucet\n",
    "from vega_sim.api.helpers import get_enum, enum_to_str, wait_for_acceptance\n",
    "\n",
    "import vega_sim.proto.vega.api.v1.core_pb2 as core_proto\n",
    "import vega_sim.proto.vega.commands.v1.commands_pb2 as commands_proto\n",
    "import vega_sim.proto.vega.commands.v1.transaction_pb2 as transaction_proto\n",
    "import vega_sim.proto.vega.commands.v1.signature_pb2 as signature_proto\n",
    "import vega_sim.proto.vega.governance_pb2 as gov_proto\n",
    "\n",
    "from nacl.signing import SigningKey\n",
    "from nacl.encoding import HexEncoder, RawEncoder\n",
    "import nacl.hash\n",
    "import hashlib\n",
    "import numpy as np"
   ]
  },
  {
   "cell_type": "code",
   "execution_count": 36,
   "metadata": {},
   "outputs": [],
   "source": [
    "WalletConfig = namedtuple(\"WalletConfig\", [\"name\", \"passphrase\"])\n",
    "\n",
    "# Set up parties in the market/ Submit liquidity provision/ Control midprice\n",
    "MM_WALLET = WalletConfig(\"mm\", \"pin\")\n",
    "\n",
    "# The party to send selling/buying MOs to hit LP orders\n",
    "TRADER_WALLET = WalletConfig(\"Zl3pLs6Xk6SwIK7Jlp2x\", \"bJQDDVGAhKkj3PVCc7Rr\")\n",
    "\n",
    "# The party randomly post LOs at buy/sell side to simulate real Market situation\n",
    "RANDOM_WALLET = WalletConfig(\"OJpVLvU5fgLJbhNPdESa\", \"GmJTt9Gk34BHDlovB7AJ\")\n",
    "\n",
    "# The party to terminate the market and send settlment price\n",
    "TERMINATE_WALLET = WalletConfig(\"FJMKnwfZdd48C8NqvYrG\", \"bY3DxwtsCstMIIZdNpKs\")\n",
    "\n",
    "wallets = [MM_WALLET, TRADER_WALLET, RANDOM_WALLET, TERMINATE_WALLET]"
   ]
  },
  {
   "cell_type": "code",
   "execution_count": 500,
   "metadata": {},
   "outputs": [],
   "source": [
    "vega = VegaServiceNull(run_wallet_with_console=True)\n",
    "vega.start()"
   ]
  },
  {
   "cell_type": "code",
   "execution_count": 501,
   "metadata": {},
   "outputs": [],
   "source": [
    "for wallet in wallets:\n",
    "    vega.create_wallet(wallet.name, wallet.passphrase)"
   ]
  },
  {
   "cell_type": "code",
   "execution_count": 502,
   "metadata": {
    "tags": []
   },
   "outputs": [],
   "source": [
    "vega.mint(\n",
    "    MM_WALLET.name,\n",
    "    asset=\"VOTE\",\n",
    "    amount=100000,\n",
    ")\n",
    "\n",
    "vega.forward(\"10s\")\n",
    "vega.create_asset(\n",
    "    MM_WALLET.name,\n",
    "    name=\"tDAI\",\n",
    "    symbol=\"tDAI\",\n",
    "    decimals=5,\n",
    "    max_faucet_amount=1e10,\n",
    ")"
   ]
  },
  {
   "cell_type": "code",
   "execution_count": 503,
   "metadata": {},
   "outputs": [],
   "source": [
    "tdai_id = vega.find_asset_id(symbol=\"tDAI\")"
   ]
  },
  {
   "cell_type": "code",
   "execution_count": 504,
   "metadata": {
    "tags": []
   },
   "outputs": [],
   "source": [
    "\n",
    "vega.mint(\n",
    "    MM_WALLET.name,\n",
    "    tdai_id,\n",
    "    amount=1e5\n",
    ")\n",
    "vega.mint(\n",
    "    TERMINATE_WALLET.name,\n",
    "    tdai_id,\n",
    "    amount=1e2\n",
    ")\n",
    "vega.mint(\n",
    "    RANDOM_WALLET.name,\n",
    "    tdai_id,\n",
    "    amount=1e5\n",
    ")"
   ]
  },
  {
   "cell_type": "code",
   "execution_count": 505,
   "metadata": {},
   "outputs": [],
   "source": [
    "vega.create_simple_market(\n",
    "        market_name=\"BTC:DAI_Mar22\",\n",
    "        proposal_wallet=MM_WALLET.name,\n",
    "        settlement_asset_id=tdai_id,\n",
    "        termination_wallet=TERMINATE_WALLET.name,\n",
    "    )"
   ]
  },
  {
   "cell_type": "code",
   "execution_count": 506,
   "metadata": {},
   "outputs": [
    {
     "name": "stderr",
     "output_type": "stream",
     "text": [
      "Using function with raw data from data-node VegaService.all_markets. Be wary if prices/positions are not converted from int form\n"
     ]
    }
   ],
   "source": [
    "market_id = vega.all_markets()[0].id"
   ]
  },
  {
   "cell_type": "code",
   "execution_count": 507,
   "metadata": {},
   "outputs": [
    {
     "data": {
      "text/plain": [
       "'2189efa1f5b48e97d17c164eff2ebf00b3aa14044ddf4740dd487900d8b7359a'"
      ]
     },
     "execution_count": 507,
     "metadata": {},
     "output_type": "execute_result"
    }
   ],
   "source": [
    "market_id"
   ]
  },
  {
   "cell_type": "code",
   "execution_count": 508,
   "metadata": {},
   "outputs": [],
   "source": [
    "login_token = vega.login_tokens[MM_WALLET.name]\n",
    "data_client = vega.trading_data_client()\n",
    "pub_key = vega.pub_keys[MM_WALLET.name]"
   ]
  },
  {
   "cell_type": "code",
   "execution_count": 509,
   "metadata": {},
   "outputs": [],
   "source": [
    "headers = {\"Authorization\": f\"Bearer {login_token}\"}\n",
    "\n",
    "order_ref = f\"{pub_key}-{uuid.uuid4()}\"\n",
    "\n",
    "order_data = vega_protos.commands.v1.commands.OrderSubmission(\n",
    "    market_id=market_id,\n",
    "    # price is an integer. For example 123456 is a price of 1.23456,\n",
    "    # assuming 5 decimal places.\n",
    "    price=\"15\",\n",
    "    side=vega_protos.vega.Side.SIDE_SELL,\n",
    "    size=10,\n",
    "    time_in_force=vega_protos.vega.Order.TimeInForce.TIME_IN_FORCE_GTC,\n",
    "    type=vega_protos.vega.Order.Type.TYPE_LIMIT,\n",
    "    reference=order_ref,\n",
    ")"
   ]
  },
  {
   "cell_type": "code",
   "execution_count": 490,
   "metadata": {},
   "outputs": [],
   "source": [
    "submission = {\n",
    "        \"orderSubmission\": MessageToDict(order_data),\n",
    "        \"pubKey\": pub_key,\n",
    "        \"propagate\": True,\n",
    "    }"
   ]
  },
  {
   "cell_type": "code",
   "execution_count": 491,
   "metadata": {},
   "outputs": [],
   "source": [
    "url = f\"{vega.wallet_url()}/api/v1/command/sync\""
   ]
  },
  {
   "cell_type": "code",
   "execution_count": 492,
   "metadata": {},
   "outputs": [],
   "source": [
    "enc = str(submission).encode()"
   ]
  },
  {
   "cell_type": "code",
   "execution_count": 493,
   "metadata": {},
   "outputs": [
    {
     "data": {
      "text/plain": [
       "{'txHash': '506135537735514E617A6D5A77666D6F37534E497752774E5944726E7151487957306D7A4168464C6C52575A556E37596C494166724E46304E683469335A4736',\n",
       " 'receivedAt': '2022-05-26T12:50:50.8906+01:00',\n",
       " 'sentAt': '2022-05-26T12:50:50.898601+01:00',\n",
       " 'txId': 'Nj2CvyrDTZDh2095GATQ',\n",
       " 'tx': {'input_data': 'CNq8n6/x8I6LiwEQ8wXKPrUBCkA4MTQ4ZjkwZjRiOTk2ZWYwYWQzZjhlN2VmNzhjMzRkMzcxOWU3YmMzODk2ZGNiMWMxZjg5YjdlN2JiMGJiMzhlEgIxNRgKIAIoATgBQmU4MGVmOGQ1OTZhOGFmZjM1NjM1ZTM1NDBhZDhmNWI1ZTgyYTk3Zjg5ZTQ4OTMwMzg3ZDUwNjA5OGU1NWVlM2MxLWNkZWVkMDgzLWFlOWMtNDcyMi1hOTliLTY1YzgxOWFkYjE3MA==',\n",
       "  'signature': {'value': '29be96198d4bdf7feeb1b83a3db5a3fccc76b035383cc68278a4397106e07d4d9935557b28591573f7bb80138c8a38c069e6bd0d5dbf0e4d5e509d3c5dd35c09',\n",
       "   'algo': 'vega/ed25519',\n",
       "   'version': 1},\n",
       "  'From': {'PubKey': '80ef8d596a8aff35635e3540ad8f5b5e82a97f89e48930387d506098e55ee3c1'},\n",
       "  'version': 2,\n",
       "  'pow': {'tid': '48E6C3A2CB5CBEB2D2CD205B797EB6206394C1B0C4B6A6F3793D82F544B8A63C'}}}"
      ]
     },
     "execution_count": 493,
     "metadata": {},
     "output_type": "execute_result"
    }
   ],
   "source": [
    "# %%timeit\n",
    "response = requests.post(url, headers=headers, json=submission)\n",
    "response.json()"
   ]
  },
  {
   "cell_type": "code",
   "execution_count": 392,
   "metadata": {},
   "outputs": [],
   "source": [
    "sk = SigningKey.generate()"
   ]
  },
  {
   "cell_type": "code",
   "execution_count": 393,
   "metadata": {},
   "outputs": [],
   "source": [
    "pub_key = sk.verify_key.encode(encoder=HexEncoder).decode()"
   ]
  },
  {
   "cell_type": "code",
   "execution_count": 514,
   "metadata": {},
   "outputs": [],
   "source": [
    "faucet.mint(sk.verify_key.encode(encoder=HexEncoder).decode(), tdai_id, 10000, vega.faucet_url())\n",
    "faucet.mint(sk.verify_key.encode(encoder=HexEncoder).decode(), \"VOTE\", 10000, vega.faucet_url())"
   ]
  },
  {
   "cell_type": "code",
   "execution_count": 395,
   "metadata": {},
   "outputs": [],
   "source": [
    "block_height = vega.core_client().LastBlockHeight(core_proto.LastBlockHeightRequest()).height"
   ]
  },
  {
   "cell_type": "code",
   "execution_count": 396,
   "metadata": {},
   "outputs": [
    {
     "name": "stdout",
     "output_type": "stream",
     "text": [
      "80.7 µs ± 2.47 µs per loop (mean ± std. dev. of 7 runs, 10,000 loops each)\n"
     ]
    }
   ],
   "source": [
    "%%timeit\n",
    "sk.sign(enc, encoder=HexEncoder)"
   ]
  },
  {
   "cell_type": "code",
   "execution_count": 397,
   "metadata": {},
   "outputs": [],
   "source": [
    "\n",
    "def count_zeros(b):\n",
    "    ret = 0\n",
    "    for x in b:\n",
    "        if x == 0:\n",
    "            ret += 8\n",
    "        else:\n",
    "            if x % 128 != 0:\n",
    "                break\n",
    "            elif x % 64 != 0:\n",
    "                ret += 1\n",
    "                break\n",
    "            elif x % 32 != 0:\n",
    "                ret += 2\n",
    "                break\n",
    "            elif x % 16 != 0:\n",
    "                ret += 3\n",
    "                break\n",
    "            elif x % 8 != 0:\n",
    "                ret += 4\n",
    "                break\n",
    "            elif x % 4 != 0:\n",
    "                ret += 5\n",
    "                break\n",
    "            elif x % 2 != 0:\n",
    "                ret += 6\n",
    "                break\n",
    "            elif x % 1 != 0:\n",
    "                ret += 7\n",
    "                break\n",
    "            break\n",
    "    return ret"
   ]
  },
  {
   "cell_type": "code",
   "execution_count": 398,
   "metadata": {},
   "outputs": [],
   "source": [
    "nonces = [(nonce).to_bytes(2, byteorder='big') for nonce in range(0, 10000)]\n",
    "def PoW(signed_data, tx_id):\n",
    "    valid_hash = None\n",
    "    for nonce in nonces:\n",
    "        new_key = b\"Vega_SPAM_PoW\" + signed_data + tx_id + nonce\n",
    "        hashed = hashlib.sha256()\n",
    "        hashed.update(new_key)\n",
    "        hashed_dig = hashed.digest()\n",
    "        if count_zeros(hashed_dig) >= 1:\n",
    "            valid_hash = hashed_dig\n",
    "            break\n",
    "    return nonce, valid_hash"
   ]
  },
  {
   "cell_type": "code",
   "execution_count": 269,
   "metadata": {},
   "outputs": [
    {
     "name": "stdout",
     "output_type": "stream",
     "text": [
      "529 µs ± 10.1 µs per loop (mean ± std. dev. of 7 runs, 1,000 loops each)\n"
     ]
    }
   ],
   "source": [
    "%%timeit\n",
    "block_height = vega.core_client().LastBlockHeight(core_proto.LastBlockHeightRequest()).height\n",
    "signed = sk.sign(enc, encoder=HexEncoder)\n",
    "tx_id = random.getrandbits(10*8).to_bytes(10, byteorder='big')\n",
    "PoW(signed, tx_id)"
   ]
  },
  {
   "cell_type": "code",
   "execution_count": 343,
   "metadata": {},
   "outputs": [],
   "source": [
    "block_height = vega.core_client().LastBlockHeight(core_proto.LastBlockHeightRequest()).height"
   ]
  },
  {
   "cell_type": "code",
   "execution_count": 344,
   "metadata": {},
   "outputs": [
    {
     "data": {
      "text/plain": [
       "760"
      ]
     },
     "execution_count": 344,
     "metadata": {},
     "output_type": "execute_result"
    }
   ],
   "source": [
    "block_height"
   ]
  },
  {
   "cell_type": "code",
   "execution_count": 523,
   "metadata": {},
   "outputs": [],
   "source": [
    "order_data = vega_protos.commands.v1.commands.OrderSubmission(\n",
    "    market_id=market_id,\n",
    "    # price is an integer. For example 123456 is a price of 1.23456,\n",
    "    # assuming 5 decimal places.\n",
    "    price=\"8\",\n",
    "    side=vega_protos.vega.Side.SIDE_BUY,\n",
    "    size=10,\n",
    "    time_in_force=vega_protos.vega.Order.TimeInForce.TIME_IN_FORCE_GTC,\n",
    "    type=vega_protos.vega.Order.Type.TYPE_LIMIT,\n",
    ")"
   ]
  },
  {
   "cell_type": "code",
   "execution_count": 400,
   "metadata": {},
   "outputs": [
    {
     "data": {
      "text/plain": [
       "b'09a27aedcb13db9db390cc0a6d90e3d9be81b79d9dd390c5878d4bfcce2c6d7461e687047b76d513f1f656b23703c25c03589d5c5ad3db7e04578f06ba3abf047b276f726465725375626d697373696f6e273a207b276d61726b65744964273a202765383732623932306236343562643266333034373436336366313838373832306364333631366461383566623165626539623732653634336631376137346534272c20277072696365273a20273135272c202773697a65273a20273130272c202773696465273a2027534944455f53454c4c272c202774696d65496e466f726365273a202754494d455f494e5f464f5243455f475443272c202774797065273a2027545950455f4c494d4954272c20277265666572656e6365273a2027313966333938373939333631396436356232373631616238616562663861363534336538633837393633653237643461633635383232333861376634613966622d35326233653966302d346233392d343830612d626664302d356162666534663065383964277d2c20277075624b6579273a202731396633393837393933363139643635623237363161623861656266386136353433653863383739363365323764346163363538323233386137663461396662272c202770726f706167617465273a20547275657d'"
      ]
     },
     "execution_count": 400,
     "metadata": {},
     "output_type": "execute_result"
    }
   ],
   "source": [
    "signed"
   ]
  },
  {
   "cell_type": "code",
   "execution_count": 475,
   "metadata": {},
   "outputs": [],
   "source": [
    "class sig_gen:\n",
    "    \n",
    "    def __init__(self):\n",
    "        self.sigs = [os.urandom(6).hex() for _ in range(10000)]\n",
    "        self.nonces = np.random.randint(0, 100000, size=100000)\n",
    "        self.idx = 0\n",
    "        self.nonce_idx = 0\n",
    "        \n",
    "    def get(self):\n",
    "        self.idx += 1\n",
    "        return self.sigs[self.idx]\n",
    "    \n",
    "    def get_nonce(self):\n",
    "        self.nonce_idx += 1\n",
    "        return self.nonces[self.nonce_idx]\n",
    "    \n",
    "sg = sig_gen()"
   ]
  },
  {
   "cell_type": "code",
   "execution_count": 457,
   "metadata": {},
   "outputs": [
    {
     "name": "stdout",
     "output_type": "stream",
     "text": [
      "359 ns ± 12.5 ns per loop (mean ± std. dev. of 7 runs, 1,000,000 loops each)\n"
     ]
    }
   ],
   "source": [
    "%%timeit\n",
    "os.urandom(6).hex()"
   ]
  },
  {
   "cell_type": "code",
   "execution_count": 524,
   "metadata": {},
   "outputs": [
    {
     "data": {
      "text/plain": [
       "success: true\n",
       "tx_hash: \"737474394873736E50464E32506757724C594378766C486A4762765A7166786A6F644E575444367559424B3532566E65754F47653546346964356370647A4542\""
      ]
     },
     "execution_count": 524,
     "metadata": {},
     "output_type": "execute_result"
    }
   ],
   "source": [
    "# %%timeit\n",
    "\n",
    "input_data = transaction_proto.InputData(\n",
    "    nonce = sg.get_nonce(),\n",
    "    block_height = block_height,\n",
    "    order_submission = order_data\n",
    ")\n",
    "serialised = input_data.SerializeToString()\n",
    "\n",
    "trans = transaction_proto.Transaction(\n",
    "        input_data=serialised,\n",
    "        signature=signature_proto.Signature(\n",
    "            value=sg.get(), \n",
    "            algo=\"vega/ed25519\",\n",
    "            version=1,\n",
    "        ),\n",
    "        pub_key=pub_key,\n",
    "        version=2,\n",
    "        \n",
    "        pow=transaction_proto.ProofOfWork(\n",
    "            tid=None,\n",
    "            nonce=0, #int.from_bytes(nonce, byteorder='big'),\n",
    "            hash_function=\"sha3_24_rounds\"\n",
    "        )\n",
    "    )\n",
    "request = core_proto.SubmitTransactionRequest(\n",
    "    tx=trans,\n",
    "    type=core_proto.SubmitTransactionRequest.Type.TYPE_ASYNC\n",
    ")\n",
    "\n",
    "vega.core_client().SubmitTransaction(request)"
   ]
  },
  {
   "cell_type": "code",
   "execution_count": 525,
   "metadata": {},
   "outputs": [],
   "source": [
    "vega.forward('10s')"
   ]
  },
  {
   "cell_type": "code",
   "execution_count": 479,
   "metadata": {},
   "outputs": [
    {
     "name": "stdout",
     "output_type": "stream",
     "text": [
      "/var/folders/yj/cjhtlxn90wldd1hvw5lkxnrc0000gn/T/tmph2la5n74\n"
     ]
    }
   ],
   "source": [
    "vega.stop()"
   ]
  },
  {
   "cell_type": "code",
   "execution_count": 127,
   "metadata": {},
   "outputs": [
    {
     "name": "stdout",
     "output_type": "stream",
     "text": [
      "360 µs ± 16.1 µs per loop (mean ± std. dev. of 7 runs, 1,000 loops each)\n"
     ]
    }
   ],
   "source": [
    "%%timeit\n",
    "vega.core_client().SubmitTransaction(request)"
   ]
  },
  {
   "cell_type": "code",
   "execution_count": 463,
   "metadata": {},
   "outputs": [
    {
     "data": {
      "text/plain": [
       "59531"
      ]
     },
     "execution_count": 463,
     "metadata": {},
     "output_type": "execute_result"
    }
   ],
   "source": [
    "vega.console_port"
   ]
  },
  {
   "cell_type": "code",
   "execution_count": 237,
   "metadata": {},
   "outputs": [],
   "source": [
    "from vega_sim.proto.data_node.api.v1.trading_data_pb2 import GetVegaTimeRequest\n",
    "blockchain_time = vega.trading_data_client().GetVegaTime(GetVegaTimeRequest()).timestamp"
   ]
  },
  {
   "cell_type": "code",
   "execution_count": 510,
   "metadata": {},
   "outputs": [
    {
     "data": {
      "text/plain": [
       "<vega_sim.grpc.client.VegaCoreStateClient at 0x11cfa4e80>"
      ]
     },
     "execution_count": 510,
     "metadata": {},
     "output_type": "execute_result"
    }
   ],
   "source": [
    "vega.core_state_client()"
   ]
  },
  {
   "cell_type": "code",
   "execution_count": 521,
   "metadata": {},
   "outputs": [],
   "source": [
    "import vega_sim.proto.vega.api.v1.corestate_pb2 as corestate\n",
    "markets = vega.core_state_client().ListMarketsData(corestate.ListMarketsDataRequest())"
   ]
  },
  {
   "cell_type": "code",
   "execution_count": 522,
   "metadata": {},
   "outputs": [
    {
     "data": {
      "text/plain": [
       "markets_data {\n",
       "  mark_price: \"0\"\n",
       "  best_bid_price: \"10\"\n",
       "  best_bid_volume: 10\n",
       "  best_offer_price: \"15\"\n",
       "  best_offer_volume: 10\n",
       "  best_static_bid_price: \"10\"\n",
       "  best_static_bid_volume: 10\n",
       "  best_static_offer_price: \"15\"\n",
       "  best_static_offer_volume: 10\n",
       "  mid_price: \"12\"\n",
       "  static_mid_price: \"12\"\n",
       "  market: \"2189efa1f5b48e97d17c164eff2ebf00b3aa14044ddf4740dd487900d8b7359a\"\n",
       "  timestamp: 1638185807259066000\n",
       "  auction_end: 1638185788259066000\n",
       "  auction_start: 1638185429259066000\n",
       "  indicative_price: \"0\"\n",
       "  market_trading_mode: TRADING_MODE_OPENING_AUCTION\n",
       "  trigger: AUCTION_TRIGGER_OPENING\n",
       "  target_stake: \"0\"\n",
       "  supplied_stake: \"10000\"\n",
       "  market_value_proxy: \"10000\"\n",
       "  liquidity_provider_fee_share {\n",
       "    party: \"f28d251b2ca9198b65554f136b294da2282e3677b462d60b623de141da2d82e8\"\n",
       "    equity_like_share: \"0\"\n",
       "    average_entry_valuation: \"10000\"\n",
       "  }\n",
       "}"
      ]
     },
     "execution_count": 522,
     "metadata": {},
     "output_type": "execute_result"
    }
   ],
   "source": [
    "markets"
   ]
  },
  {
   "cell_type": "code",
   "execution_count": 273,
   "metadata": {},
   "outputs": [],
   "source": [
    "propo = commands_proto.ProposalSubmission(\n",
    "    reference=\"awdawfanaw\",\n",
    "    rationale=gov_proto.ProposalRationale(description=\"A test\"),\n",
    "    terms = gov_proto.ProposalTerms(\n",
    "            closing_timestamp= blockchain_time + 400,\n",
    "            enactment_timestamp= blockchain_time + 1000,\n",
    "            validation_timestamp= blockchain_time + 100,\n",
    "            update_network_parameter=gov_proto.UpdateNetworkParameter(\n",
    "                changes = vega_protos.vega.NetworkParameter(\n",
    "                    key = \"market.fee.factors.makerFee\",\n",
    "                    value = \"0.02\",\n",
    "                )\n",
    "            )\n",
    "    )\n",
    ")"
   ]
  },
  {
   "cell_type": "code",
   "execution_count": 453,
   "metadata": {},
   "outputs": [
    {
     "name": "stdout",
     "output_type": "stream",
     "text": [
      "1.24 ms ± 104 µs per loop (mean ± std. dev. of 7 runs, 1,000 loops each)\n"
     ]
    }
   ],
   "source": [
    "%%timeit\n",
    "signed = sk.sign(enc, encoder=HexEncoder)\n",
    "# block_height = vega.core_client().LastBlockHeight(core_proto.LastBlockHeightRequest()).height\n",
    "\n",
    "hash_tx = hashlib.sha256()\n",
    "hash_tx.update(os.urandom(10))\n",
    "tx_byte = hash_tx.digest()\n",
    "tx_hex = tx_byte.hex().upper()\n",
    "\n",
    "nonce, proof = PoW(signed, tx_byte)\n",
    "\n",
    "input_data = transaction_proto.InputData(\n",
    "    nonce = random.randint(0, 1000000),\n",
    "    block_height = block_height,\n",
    "    proposal_submission = propo\n",
    ")\n",
    "serialised = input_data.SerializeToString()\n",
    "\n",
    "trans = transaction_proto.Transaction(\n",
    "        input_data=serialised,\n",
    "        signature=signature_proto.Signature(\n",
    "            value=signed,\n",
    "            algo=\"vega/ed25519\",\n",
    "            version=1,\n",
    "        ),\n",
    "        pub_key=pub_key,\n",
    "        version=2,\n",
    "        pow=transaction_proto.ProofOfWork(\n",
    "            tid=str(tx_hex),\n",
    "            nonce=int.from_bytes(nonce, byteorder='big'),\n",
    "            hash_function=\"sha3_24_rounds\"\n",
    "        )\n",
    "    )\n",
    "request = core_proto.SubmitTransactionRequest(\n",
    "    tx=trans,\n",
    "    type=core_proto.SubmitTransactionRequest.Type.TYPE_COMMIT\n",
    ")\n",
    "\n",
    "res = vega.core_client().SubmitTransaction(request)"
   ]
  },
  {
   "cell_type": "code",
   "execution_count": 283,
   "metadata": {},
   "outputs": [
    {
     "data": {
      "text/plain": [
       "103"
      ]
     },
     "execution_count": 283,
     "metadata": {},
     "output_type": "execute_result"
    }
   ],
   "source": [
    "transaction_proto.InputData().ParseFromString(serialised)"
   ]
  },
  {
   "cell_type": "code",
   "execution_count": 530,
   "metadata": {},
   "outputs": [],
   "source": [
    "import inflection"
   ]
  },
  {
   "cell_type": "code",
   "execution_count": 533,
   "metadata": {},
   "outputs": [
    {
     "data": {
      "text/plain": [
       "'orderSubmission'"
      ]
     },
     "execution_count": 533,
     "metadata": {},
     "output_type": "execute_result"
    }
   ],
   "source": [
    "inflection.camelize('orderSubmission', uppercase_first_letter=False)"
   ]
  },
  {
   "cell_type": "code",
   "execution_count": null,
   "metadata": {},
   "outputs": [],
   "source": []
  }
 ],
 "metadata": {
  "interpreter": {
   "hash": "87b20bb796d189f13d9ce00805651be06d69b84ebb9e8b04acadd5416d612a7f"
  },
  "kernelspec": {
   "display_name": "Python 3 (ipykernel)",
   "language": "python",
   "name": "python3"
  },
  "language_info": {
   "codemirror_mode": {
    "name": "ipython",
    "version": 3
   },
   "file_extension": ".py",
   "mimetype": "text/x-python",
   "name": "python",
   "nbconvert_exporter": "python",
   "pygments_lexer": "ipython3",
   "version": "3.9.11"
  }
 },
 "nbformat": 4,
 "nbformat_minor": 4
}
