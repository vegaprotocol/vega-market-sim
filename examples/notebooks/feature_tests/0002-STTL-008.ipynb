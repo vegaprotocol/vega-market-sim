{
 "cells": [
  {
   "cell_type": "code",
   "execution_count": null,
   "metadata": {},
   "outputs": [],
   "source": [
    "from collections import namedtuple\n",
    "\n",
    "from vega_sim.null_service import VegaServiceNull\n",
    "import vega_python_protos.protos.vega as vega_protos\n"
   ]
  },
  {
   "cell_type": "code",
   "execution_count": null,
   "metadata": {},
   "outputs": [],
   "source": [
    "WalletConfig = namedtuple(\"WalletConfig\", [\"name\", \"passphrase\"])\n",
    "\n",
    "MM_WALLET = WalletConfig(\"mm\", \"mm\")\n",
    "\n",
    "TRADER_a1_WALLET = WalletConfig(\"a1\", \"pin\")\n",
    "\n",
    "TRADER_a2_WALLET = WalletConfig(\"a2\", \"pin\")\n",
    "\n",
    "TRADER_2_WALLET = WalletConfig(\"T2\", \"pin\")\n",
    "\n",
    "TRADER_3_WALLET = WalletConfig(\"T3\", \"pin\")\n",
    "\n",
    "TERMINATE_WALLET = WalletConfig(\"Settle\", \"pin\")\n",
    "\n",
    "wallets = [MM_WALLET, TRADER_2_WALLET, TRADER_3_WALLET, TRADER_a1_WALLET , TRADER_a2_WALLET, TERMINATE_WALLET]\n"
   ]
  },
  {
   "cell_type": "code",
   "execution_count": null,
   "metadata": {},
   "outputs": [],
   "source": [
    "vega = VegaServiceNull(run_with_console=False, use_full_vega_wallet=False)\n",
    "vega.start()"
   ]
  },
  {
   "cell_type": "code",
   "execution_count": null,
   "metadata": {},
   "outputs": [],
   "source": [
    "for wallet in wallets:\n",
    "    vega.create_wallet(wallet.name, passphrase=wallet.passphrase)\n",
    "vega.forward('10s')"
   ]
  },
  {
   "cell_type": "code",
   "execution_count": null,
   "metadata": {},
   "outputs": [],
   "source": [
    "vega.mint(\n",
    "    MM_WALLET.name,\n",
    "    asset=\"VOTE\",\n",
    "    amount=10000,\n",
    ")\n",
    "\n",
    "vega.forward(\"20s\")\n",
    "vega.create_asset(\n",
    "    MM_WALLET.name,\n",
    "    name=\"tDAI\",\n",
    "    symbol=\"tDAI\",\n",
    "    decimals=5,\n",
    ")\n",
    "\n",
    "tdai_id = vega.find_asset_id(symbol=\"tDAI\")\n",
    "\n",
    "mint_amount = {MM_WALLET.name: 10e12, TRADER_a1_WALLET.name: 10e12, TRADER_a2_WALLET.name: 10e12, TRADER_2_WALLET.name: 2000, TRADER_3_WALLET.name: 90, TERMINATE_WALLET.name: 2000}\n",
    "\n",
    "vega.mint(\n",
    "    MM_WALLET.name,\n",
    "    tdai_id,\n",
    "    amount=mint_amount[MM_WALLET.name]\n",
    ")\n",
    "vega.mint(\n",
    "    TRADER_a1_WALLET.name,\n",
    "    tdai_id,\n",
    "    amount=mint_amount[TRADER_a1_WALLET.name]\n",
    ")\n",
    "vega.mint(\n",
    "    TRADER_a2_WALLET.name,\n",
    "    tdai_id,\n",
    "    amount=mint_amount[TRADER_a2_WALLET.name]\n",
    ")\n",
    "vega.mint(\n",
    "    TRADER_2_WALLET.name,\n",
    "    tdai_id,\n",
    "    amount=mint_amount[TRADER_2_WALLET.name]\n",
    ")\n",
    "vega.mint(\n",
    "    TRADER_3_WALLET.name,\n",
    "    tdai_id,\n",
    "    amount=mint_amount[TRADER_3_WALLET.name]\n",
    ")\n",
    "vega.mint(\n",
    "    TERMINATE_WALLET.name,\n",
    "    tdai_id,\n",
    "    amount=mint_amount[TERMINATE_WALLET.name]\n",
    ")\n",
    "\n",
    "vega.wait_for_total_catchup()\n"
   ]
  },
  {
   "cell_type": "code",
   "execution_count": null,
   "metadata": {},
   "outputs": [],
   "source": [
    "vega.update_network_parameter(\n",
    "            MM_WALLET.name, \n",
    "            parameter=\"market.margin.scalingFactors\", \n",
    "            new_value=\"{\\\"search_level\\\": 1.5, \\\"initial_margin\\\": 2, \\\"collateral_release\\\": 3}\"\n",
    "        )"
   ]
  },
  {
   "cell_type": "code",
   "execution_count": null,
   "metadata": {},
   "outputs": [],
   "source": [
    "# Create a market\n",
    "vega.create_simple_market(\n",
    "        market_name=\"BTC:DAI_Mar22\",\n",
    "        proposal_wallet=MM_WALLET.name,\n",
    "        settlement_asset_id=tdai_id,\n",
    "        termination_wallet=TERMINATE_WALLET.name,\n",
    "        position_decimals=0,\n",
    "        market_decimals=0,\n",
    "        risk_aversion=0.000001,\n",
    "        tau=0.1,\n",
    "        sigma=1,\n",
    "        \n",
    ")\n",
    "\n",
    "market_id = vega.all_markets()[0].id"
   ]
  },
  {
   "cell_type": "code",
   "execution_count": null,
   "metadata": {},
   "outputs": [],
   "source": [
    "# submit liquidity\n",
    "vega.submit_simple_liquidity(\n",
    "    wallet_name=MM_WALLET.name,\n",
    "    market_id=market_id,\n",
    "    commitment_amount=100000,\n",
    "    fee=0.001,\n",
    "    reference_buy=\"PEGGED_REFERENCE_BEST_BID\",\n",
    "    reference_sell=\"PEGGED_REFERENCE_BEST_ASK\",\n",
    "    delta_buy=55,\n",
    "    delta_sell=55,\n",
    "    is_amendment=False,\n",
    ")\n",
    "\n",
    "vega.forward('1s')\n",
    "vega.forward('1s')"
   ]
  },
  {
   "cell_type": "code",
   "execution_count": null,
   "metadata": {},
   "outputs": [],
   "source": [
    "# Post GTC limit order\n",
    "buy_order_id = vega.submit_order(\n",
    "    trading_wallet=TRADER_a2_WALLET.name,\n",
    "    market_id=market_id,\n",
    "    order_type=\"TYPE_LIMIT\",\n",
    "    time_in_force=\"TIME_IN_FORCE_GTC\",\n",
    "    side=\"SIDE_BUY\",\n",
    "    volume=5,\n",
    "    price=5,\n",
    "    wait=True,\n",
    ")\n",
    "\n",
    "sell_order_id = vega.submit_order(\n",
    "    trading_wallet=TRADER_a1_WALLET.name,\n",
    "    market_id=market_id,\n",
    "    order_type=\"TYPE_LIMIT\",\n",
    "    time_in_force=\"TIME_IN_FORCE_GTC\",\n",
    "    side=\"SIDE_SELL\",\n",
    "    volume=10,\n",
    "    price=1000,\n",
    "    wait=True,\n",
    ")\n",
    "\n",
    "buy_order_id = vega.submit_order(\n",
    "    trading_wallet=TRADER_a2_WALLET.name,\n",
    "    market_id=market_id,\n",
    "    order_type=\"TYPE_LIMIT\",\n",
    "    time_in_force=\"TIME_IN_FORCE_GTC\",\n",
    "    side=\"SIDE_BUY\",\n",
    "    volume=10,\n",
    "    price=10,\n",
    "    wait=True,\n",
    ")\n",
    "\n",
    "sell_order_id = vega.submit_order(\n",
    "    trading_wallet=TRADER_a1_WALLET.name,\n",
    "    market_id=market_id,\n",
    "    order_type=\"TYPE_LIMIT\",\n",
    "    time_in_force=\"TIME_IN_FORCE_GTC\",\n",
    "    side=\"SIDE_SELL\",\n",
    "    volume=10,\n",
    "    price=10,\n",
    "    wait=True,\n",
    ")\n"
   ]
  },
  {
   "cell_type": "code",
   "execution_count": null,
   "metadata": {},
   "outputs": [],
   "source": [
    "# Check order status/ market state\n",
    "\n",
    "for wallet in wallets:\n",
    "    general, margin, bond = vega.party_account(wallet_name=wallet.name, asset_id=tdai_id, market_id=market_id)\n",
    "    print(wallet.name + \" General = \"+str(general))\n",
    "    print(wallet.name + \" Margin  = \"+str(margin))\n",
    "    print(wallet.name + \" Bond    = \"+str(bond))\n",
    "    print(vega.margin_levels(wallet.name))\n",
    "    print(general+margin+bond - mint_amount[wallet.name])\n",
    "    print(vega.order_status(order_id=buy_order_id))\n",
    "\n",
    "print(vega.get_latest_market_data(market_id=market_id))"
   ]
  },
  {
   "cell_type": "code",
   "execution_count": null,
   "metadata": {},
   "outputs": [],
   "source": [
    "buy_order_id = vega.submit_order(\n",
    "    trading_wallet=TRADER_2_WALLET.name,\n",
    "    market_id=market_id,\n",
    "    order_type=\"TYPE_LIMIT\",\n",
    "    time_in_force=\"TIME_IN_FORCE_GTC\",\n",
    "    side=\"SIDE_BUY\",\n",
    "    volume=40,\n",
    "    price=50,\n",
    "    wait=True,\n",
    ")\n",
    "for wallet in wallets:\n",
    "    general, margin, bond = vega.party_account(wallet_name=wallet.name, asset_id=tdai_id, market_id=market_id)\n",
    "    print(vega.margin_levels(wallet.name))\n",
    "    print(wallet.name + \" General = \"+str(general))\n",
    "    print(wallet.name + \" Margin  = \"+str(margin))\n",
    "    print(wallet.name + \" Bond    = \"+str(bond))\n",
    "\n"
   ]
  },
  {
   "cell_type": "code",
   "execution_count": null,
   "metadata": {},
   "outputs": [],
   "source": [
    "\n",
    "buy_order_id = vega.submit_order(\n",
    "    trading_wallet=TRADER_3_WALLET.name,\n",
    "    market_id=market_id,\n",
    "    order_type=\"TYPE_LIMIT\",\n",
    "    time_in_force=\"TIME_IN_FORCE_GTC\",\n",
    "    side=\"SIDE_BUY\",\n",
    "    volume=10,\n",
    "    price=100,\n",
    "    wait=True,\n",
    ")\n",
    "\n",
    "for wallet in wallets:\n",
    "    general, margin, bond = vega.party_account(wallet_name=wallet.name, asset_id=tdai_id, market_id=market_id)\n",
    "    print(vega.margin_levels(wallet.name))\n",
    "    print(wallet.name + \" General = \"+str(general))\n",
    "    print(wallet.name + \" Margin  = \"+str(margin))\n",
    "    print(wallet.name + \" Bond    = \"+str(bond))"
   ]
  },
  {
   "cell_type": "code",
   "execution_count": null,
   "metadata": {},
   "outputs": [],
   "source": [
    "# Check order status/ market state after amend\n",
    "print(vega.order_status(order_id=buy_order_id))\n",
    "\n",
    "print(vega.get_latest_market_data(market_id=market_id))"
   ]
  }
 ],
 "metadata": {
  "kernelspec": {
   "display_name": "Python 3.10.5 ('vega-sim--C-5Z97x-py3.10')",
   "language": "python",
   "name": "python3"
  },
  "language_info": {
   "codemirror_mode": {
    "name": "ipython",
    "version": 3
   },
   "file_extension": ".py",
   "mimetype": "text/x-python",
   "name": "python",
   "nbconvert_exporter": "python",
   "pygments_lexer": "ipython3",
   "version": "3.11.6"
  },
  "orig_nbformat": 4,
  "vscode": {
   "interpreter": {
    "hash": "59fd619eaad3c78371ee1aac944d346ce9ecb81369e5ddfe439b089d4341da84"
   }
  }
 },
 "nbformat": 4,
 "nbformat_minor": 2
}
