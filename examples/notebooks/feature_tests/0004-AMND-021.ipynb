{
 "cells": [
  {
   "cell_type": "code",
   "execution_count": null,
   "metadata": {},
   "outputs": [],
   "source": [
    "from collections import namedtuple\n",
    "\n",
    "from vega_sim.null_service import VegaServiceNull\n",
    "import vega_protos.protos.vega as vega_protos"
   ]
  },
  {
   "cell_type": "code",
   "execution_count": null,
   "metadata": {},
   "outputs": [],
   "source": [
    "WalletConfig = namedtuple(\"WalletConfig\", [\"name\", \"passphrase\"])\n",
    "\n",
    "MM_WALLET = WalletConfig(\"mm\", \"mm\")\n",
    "\n",
    "TRADER_1_WALLET = WalletConfig(\"T1\", \"pin\")\n",
    "\n",
    "TRADER_2_WALLET = WalletConfig(\"T2\", \"pin\")\n",
    "\n",
    "TRADER_A1_WALLET = WalletConfig(\"A1\", \"pin\")\n",
    "\n",
    "TRADER_A2_WALLET = WalletConfig(\"A2\", \"pin\")\n",
    "\n",
    "TERMINATE_WALLET = WalletConfig(\"Settle\", \"pin\")\n",
    "\n",
    "wallets = [MM_WALLET, TRADER_1_WALLET, TRADER_2_WALLET, TRADER_A1_WALLET, TRADER_A2_WALLET, TERMINATE_WALLET]"
   ]
  },
  {
   "cell_type": "code",
   "execution_count": null,
   "metadata": {},
   "outputs": [],
   "source": [
    "vega = VegaServiceNull(run_with_console=False, use_full_vega_wallet=False)\n",
    "vega.start()"
   ]
  },
  {
   "cell_type": "code",
   "execution_count": null,
   "metadata": {},
   "outputs": [],
   "source": [
    "for wallet in wallets:\n",
    "    vega.create_wallet(wallet.name, passphrase=wallet.passphrase)\n",
    "vega.forward('10s')"
   ]
  },
  {
   "cell_type": "code",
   "execution_count": null,
   "metadata": {},
   "outputs": [],
   "source": [
    "vega.mint(\n",
    "    MM_WALLET.name,\n",
    "    asset=\"VOTE\",\n",
    "    amount=10000,\n",
    ")\n",
    "\n",
    "vega.forward(\"20s\")\n",
    "vega.create_asset(\n",
    "    MM_WALLET.name,\n",
    "    name=\"tDAI\",\n",
    "    symbol=\"tDAI\",\n",
    "    decimals=5,\n",
    ")\n",
    "\n",
    "tdai_id = vega.find_asset_id(symbol=\"tDAI\")\n",
    "\n",
    "vega.mint(\n",
    "    MM_WALLET.name,\n",
    "    tdai_id,\n",
    "    amount=10e7\n",
    ")\n",
    "vega.mint(\n",
    "    TRADER_1_WALLET.name,\n",
    "    tdai_id,\n",
    "    amount=10e5\n",
    ")\n",
    "vega.mint(\n",
    "    TRADER_2_WALLET.name,\n",
    "    tdai_id,\n",
    "    amount=10e5\n",
    ")\n",
    "vega.mint(\n",
    "    TRADER_A1_WALLET.name,\n",
    "    tdai_id,\n",
    "    amount=10e5\n",
    ")\n",
    "vega.mint(\n",
    "    TRADER_A2_WALLET.name,\n",
    "    tdai_id,\n",
    "    amount=10e5\n",
    ")\n",
    "vega.wait_for_total_catchup()"
   ]
  },
  {
   "cell_type": "code",
   "execution_count": null,
   "metadata": {},
   "outputs": [],
   "source": [
    "# Create a market\n",
    "vega.create_simple_market(\n",
    "        market_name=\"BTC:DAI_Mar22\",\n",
    "        proposal_wallet=MM_WALLET.name,\n",
    "        settlement_asset_id=tdai_id,\n",
    "        termination_wallet=TERMINATE_WALLET.name,\n",
    "        position_decimals=2,\n",
    "        market_decimals=3,\n",
    ")\n",
    "\n",
    "market_id = vega.all_markets()[0].id\n",
    "\n",
    "vega.submit_simple_liquidity(\n",
    "    wallet_name=MM_WALLET.name,\n",
    "    market_id=market_id,\n",
    "    commitment_amount=600,\n",
    "    fee=0.05,\n",
    "    reference_buy=\"PEGGED_REFERENCE_BEST_BID\",\n",
    "    reference_sell=\"PEGGED_REFERENCE_BEST_ASK\",\n",
    "    delta_buy=1,\n",
    "    delta_sell=1,\n",
    "    is_amendment=False,\n",
    ")"
   ]
  },
  {
   "cell_type": "code",
   "execution_count": null,
   "metadata": {},
   "outputs": [],
   "source": [
    "# Make market pass opening auction\n",
    "vega.submit_order(\n",
    "    trading_wallet=TRADER_A1_WALLET.name,\n",
    "    market_id=market_id,\n",
    "    order_type=\"TYPE_LIMIT\",\n",
    "    time_in_force=\"TIME_IN_FORCE_GTC\",\n",
    "    side=\"SIDE_BUY\",\n",
    "    volume=1,\n",
    "    price=100,\n",
    "    wait=True,\n",
    ")\n",
    "vega.submit_order(\n",
    "    trading_wallet=TRADER_A2_WALLET.name,\n",
    "    market_id=market_id,\n",
    "    order_type=\"TYPE_LIMIT\",\n",
    "    time_in_force=\"TIME_IN_FORCE_GTC\",\n",
    "    side=\"SIDE_SELL\",\n",
    "    volume=1,\n",
    "    price=100,\n",
    "    wait=True,\n",
    ")\n",
    "\n",
    "# Post limit order\n",
    "buy_order_id = vega.submit_order(\n",
    "    trading_wallet=TRADER_1_WALLET.name,\n",
    "    market_id=market_id,\n",
    "    order_type=\"TYPE_LIMIT\",\n",
    "    time_in_force=\"TIME_IN_FORCE_GTC\",\n",
    "    side=\"SIDE_BUY\",\n",
    "    volume=1,\n",
    "    price=95,\n",
    "    wait=True,\n",
    ")\n",
    "\n",
    "sell_order_id = vega.submit_order(\n",
    "    trading_wallet=TRADER_2_WALLET.name,\n",
    "    market_id=market_id,\n",
    "    order_type=\"TYPE_LIMIT\",\n",
    "    time_in_force=\"TIME_IN_FORCE_GTC\",\n",
    "    side=\"SIDE_SELL\",\n",
    "    volume=1,\n",
    "    price=105,\n",
    "    wait=True,\n",
    ")\n"
   ]
  },
  {
   "cell_type": "code",
   "execution_count": null,
   "metadata": {},
   "outputs": [],
   "source": [
    "print(\"Margin level of Trader 1 (volume=1):\", \"\\n\", vega.margin_levels(wallet_name=TRADER_1_WALLET.name, market_id=market_id))\n",
    "general, margin, bond = vega.party_account(wallet_name=TRADER_1_WALLET.name, asset_id=tdai_id, market_id=market_id)\n",
    "print(\"Margin account: \", margin)"
   ]
  },
  {
   "cell_type": "code",
   "execution_count": null,
   "metadata": {},
   "outputs": [],
   "source": [
    "# Amend order to increase volume\n",
    "vega.amend_order(\n",
    "    trading_wallet=TRADER_1_WALLET.name,\n",
    "    market_id=market_id,\n",
    "    order_id=buy_order_id,\n",
    "    volume_delta=99,\n",
    ")"
   ]
  },
  {
   "cell_type": "code",
   "execution_count": null,
   "metadata": {},
   "outputs": [],
   "source": [
    "# Check order info if amend successfully\n",
    "vega.order_status(order_id=buy_order_id)"
   ]
  },
  {
   "cell_type": "code",
   "execution_count": null,
   "metadata": {},
   "outputs": [],
   "source": [
    "print(\"Margin level of Trader 1 (volume=100):\", \"\\n\", vega.margin_levels(wallet_name=TRADER_1_WALLET.name, market_id=market_id))\n",
    "general, margin, bond = vega.party_account(wallet_name=TRADER_1_WALLET.name, asset_id=tdai_id, market_id=market_id)\n",
    "print(\"Margin account: \", margin)"
   ]
  },
  {
   "cell_type": "code",
   "execution_count": null,
   "metadata": {},
   "outputs": [],
   "source": []
  }
 ],
 "metadata": {
  "kernelspec": {
   "display_name": "Python 3.10.5 ('vega-sim-lzu_5rfb-py3.10')",
   "language": "python",
   "name": "python3"
  },
  "language_info": {
   "codemirror_mode": {
    "name": "ipython",
    "version": 3
   },
   "file_extension": ".py",
   "mimetype": "text/x-python",
   "name": "python",
   "nbconvert_exporter": "python",
   "pygments_lexer": "ipython3",
   "version": "3.11.6"
  },
  "orig_nbformat": 4,
  "vscode": {
   "interpreter": {
    "hash": "fcee2fa48d748e2488b6026bb440d19b7432a8bda11c0a191cabf20bd7d8a9eb"
   }
  }
 },
 "nbformat": 4,
 "nbformat_minor": 2
}
