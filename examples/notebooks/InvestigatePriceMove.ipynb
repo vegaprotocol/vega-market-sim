{
 "cells": [
  {
   "cell_type": "code",
   "execution_count": null,
   "metadata": {},
   "outputs": [],
   "source": [
    "import datetime\n",
    "import matplotlib.pyplot as plt\n",
    "import numpy as np\n",
    "\n",
    "import vega_sim.api.data_raw as data_raw\n",
    "import vega_sim.proto.vega as vega_protos\n",
    "from vega_sim.grpc.client import VegaTradingDataClientV2"
   ]
  },
  {
   "cell_type": "code",
   "execution_count": null,
   "metadata": {},
   "outputs": [],
   "source": [
    "data_client = VegaTradingDataClientV2('darling.network:3007')\n",
    "market_id= \"2dca7baa5f7269b08d053668bca03f97f72e9a162327eebd941c54f1f9fb8f80\"\n",
    "start = datetime.datetime(2023,5,31,12,57,45, tzinfo=datetime.timezone.utc)\n",
    "end = start + datetime.timedelta(minutes=1)\n",
    "\n",
    "trades = data_raw.get_trades(\n",
    "    market_id=market_id,\n",
    "    start=start,\n",
    "    end=end,\n",
    "    data_client=data_client\n",
    "    )\n",
    "market_data = data_raw.market_data_history(\n",
    "    market_id=market_id,\n",
    "    start=start,\n",
    "    end=end,\n",
    "    data_client=data_client\n",
    "    )\n"
   ]
  },
  {
   "cell_type": "code",
   "execution_count": null,
   "metadata": {},
   "outputs": [],
   "source": [
    "fig = plt.figure()\n",
    "\n",
    "# prices\n",
    "prices = np.array([float(t.price)*1e-1 for t in trades])\n",
    "plt.plot([datetime.datetime.fromtimestamp(t.timestamp // 1000000000) for t in trades], prices, label = \"price\")\n",
    "fig.autofmt_xdate()\n",
    "\n",
    "# price monitoring bounds\n",
    "ts = [datetime.datetime.fromtimestamp(d.timestamp // 1000000000) for d in market_data]\n",
    "max_1 =  np.array([float(d.price_monitoring_bounds[0].max_valid_price)*1e-1 for d in market_data])\n",
    "max_2 =  np.array([float(d.price_monitoring_bounds[1].max_valid_price)*1e-1 for d in market_data])\n",
    "max_3 =  np.array([float(d.price_monitoring_bounds[2].max_valid_price)*1e-1 for d in market_data])\n",
    "min_1 =  np.array([float(d.price_monitoring_bounds[0].min_valid_price)*1e-1 for d in market_data])\n",
    "min_2 =  np.array([float(d.price_monitoring_bounds[1].min_valid_price)*1e-1 for d in market_data])\n",
    "min_3 =  np.array([float(d.price_monitoring_bounds[2].min_valid_price)*1e-1 for d in market_data])\n",
    "\n",
    "plt.plot(ts, max_1, label = \"max (trigger 1)\")\n",
    "plt.plot(ts, max_2, label = \"max (trigger 2)\")\n",
    "plt.plot(ts, max_3, label = \"max (trigger 3)\")\n",
    "plt.plot(ts, min_1, label = \"min (trigger 1)\")\n",
    "plt.plot(ts, min_2, label = \"min (trigger 2)\")\n",
    "plt.plot(ts, min_3, label = \"min (trigger 3)\")\n",
    "\n",
    "\n",
    "plt.legend()\n",
    "plt.show()"
   ]
  },
  {
   "cell_type": "code",
   "execution_count": null,
   "metadata": {},
   "outputs": [],
   "source": [
    "outlier_trades =  np.array(trades)[np.where(prices<np.max(np.maximum(min_1,min_2,min_3)))]\n",
    "[vega_protos.vega._TRADE_TYPE.values_by_number[t.type].name for t in outlier_trades]"
   ]
  }
 ],
 "metadata": {
  "kernelspec": {
   "display_name": "vega-sim-mX-wAUEr-py3.10",
   "language": "python",
   "name": "python3"
  },
  "language_info": {
   "codemirror_mode": {
    "name": "ipython",
    "version": 3
   },
   "file_extension": ".py",
   "mimetype": "text/x-python",
   "name": "python",
   "nbconvert_exporter": "python",
   "pygments_lexer": "ipython3",
   "version": "3.10.11"
  },
  "orig_nbformat": 4,
  "vscode": {
   "interpreter": {
    "hash": "318823c98e1a9cd0f2962b1f90ae1d8f207819c094496f1cee5f8678163e4817"
   }
  }
 },
 "nbformat": 4,
 "nbformat_minor": 2
}
