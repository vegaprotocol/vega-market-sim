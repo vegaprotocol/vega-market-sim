{
 "cells": [
  {
   "cell_type": "code",
   "execution_count": 50,
   "id": "4eb2bebd-77d2-42bd-b31a-51b1abd21fba",
   "metadata": {},
   "outputs": [
    {
     "name": "stdout",
     "output_type": "stream",
     "text": [
      "The autoreload extension is already loaded. To reload it, use:\n",
      "  %reload_ext autoreload\n"
     ]
    }
   ],
   "source": [
    "%load_ext autoreload\n",
    "%autoreload 2"
   ]
  },
  {
   "cell_type": "code",
   "execution_count": 51,
   "id": "93778ab8-58fb-4d3a-b5d5-6186db5d637d",
   "metadata": {},
   "outputs": [],
   "source": [
    "from collections import namedtuple\n",
    "\n",
    "from vega_sim.null_service import VegaServiceNull\n",
    "import vega_sim.proto.vega as vega_protos\n",
    "\n",
    "import numpy as np\n",
    "import time\n",
    "import vega_sim.proto.data_node.api.v2 as data_node_protos_v2\n"
   ]
  },
  {
   "cell_type": "code",
   "execution_count": 52,
   "id": "b48d05f5-00fd-4196-a6cd-9d02bd28ff9b",
   "metadata": {},
   "outputs": [],
   "source": [
    "WalletConfig = namedtuple(\"WalletConfig\", [\"name\", \"passphrase\"])\n",
    "\n",
    "MM_WALLET = WalletConfig(\"mm\", \"mm\")\n",
    "\n",
    "TRADER_1_WALLET = WalletConfig(\"T1\", \"pin\")\n",
    "\n",
    "TRADER_2_WALLET = WalletConfig(\"T2\", \"pin\")\n",
    "\n",
    "TERMINATE_WALLET = WalletConfig(\"Settle\", \"pin\")\n",
    "\n",
    "wallets = [MM_WALLET, TRADER_1_WALLET, TRADER_2_WALLET, TERMINATE_WALLET]"
   ]
  },
  {
   "cell_type": "code",
   "execution_count": 137,
   "id": "8a55f9ef-9af4-473f-ab15-09883059e7c7",
   "metadata": {},
   "outputs": [
    {
     "name": "stderr",
     "output_type": "stream",
     "text": [
      "INFO:vega_sim.null_service:Running NullChain from vegahome of /var/folders/yj/cjhtlxn90wldd1hvw5lkxnrc0000gn/T/vega-sim-mg3a57ef\n",
      "INFO:vega_sim.null_service:Launching GraphQL node at port 52413\n",
      "INFO:vega_sim.null_service:Launching Console at port 52419\n"
     ]
    }
   ],
   "source": [
    "vega = VegaServiceNull(run_with_console=False, use_full_vega_wallet=False, warn_on_raw_data_access=False)\n",
    "vega.start()"
   ]
  },
  {
   "cell_type": "markdown",
   "id": "1a794af8-c9ee-49f3-a1cd-1c8ff032b31d",
   "metadata": {},
   "source": [
    "#### Create the wallets"
   ]
  },
  {
   "cell_type": "code",
   "execution_count": 138,
   "id": "6c7e104f-2bc8-465d-82c4-94102fb0b08f",
   "metadata": {},
   "outputs": [],
   "source": [
    "for wallet in wallets:\n",
    "    vega.create_wallet(wallet.name, passphrase=wallet.passphrase)\n",
    "vega.forward('10s')"
   ]
  },
  {
   "cell_type": "markdown",
   "id": "5b75a56d-6435-4795-8286-7800c97e3933",
   "metadata": {},
   "source": [
    "#### Create the settlment asset and mint"
   ]
  },
  {
   "cell_type": "code",
   "execution_count": 139,
   "id": "2020bd42-8a53-4527-af16-d63d1b781584",
   "metadata": {},
   "outputs": [],
   "source": [
    "vega.mint(\n",
    "    MM_WALLET.name,\n",
    "    asset=\"VOTE\",\n",
    "    amount=10000,\n",
    ")\n",
    "\n",
    "vega.forward(\"20s\")\n",
    "vega.create_asset(\n",
    "    MM_WALLET.name,\n",
    "    name=\"tDAI\",\n",
    "    symbol=\"tDAI\",\n",
    "    decimals=5,\n",
    "    max_faucet_amount=10e15,  # is this including decimals or not?\n",
    ")"
   ]
  },
  {
   "cell_type": "code",
   "execution_count": 140,
   "id": "dcc18fdb-4a5a-4c90-a62f-d34ed9709c8d",
   "metadata": {},
   "outputs": [],
   "source": [
    "tdai_id = vega.find_asset_id(symbol=\"tDAI\")"
   ]
  },
  {
   "cell_type": "code",
   "execution_count": 141,
   "id": "08dce991-7fbc-485d-b6f2-2889b754c0d4",
   "metadata": {},
   "outputs": [],
   "source": [
    "vega.mint(\n",
    "    MM_WALLET.name,\n",
    "    tdai_id,\n",
    "    amount=10e7\n",
    ")\n",
    "vega.mint(\n",
    "    TRADER_1_WALLET.name,\n",
    "    tdai_id,\n",
    "    amount=10e5\n",
    ")\n",
    "vega.mint(\n",
    "    TRADER_2_WALLET.name,\n",
    "    tdai_id,\n",
    "    amount=10e5\n",
    ")\n",
    "vega.wait_for_total_catchup()"
   ]
  },
  {
   "cell_type": "markdown",
   "id": "5e50c3fe-55af-4ff1-a1ef-1de2b2573ece",
   "metadata": {},
   "source": [
    "#### Create the market and set up liquidity"
   ]
  },
  {
   "cell_type": "code",
   "execution_count": 142,
   "id": "b329b75c-0e27-4b3d-b5c6-0b1a34a04894",
   "metadata": {},
   "outputs": [],
   "source": [
    "vega.create_simple_market(\n",
    "        market_name=\"BTC:DAI_Mar22\",\n",
    "        proposal_wallet=MM_WALLET.name,\n",
    "        settlement_asset_id=tdai_id,\n",
    "        termination_wallet=TERMINATE_WALLET.name,\n",
    "        position_decimals=2,\n",
    "        market_decimals=3,\n",
    "    )"
   ]
  },
  {
   "cell_type": "code",
   "execution_count": 143,
   "id": "4e6762d4-a986-492d-84fe-59b3a1a562ff",
   "metadata": {},
   "outputs": [
    {
     "name": "stdout",
     "output_type": "stream",
     "text": [
      "17c33a829b357f5b4df63ef8d46238d97baf1e50e91aeabb91d658a642273c9d\n"
     ]
    }
   ],
   "source": [
    "market_id = vega.all_markets()[0].id\n",
    "print(market_id)"
   ]
  },
  {
   "cell_type": "code",
   "execution_count": 144,
   "id": "49afceef-d159-4afb-85e1-e7c47eaf3a6c",
   "metadata": {},
   "outputs": [],
   "source": [
    "vega.submit_simple_liquidity(\n",
    "    wallet_name=MM_WALLET.name,\n",
    "    market_id=market_id,\n",
    "    commitment_amount=600,\n",
    "    fee=0.05,\n",
    "    reference_buy=\"PEGGED_REFERENCE_MID\",\n",
    "    reference_sell=\"PEGGED_REFERENCE_MID\",\n",
    "    delta_buy=5,\n",
    "    delta_sell=5,\n",
    "    is_amendment=False,\n",
    ")\n",
    "\n",
    "vega.forward('1s')\n",
    "vega.forward('1s')"
   ]
  },
  {
   "cell_type": "code",
   "execution_count": 145,
   "id": "2fb9cbaf-7d48-4b22-a590-749fe42b290e",
   "metadata": {},
   "outputs": [],
   "source": [
    "# Submit orders which will stay on the book and create best bid / ask \n",
    "vega.submit_order(\n",
    "    trading_wallet=MM_WALLET.name,\n",
    "    market_id=market_id,\n",
    "    order_type=\"TYPE_LIMIT\",\n",
    "    time_in_force=\"TIME_IN_FORCE_GTC\",\n",
    "    side=\"SIDE_BUY\",\n",
    "    volume=1,\n",
    "    price=96,\n",
    "    wait=False,\n",
    ")\n",
    "\n",
    "vega.submit_order(\n",
    "    trading_wallet=MM_WALLET.name,\n",
    "    market_id=market_id,\n",
    "    order_type=\"TYPE_LIMIT\",\n",
    "    time_in_force=\"TIME_IN_FORCE_GTC\",\n",
    "    side=\"SIDE_SELL\",\n",
    "    volume=1,\n",
    "    price=104,\n",
    "    wait=False,\n",
    ")\n",
    "\n"
   ]
  },
  {
   "cell_type": "code",
   "execution_count": 146,
   "id": "7d7dd579",
   "metadata": {},
   "outputs": [
    {
     "name": "stdout",
     "output_type": "stream",
     "text": [
      "mm General = 100000000.0\n",
      "mm Margin  = 0\n",
      "mm Bond    = 0\n",
      "T1 General = 1000000.0\n",
      "T1 Margin  = 0\n",
      "T1 Bond    = 0\n",
      "T2 General = 1000000.0\n",
      "T2 Margin  = 0\n",
      "T2 Bond    = 0\n",
      "Settle General = 0\n",
      "Settle Margin  = 0\n",
      "Settle Bond    = 0\n"
     ]
    }
   ],
   "source": [
    "for wallet in wallets:\n",
    "    general, margin, bond = vega.party_account(wallet_name=wallet.name, asset_id=tdai_id, market_id=market_id)\n",
    "    print(wallet.name + \" General = \"+str(general))\n",
    "    print(wallet.name + \" Margin  = \"+str(margin))\n",
    "    print(wallet.name + \" Bond    = \"+str(bond))"
   ]
  },
  {
   "cell_type": "markdown",
   "id": "b6378ae4-ed75-41d8-bb66-7887d32848e3",
   "metadata": {},
   "source": [
    "#### Do some trading"
   ]
  },
  {
   "cell_type": "code",
   "execution_count": 147,
   "id": "7c3a0346-4c12-4904-956e-cc87252ad2a7",
   "metadata": {},
   "outputs": [],
   "source": [
    "# Do a trade which will cross\n",
    "price = 99\n",
    "vega.submit_order(\n",
    "    trading_wallet=TRADER_1_WALLET.name,\n",
    "    market_id=market_id,\n",
    "    order_type=\"TYPE_LIMIT\",\n",
    "    time_in_force=\"TIME_IN_FORCE_GTC\",\n",
    "    side=\"SIDE_BUY\",\n",
    "    volume=1,\n",
    "    price=price,\n",
    "    wait=False,\n",
    ")\n",
    "\n",
    "vega.submit_order(\n",
    "    trading_wallet=TRADER_2_WALLET.name,\n",
    "    market_id=market_id,\n",
    "    order_type=\"TYPE_LIMIT\",\n",
    "    time_in_force=\"TIME_IN_FORCE_GTC\",\n",
    "    side=\"SIDE_SELL\",\n",
    "    volume=1,\n",
    "    price=price,\n",
    "    wait=False,\n",
    ")\n",
    "vega.forward('10s')\n",
    "\n",
    "# We will now have mark price of 100 \n"
   ]
  },
  {
   "cell_type": "code",
   "execution_count": 148,
   "id": "1fe3abb2-d888-40fd-90cb-b4769737d245",
   "metadata": {},
   "outputs": [],
   "source": [
    "vega.submit_order(\n",
    "    trading_wallet=TRADER_1_WALLET.name,\n",
    "    market_id=market_id,\n",
    "    order_type=\"TYPE_LIMIT\",\n",
    "    time_in_force=\"TIME_IN_FORCE_GTC\",\n",
    "    side=\"SIDE_BUY\",\n",
    "    volume=10,\n",
    "    price=price-3,\n",
    "    wait=False,\n",
    ")\n",
    "\n",
    "vega.submit_order(\n",
    "    trading_wallet=TRADER_2_WALLET.name,\n",
    "    market_id=market_id,\n",
    "    order_type=\"TYPE_LIMIT\",\n",
    "    time_in_force=\"TIME_IN_FORCE_GTC\",\n",
    "    side=\"SIDE_SELL\",\n",
    "    volume=10,\n",
    "    price=price+3,\n",
    "    wait=False,\n",
    ")"
   ]
  },
  {
   "cell_type": "code",
   "execution_count": 149,
   "id": "7da49ab4",
   "metadata": {},
   "outputs": [
    {
     "name": "stdout",
     "output_type": "stream",
     "text": [
      "mm General = 99999399.98576\n",
      "mm Margin  = 0.01424\n",
      "mm Bond    = 600.0\n",
      "T1 General = 999999.98644\n",
      "T1 Margin  = 0.01356\n",
      "T1 Bond    = 0\n",
      "T2 General = 999999.98644\n",
      "T2 Margin  = 0.01356\n",
      "T2 Bond    = 0\n",
      "Settle General = 0\n",
      "Settle Margin  = 0\n",
      "Settle Bond    = 0\n"
     ]
    }
   ],
   "source": [
    "for wallet in wallets:\n",
    "    general, margin, bond = vega.party_account(wallet_name=wallet.name, asset_id=tdai_id, market_id=market_id)\n",
    "    print(wallet.name + \" General = \"+str(general))\n",
    "    print(wallet.name + \" Margin  = \"+str(margin))\n",
    "    print(wallet.name + \" Bond    = \"+str(bond))"
   ]
  },
  {
   "cell_type": "code",
   "execution_count": 150,
   "id": "54a1ef91",
   "metadata": {},
   "outputs": [],
   "source": [
    "vega.submit_liquidity(\n",
    "        MM_WALLET.name,\n",
    "        market_id=market_id,\n",
    "        commitment_amount=2000,\n",
    "        fee=0.005,\n",
    "        buy_specs=[\n",
    "            (\"PEGGED_REFERENCE_MID\", 1, 1), \n",
    "            (\"PEGGED_REFERENCE_BEST_BID\", 0.4, 1)],\n",
    "        sell_specs=[\n",
    "            (\"PEGGED_REFERENCE_MID\", 1, 1),\n",
    "            (\"PEGGED_REFERENCE_BEST_ASK\", 0.4, 1),\n",
    "        ],\n",
    "        is_amendment=True,\n",
    "    )\n",
    "vega.wait_for_datanode_sync()"
   ]
  },
  {
   "cell_type": "code",
   "execution_count": 151,
   "id": "384a08da",
   "metadata": {},
   "outputs": [
    {
     "name": "stdout",
     "output_type": "stream",
     "text": [
      "[100.0, 102.0, 102.4, 104.0, 0, 0, 0, 0, 0, 0, 0]\n",
      "[9.48, 10.0, 9.26, 1.0, 0, 0, 0, 0, 0, 0, 0]\n",
      "[98.0, 96.0, 95.6, 0, 0, 0, 0, 0, 0, 0, 0]\n",
      "[9.72, 11.0, 9.96, 0, 0, 0, 0, 0, 0, 0, 0]\n"
     ]
    }
   ],
   "source": [
    "num_levels = 11\n",
    "book_state = vega.market_depth(\n",
    "            market_id, num_levels=num_levels\n",
    "        )\n",
    "bid_prices=[level.price for level in book_state.buys] + [0] * max(0, num_levels - len(book_state.buys))\n",
    "ask_prices=[level.price for level in book_state.sells] + [0] * max(0, num_levels - len(book_state.sells))\n",
    "bid_volumes=[level.volume for level in book_state.buys] + [0] * max(0, num_levels - len(book_state.buys))\n",
    "ask_volumes=[level.volume for level in book_state.sells] + [0] * max(0, num_levels - len(book_state.sells))\n",
    "\n",
    "print(ask_prices)\n",
    "print(ask_volumes)\n",
    "print(bid_prices)\n",
    "print(bid_volumes)\n"
   ]
  },
  {
   "cell_type": "code",
   "execution_count": 152,
   "id": "2ebac825-92df-4a35-a646-096de694adbf",
   "metadata": {},
   "outputs": [
    {
     "data": {
      "text/plain": [
       "mark_price: \"99000\"\n",
       "best_bid_price: \"96000\"\n",
       "best_bid_volume: 1100\n",
       "best_offer_price: \"102000\"\n",
       "best_offer_volume: 1000\n",
       "best_static_bid_price: \"96000\"\n",
       "best_static_bid_volume: 1100\n",
       "best_static_offer_price: \"102000\"\n",
       "best_static_offer_volume: 1000\n",
       "mid_price: \"99000\"\n",
       "static_mid_price: \"99000\"\n",
       "market: \"17c33a829b357f5b4df63ef8d46238d97baf1e50e91aeabb91d658a642273c9d\"\n",
       "timestamp: 1638185355259066000\n",
       "open_interest: 100\n",
       "indicative_price: \"0\"\n",
       "market_trading_mode: TRADING_MODE_CONTINUOUS\n",
       "target_stake: \"1089\"\n",
       "supplied_stake: \"60000000\"\n",
       "price_monitoring_bounds {\n",
       "  min_valid_price: \"76539\"\n",
       "  max_valid_price: \"127702\"\n",
       "  trigger {\n",
       "    horizon: 86400\n",
       "    probability: \"0.999999\"\n",
       "    auction_extension: 5\n",
       "  }\n",
       "  reference_price: \"9900000\"\n",
       "}\n",
       "market_value_proxy: \"60000000\"\n",
       "liquidity_provider_fee_share {\n",
       "  party: \"08f96335917e83c4587d2ae08d19332d9e3d00ca71828b77e638fe270ee4ad73\"\n",
       "  equity_like_share: \"1\"\n",
       "  average_entry_valuation: \"60000000\"\n",
       "  average_score: \"1\"\n",
       "}\n",
       "market_state: STATE_ACTIVE\n",
       "next_mark_to_market: 1638185359259066000"
      ]
     },
     "execution_count": 152,
     "metadata": {},
     "output_type": "execute_result"
    }
   ],
   "source": [
    "vega.market_data(market_id)"
   ]
  },
  {
   "cell_type": "code",
   "execution_count": 153,
   "id": "58e05b9f-c683-4985-a66c-cf6b99633f51",
   "metadata": {},
   "outputs": [
    {
     "data": {
      "text/plain": [
       "risk_aversion_parameter: 1e-06\n",
       "tau: 0.00011407711613050422\n",
       "params {\n",
       "  sigma: 1.0\n",
       "}"
      ]
     },
     "execution_count": 153,
     "metadata": {},
     "output_type": "execute_result"
    }
   ],
   "source": [
    "vega.market_info(market_id).tradable_instrument.log_normal_risk_model"
   ]
  },
  {
   "cell_type": "code",
   "execution_count": 154,
   "id": "6475b6fe-6c0f-4ffb-b1c3-838ce11f39a4",
   "metadata": {},
   "outputs": [
    {
     "data": {
      "text/plain": [
       "risk_factor {\n",
       "  market: \"17c33a829b357f5b4df63ef8d46238d97baf1e50e91aeabb91d658a642273c9d\"\n",
       "  short: \"0.0001140771161305\"\n",
       "  long: \"0.0001140771161305\"\n",
       "}"
      ]
     },
     "execution_count": 154,
     "metadata": {},
     "output_type": "execute_result"
    }
   ],
   "source": [
    "vega.trading_data_client_v2.GetRiskFactors(data_node_protos_v2.trading_data.GetRiskFactorsRequest(market_id=market_id))"
   ]
  },
  {
   "cell_type": "code",
   "execution_count": 155,
   "id": "e94b2fc9-f6e4-4a17-a441-7d30e85e7e4b",
   "metadata": {},
   "outputs": [],
   "source": [
    "vega.update_market(\n",
    "    proposal_wallet=MM_WALLET.name,\n",
    "    market_id=market_id,\n",
    "    updated_log_normal_risk_model=vega_protos.markets.LogNormalRiskModel(\n",
    "        risk_aversion_parameter=1e-6,\n",
    "        tau=0.01,\n",
    "        params=vega_protos.markets.LogNormalModelParams(sigma=1.0)\n",
    "    )\n",
    ")\n",
    "vega.wait_for_total_catchup()"
   ]
  },
  {
   "cell_type": "code",
   "execution_count": 156,
   "id": "6a344901-400e-4a60-9b22-858e0fa81cf1",
   "metadata": {},
   "outputs": [
    {
     "data": {
      "text/plain": [
       "risk_aversion_parameter: 1e-06\n",
       "tau: 0.01\n",
       "params {\n",
       "  sigma: 1.0\n",
       "}"
      ]
     },
     "execution_count": 156,
     "metadata": {},
     "output_type": "execute_result"
    }
   ],
   "source": [
    "vega.market_info(market_id).tradable_instrument.log_normal_risk_model"
   ]
  },
  {
   "cell_type": "code",
   "execution_count": 157,
   "id": "6a5c60e8-0e3e-4ef8-a436-3ec75e9cddeb",
   "metadata": {},
   "outputs": [
    {
     "data": {
      "text/plain": [
       "risk_factor {\n",
       "  market: \"17c33a829b357f5b4df63ef8d46238d97baf1e50e91aeabb91d658a642273c9d\"\n",
       "  short: \"0.01\"\n",
       "  long: \"0.01\"\n",
       "}"
      ]
     },
     "execution_count": 157,
     "metadata": {},
     "output_type": "execute_result"
    }
   ],
   "source": [
    "\n",
    "vega.trading_data_client_v2.GetRiskFactors(data_node_protos_v2.trading_data.GetRiskFactorsRequest(market_id=market_id))"
   ]
  },
  {
   "cell_type": "code",
   "execution_count": 158,
   "id": "5e705953-9b52-49d2-a2c2-1ddfff785f29",
   "metadata": {},
   "outputs": [],
   "source": [
    "vega.update_market(\n",
    "    proposal_wallet=MM_WALLET.name,\n",
    "    market_id=market_id,\n",
    "    updated_log_normal_risk_model=vega_protos.markets.LogNormalRiskModel(\n",
    "        risk_aversion_parameter=1e-6,\n",
    "        tau=0.06,\n",
    "        params=vega_protos.markets.LogNormalModelParams(sigma=1.0)\n",
    "    )\n",
    ")\n",
    "vega.wait_for_total_catchup()"
   ]
  },
  {
   "cell_type": "code",
   "execution_count": 159,
   "id": "8f9ac3dd-8411-44da-95f2-14f3a39bb137",
   "metadata": {},
   "outputs": [
    {
     "data": {
      "text/plain": [
       "risk_aversion_parameter: 1e-06\n",
       "tau: 0.06\n",
       "params {\n",
       "  sigma: 1.0\n",
       "}"
      ]
     },
     "execution_count": 159,
     "metadata": {},
     "output_type": "execute_result"
    }
   ],
   "source": [
    "vega.market_info(market_id).tradable_instrument.log_normal_risk_model"
   ]
  },
  {
   "cell_type": "code",
   "execution_count": 160,
   "id": "01f20c0f-1936-4787-9dc8-060710e5dfa3",
   "metadata": {},
   "outputs": [
    {
     "data": {
      "text/plain": [
       "risk_factor {\n",
       "  market: \"17c33a829b357f5b4df63ef8d46238d97baf1e50e91aeabb91d658a642273c9d\"\n",
       "  short: \"0.06\"\n",
       "  long: \"0.06\"\n",
       "}"
      ]
     },
     "execution_count": 160,
     "metadata": {},
     "output_type": "execute_result"
    }
   ],
   "source": [
    "vega.trading_data_client_v2.GetRiskFactors(data_node_protos_v2.trading_data.GetRiskFactorsRequest(market_id=market_id))"
   ]
  },
  {
   "cell_type": "code",
   "execution_count": null,
   "id": "01dae734-2e0a-419b-9df9-ea21c2121eaa",
   "metadata": {},
   "outputs": [],
   "source": []
  },
  {
   "cell_type": "code",
   "execution_count": 28,
   "id": "73c6a4e4-a13d-4fd9-9c51-3091571db2e0",
   "metadata": {},
   "outputs": [],
   "source": [
    "vega.settle_market(settlement_wallet = TERMINATE_WALLET.name, settlement_price = 95, market_id=market_id)"
   ]
  },
  {
   "cell_type": "code",
   "execution_count": null,
   "id": "53711fd6",
   "metadata": {},
   "outputs": [],
   "source": [
    "vega.forward('1s')\n",
    "\n",
    "for wallet in wallets:\n",
    "    general, margin, bond = vega.party_account(wallet_name=wallet.name, asset_id=tdai_id, market_id=market_id)\n",
    "    print(wallet.name + \" General = \"+str(general))\n",
    "    print(wallet.name + \" Margin  = \"+str(margin))\n",
    "    print(wallet.name + \" Bond    = \"+str(bond))\n",
    "\n",
    "    # positions = vega.positions_by_market(wallet_name=wallet.name, market_id=market_id)\n",
    "    # print(positions)\n"
   ]
  },
  {
   "cell_type": "code",
   "execution_count": null,
   "id": "3a1f559d",
   "metadata": {},
   "outputs": [],
   "source": [
    "vega.stop()"
   ]
  }
 ],
 "metadata": {
  "kernelspec": {
   "display_name": "Python 3 (ipykernel)",
   "language": "python",
   "name": "python3"
  },
  "language_info": {
   "codemirror_mode": {
    "name": "ipython",
    "version": 3
   },
   "file_extension": ".py",
   "mimetype": "text/x-python",
   "name": "python",
   "nbconvert_exporter": "python",
   "pygments_lexer": "ipython3",
   "version": "3.10.8"
  },
  "vscode": {
   "interpreter": {
    "hash": "9068ccf1de4887af20e553bb0f136ba360e9f0490ad6f851d5d4e487c8ec3e60"
   }
  }
 },
 "nbformat": 4,
 "nbformat_minor": 5
}
