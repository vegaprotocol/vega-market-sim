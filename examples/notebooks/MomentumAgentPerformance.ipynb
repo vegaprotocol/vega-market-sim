{
 "cells": [
  {
   "cell_type": "code",
   "execution_count": null,
   "metadata": {},
   "outputs": [],
   "source": [
    "import sys\n",
    "import pandas as pd\n",
    "import matplotlib.pyplot as plt\n",
    "import numpy as np"
   ]
  },
  {
   "cell_type": "code",
   "execution_count": null,
   "metadata": {},
   "outputs": [],
   "source": [
    "file_path = \"../agent_market/MomentumAgent.csv\"\n",
    "data = pd.read_csv(file_path)"
   ]
  },
  {
   "cell_type": "code",
   "execution_count": null,
   "metadata": {},
   "outputs": [],
   "source": [
    "fig,ax = plt.subplots(2,2,figsize=(25,16))\n",
    "\n",
    "ax[0,0].plot(data['Time Step'], data['External Midprice'],'--', label=\"External Mid\")\n",
    "ax[0,0].plot(data['Time Step'], data['Markprice'], label=\"Mark\")\n",
    "ax2 = ax[0,0].twinx()\n",
    "ax2.plot(data['Time Step'], data['Market State'], '.', color='red', label='Market State')\n",
    "ax[0,0].legend()\n",
    "ax[0,0].set_title('ETH:USD')\n",
    "ax[0,0].set_xlabel('Time Step (hour)')\n",
    "ax[0,0].set_ylabel('Price')\n",
    "\n",
    "\n",
    "ax[0,1].plot(data['Time Step'], data['MT: Indicator'], label='Momentum')\n",
    "ax2 = ax[0,1].twinx()\n",
    "ax2.plot(data['Time Step'], data['MT: Position'], '--.', color='red')\n",
    "ax2.set_ylabel(\"Position\")\n",
    "ax[0,1].legend()\n",
    "ax[0,1].set_title('Momentum Indicators & Position')\n",
    "ax[0,1].set_xlabel('Time Step (hour)')\n",
    "\n",
    "\n",
    "# Performance\n",
    "ax[1,0].plot(data['Time Step'], data['MT: RealisedPnl'],label='RealisedPnl')\n",
    "ax2 = ax[1,0].twinx()\n",
    "ax2.plot(data['Time Step'], data['MT: UnrealisedPnl'],'--',color='red',label='UnrealisedPnl')\n",
    "ax[1,0].legend()\n",
    "ax[1,0].set_title('Pnl without fee (RealisedPnl) & Unrealised Pnl')\n",
    "ax[1,0].set_xlabel('Time Step (hour)')\n",
    "ax2.set_ylabel('Unrealised Pnl ($)')\n",
    "ax[1,0].set_ylabel('Pnl ($)')\n",
    "\n",
    "ax[1,1].plot(data['Time Step'], data['MT: GeneralPnl'],label='Momentum Trader')\n",
    "ax[1,1].plot(data['Time Step'], data['LP: GeneralPnl'],label='LP')\n",
    "ax[1,1].plot(data['Time Step'], data['UT: GeneralPnl'],label='Uninformed Trader')\n",
    "ax[1,1].legend()\n",
    "ax[1,1].set_title('General Pnl (consider fee for traders)')\n",
    "ax[1,1].set_xlabel('Time Step (hour)')\n",
    "ax[1,1].set_ylabel('Pnl ($)')\n",
    "\n",
    "plt.show()"
   ]
  },
  {
   "cell_type": "code",
   "execution_count": null,
   "metadata": {},
   "outputs": [],
   "source": []
  }
 ],
 "metadata": {
  "kernelspec": {
   "display_name": "Python 3.10.5 ('vega-sim-lzu_5rfb-py3.10')",
   "language": "python",
   "name": "python3"
  },
  "language_info": {
   "codemirror_mode": {
    "name": "ipython",
    "version": 3
   },
   "file_extension": ".py",
   "mimetype": "text/x-python",
   "name": "python",
   "nbconvert_exporter": "python",
   "pygments_lexer": "ipython3",
   "version": "3.10.5"
  },
  "orig_nbformat": 4,
  "vscode": {
   "interpreter": {
    "hash": "fcee2fa48d748e2488b6026bb440d19b7432a8bda11c0a191cabf20bd7d8a9eb"
   }
  }
 },
 "nbformat": 4,
 "nbformat_minor": 2
}
