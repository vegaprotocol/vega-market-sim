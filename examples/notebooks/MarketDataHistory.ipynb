{
 "cells": [
  {
   "cell_type": "code",
   "execution_count": 11,
   "metadata": {},
   "outputs": [],
   "source": [
    "import vega_sim.api.data_raw as data_raw\n",
    "from datetime import datetime\n",
    "from vega_sim.grpc.client import VegaTradingDataClientV2\n"
   ]
  },
  {
   "cell_type": "code",
   "execution_count": 12,
   "metadata": {},
   "outputs": [],
   "source": [
    "grpc_url='api.n09.testnet.vega.xyz:3007'\n",
    "start = datetime(2023,2,1,14,10,0)\n",
    "end = datetime(2023,2,1,14,10,3)\n"
   ]
  },
  {
   "cell_type": "code",
   "execution_count": 13,
   "metadata": {},
   "outputs": [],
   "source": [
    "data_client = VegaTradingDataClientV2(grpc_url)"
   ]
  },
  {
   "cell_type": "code",
   "execution_count": 14,
   "metadata": {},
   "outputs": [
    {
     "data": {
      "text/plain": [
       "3"
      ]
     },
     "execution_count": 14,
     "metadata": {},
     "output_type": "execute_result"
    }
   ],
   "source": [
    "resp = data_raw.market_data_history(\n",
    "    market_id=\"5d69ff4a485a9f963272c8614c1d0d84bb8ea57886f5b11aad53f0ccc77731ba\",\n",
    "    start=start,\n",
    "    end=end,\n",
    "    data_client=data_client)\n",
    "len(resp)"
   ]
  }
 ],
 "metadata": {
  "kernelspec": {
   "display_name": "vega-sim-mX-wAUEr-py3.10",
   "language": "python",
   "name": "python3"
  },
  "language_info": {
   "codemirror_mode": {
    "name": "ipython",
    "version": 3
   },
   "file_extension": ".py",
   "mimetype": "text/x-python",
   "name": "python",
   "nbconvert_exporter": "python",
   "pygments_lexer": "ipython3",
   "version": "3.10.6"
  },
  "orig_nbformat": 4,
  "vscode": {
   "interpreter": {
    "hash": "318823c98e1a9cd0f2962b1f90ae1d8f207819c094496f1cee5f8678163e4817"
   }
  }
 },
 "nbformat": 4,
 "nbformat_minor": 2
}
