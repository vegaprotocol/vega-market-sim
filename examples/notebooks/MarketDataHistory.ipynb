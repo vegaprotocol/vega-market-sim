{
 "cells": [
  {
   "cell_type": "code",
   "execution_count": 45,
   "metadata": {},
   "outputs": [],
   "source": [
    "import vega_sim.api.data_raw as data_raw\n",
    "from datetime import datetime\n",
    "from vega_sim.grpc.client import VegaTradingDataClientV2"
   ]
  },
  {
   "cell_type": "code",
   "execution_count": 46,
   "metadata": {},
   "outputs": [],
   "source": [
    "grpc_url = \"api.n09.testnet.vega.xyz:3007\"\n",
    "start = datetime(2023, 2, 1, 14, 10, 0)\n",
    "end = datetime(2023, 2, 1, 14, 11, 0)"
   ]
  },
  {
   "cell_type": "code",
   "execution_count": 47,
   "metadata": {},
   "outputs": [],
   "source": [
    "data_client = VegaTradingDataClientV2(grpc_url)"
   ]
  },
  {
   "cell_type": "code",
   "execution_count": 48,
   "metadata": {},
   "outputs": [
    {
     "data": {
      "text/plain": [
       "page_info {\n",
       "}"
      ]
     },
     "execution_count": 48,
     "metadata": {},
     "output_type": "execute_result"
    }
   ],
   "source": [
    "data_raw.market_data_history(\n",
    "    market_id=\"5d69ff4a485a9f963272c8614c1d0d84bb8ea57886f5b11aad53f0ccc77731ba\",\n",
    "    start=start,\n",
    "    end=end,\n",
    "    data_client=data_client,\n",
    ")"
   ]
  },
  {
   "cell_type": "code",
   "execution_count": 49,
   "metadata": {},
   "outputs": [
    {
     "data": {
      "text/plain": [
       "mark_price: \"167323\"\n",
       "best_bid_price: \"167322\"\n",
       "best_bid_volume: 1313\n",
       "best_offer_price: \"167323\"\n",
       "best_offer_volume: 6118\n",
       "best_static_bid_price: \"167322\"\n",
       "best_static_bid_volume: 1313\n",
       "best_static_offer_price: \"167323\"\n",
       "best_static_offer_volume: 6118\n",
       "mid_price: \"167322\"\n",
       "static_mid_price: \"167322\"\n",
       "market: \"5d69ff4a485a9f963272c8614c1d0d84bb8ea57886f5b11aad53f0ccc77731ba\"\n",
       "timestamp: 1675343519276195000\n",
       "open_interest: 59766\n",
       "indicative_price: \"0\"\n",
       "market_trading_mode: TRADING_MODE_CONTINUOUS\n",
       "target_stake: \"28534674773748000000000\"\n",
       "supplied_stake: \"1374534892265538064716032\"\n",
       "price_monitoring_bounds {\n",
       "  min_valid_price: \"125235\"\n",
       "  max_valid_price: \"226203\"\n",
       "  trigger {\n",
       "    horizon: 43200\n",
       "    probability: \"0.9999999\"\n",
       "    auction_extension: 300\n",
       "  }\n",
       "  reference_price: \"1685700000000000000000\"\n",
       "}\n",
       "market_value_proxy: \"4967389066698463040708125\"\n",
       "liquidity_provider_fee_share {\n",
       "  party: \"b282a3e3878f004b0ee64cee29075cd72af4c4a4105d414ccb4becaef8361a12\"\n",
       "  equity_like_share: \"0.0028757479788063\"\n",
       "  average_entry_valuation: \"1346246999710111658675310.0111706992721979\"\n",
       "  average_score: \"0.3484546704\"\n",
       "}\n",
       "liquidity_provider_fee_share {\n",
       "  party: \"c33285a1bc03e723900547ee1d59bcf458e405667d4ac33bc22516bd3c195fc9\"\n",
       "  equity_like_share: \"0.002541067799983\"\n",
       "  average_entry_valuation: \"1282506927921690408427062.9047909117505116\"\n",
       "  average_score: \"0.3500180636\"\n",
       "}\n",
       "liquidity_provider_fee_share {\n",
       "  party: \"efa7484279b75d9580613282e8592a04e7947c1b5b1195a4e06bca8e3982fcd4\"\n",
       "  equity_like_share: \"0.9945831842212107\"\n",
       "  average_entry_valuation: \"1071818380338620949125920.8434114207778147\"\n",
       "  average_score: \"0.301527266\"\n",
       "}\n",
       "market_state: STATE_ACTIVE\n",
       "next_mark_to_market: 1675343520376177637"
      ]
     },
     "execution_count": 49,
     "metadata": {},
     "output_type": "execute_result"
    }
   ],
   "source": [
    "data_raw.market_data(\n",
    "    market_id=\"5d69ff4a485a9f963272c8614c1d0d84bb8ea57886f5b11aad53f0ccc77731ba\",\n",
    "    data_client=data_client,\n",
    ")"
   ]
  },
  {
   "attachments": {},
   "cell_type": "markdown",
   "metadata": {},
   "source": [
    "## graphQL"
   ]
  },
  {
   "cell_type": "code",
   "execution_count": 50,
   "metadata": {},
   "outputs": [
    {
     "name": "stdout",
     "output_type": "stream",
     "text": [
      "{\"data\":{\"getMarketDataHistoryConnectionByID\":{\"edges\":[{\"node\":{\"bestStaticBidPrice\":\"158214\",\"bestBidPrice\":\"158214\",\"staticMidPrice\":\"158214\",\"midPrice\":\"158214\",\"bestStaticOfferPrice\":\"158215\",\"bestOfferPrice\":\"158215\",\"marketTradingMode\":\"TRADING_MODE_CONTINUOUS\",\"openInterest\":\"46095\",\"suppliedStake\":\"1352547317899354643780352\",\"priceMonitoringBounds\":[{\"trigger\":{\"horizonSecs\":43200,\"probability\":0.9999999,\"auctionExtensionSecs\":300},\"minValidPrice\":\"0\",\"maxValidPrice\":\"0\"}]}},{\"node\":{\"bestStaticBidPrice\":\"158214\",\"bestBidPrice\":\"158214\",\"staticMidPrice\":\"158214\",\"midPrice\":\"158214\",\"bestStaticOfferPrice\":\"158215\",\"bestOfferPrice\":\"158215\",\"marketTradingMode\":\"TRADING_MODE_CONTINUOUS\",\"openInterest\":\"46095\",\"suppliedStake\":\"1352547317899354643780352\",\"priceMonitoringBounds\":[{\"trigger\":{\"horizonSecs\":43200,\"probability\":0.9999999,\"auctionExtensionSecs\":300},\"minValidPrice\":\"0\",\"maxValidPrice\":\"0\"}]}},{\"node\":{\"bestStaticBidPrice\":\"158214\",\"bestBidPrice\":\"158214\",\"staticMidPrice\":\"158214\",\"midPrice\":\"158214\",\"bestStaticOfferPrice\":\"158215\",\"bestOfferPrice\":\"158215\",\"marketTradingMode\":\"TRADING_MODE_CONTINUOUS\",\"openInterest\":\"46095\",\"suppliedStake\":\"1352547317899354643780352\",\"priceMonitoringBounds\":[{\"trigger\":{\"horizonSecs\":43200,\"probability\":0.9999999,\"auctionExtensionSecs\":300},\"minValidPrice\":\"0\",\"maxValidPrice\":\"0\"}]}},{\"node\":{\"bestStaticBidPrice\":\"158214\",\"bestBidPrice\":\"158214\",\"staticMidPrice\":\"158214\",\"midPrice\":\"158214\",\"bestStaticOfferPrice\":\"158215\",\"bestOfferPrice\":\"158215\",\"marketTradingMode\":\"TRADING_MODE_CONTINUOUS\",\"openInterest\":\"46146\",\"suppliedStake\":\"1352547307127133158658816\",\"priceMonitoringBounds\":[{\"trigger\":{\"horizonSecs\":43200,\"probability\":0.9999999,\"auctionExtensionSecs\":300},\"minValidPrice\":\"0\",\"maxValidPrice\":\"0\"}]}}]}}}\n"
     ]
    }
   ],
   "source": [
    "import requests\n",
    "\n",
    "query = \"\"\"query {\n",
    "  getMarketDataHistoryConnectionByID(\n",
    "    id:\"5d69ff4a485a9f963272c8614c1d0d84bb8ea57886f5b11aad53f0ccc77731ba\"\n",
    "  \tstart:\"2023-02-01T14:10:00Z\"\n",
    "  \tend: \"2023-02-01T14:10:03Z\"){\n",
    "\tedges{\n",
    "    node{\n",
    "      bestStaticBidPrice\n",
    "      bestBidPrice\n",
    "      staticMidPrice\n",
    "      midPrice\n",
    "      bestStaticOfferPrice\n",
    "      bestOfferPrice\n",
    "      marketTradingMode\n",
    "      openInterest\n",
    "      suppliedStake\n",
    "      priceMonitoringBounds {\n",
    "        trigger {\n",
    "          horizonSecs\n",
    "          probability\n",
    "          auctionExtensionSecs\n",
    "        }\n",
    "        minValidPrice\n",
    "        maxValidPrice\n",
    "      } \n",
    "    }\n",
    "  }\n",
    "  }\n",
    "}\"\"\"\n",
    "\n",
    "r = requests.post(\"https://api.n09.testnet.vega.xyz/graphql\", json={\"query\": query})\n",
    "print(r.text)"
   ]
  }
 ],
 "metadata": {
  "kernelspec": {
   "display_name": "vega-sim-mX-wAUEr-py3.10",
   "language": "python",
   "name": "python3"
  },
  "language_info": {
   "codemirror_mode": {
    "name": "ipython",
    "version": 3
   },
   "file_extension": ".py",
   "mimetype": "text/x-python",
   "name": "python",
   "nbconvert_exporter": "python",
   "pygments_lexer": "ipython3",
   "version": "3.10.6"
  },
  "orig_nbformat": 4,
  "vscode": {
   "interpreter": {
    "hash": "318823c98e1a9cd0f2962b1f90ae1d8f207819c094496f1cee5f8678163e4817"
   }
  }
 },
 "nbformat": 4,
 "nbformat_minor": 2
}
