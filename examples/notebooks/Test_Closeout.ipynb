{
 "cells": [
  {
   "cell_type": "code",
   "execution_count": 1,
   "metadata": {},
   "outputs": [],
   "source": [
    "from collections import namedtuple\n",
    "\n",
    "from vega_sim.null_service import VegaServiceNull\n",
    "import vega_sim.proto.vega as vega_protos\n"
   ]
  },
  {
   "cell_type": "code",
   "execution_count": 2,
   "metadata": {},
   "outputs": [],
   "source": [
    "WalletConfig = namedtuple(\"WalletConfig\", [\"name\", \"passphrase\"])\n",
    "\n",
    "MM_WALLET = WalletConfig(\"mm\", \"mm\")\n",
    "\n",
    "TRADER_a1_WALLET = WalletConfig(\"a1\", \"pin\")\n",
    "\n",
    "TRADER_a2_WALLET = WalletConfig(\"a2\", \"pin\")\n",
    "\n",
    "TRADER_2_WALLET = WalletConfig(\"T2\", \"pin\")\n",
    "\n",
    "TRADER_3_WALLET = WalletConfig(\"T3\", \"pin\")\n",
    "\n",
    "TERMINATE_WALLET = WalletConfig(\"Settle\", \"pin\")\n",
    "\n",
    "wallets = [MM_WALLET, TRADER_2_WALLET, TRADER_3_WALLET, TRADER_a1_WALLET , TRADER_a2_WALLET, TERMINATE_WALLET]\n"
   ]
  },
  {
   "cell_type": "code",
   "execution_count": 3,
   "metadata": {},
   "outputs": [
    {
     "name": "stderr",
     "output_type": "stream",
     "text": [
      "INFO:vega_sim.null_service:Running NullChain from vegahome of /var/folders/yj/cjhtlxn90wldd1hvw5lkxnrc0000gn/T/tmpdqujz63a\n",
      "INFO:vega_sim.null_service:Launching GraphQL node at port 55091\n",
      "INFO:vega_sim.null_service:Launching Console at port 55097\n",
      "Using function with raw data from data-node VegaService.all_markets. Be wary if prices/positions are not converted from int form\n"
     ]
    }
   ],
   "source": [
    "vega = VegaServiceNull(run_with_console=False, use_full_vega_wallet=False, transactions_per_block=10)\n",
    "vega.start()"
   ]
  },
  {
   "cell_type": "code",
   "execution_count": 4,
   "metadata": {},
   "outputs": [],
   "source": [
    "for wallet in wallets:\n",
    "    vega.create_wallet(wallet.name, passphrase=wallet.passphrase)\n",
    "vega.forward('10s')"
   ]
  },
  {
   "cell_type": "code",
   "execution_count": 5,
   "metadata": {},
   "outputs": [],
   "source": [
    "vega.mint(\n",
    "    MM_WALLET.name,\n",
    "    asset=\"VOTE\",\n",
    "    amount=10000,\n",
    ")\n",
    "\n",
    "vega.forward(\"20s\")\n",
    "vega.create_asset(\n",
    "    MM_WALLET.name,\n",
    "    name=\"tDAI\",\n",
    "    symbol=\"tDAI\",\n",
    "    decimals=5,\n",
    "    max_faucet_amount=10e15,  # is this including decimals or not?\n",
    ")\n",
    "vega.wait_fn(2)\n",
    "\n",
    "tdai_id = vega.find_asset_id(symbol=\"tDAI\")\n",
    "\n",
    "mint_amount = {MM_WALLET.name: 2000000, TRADER_a1_WALLET.name: 2000000, TRADER_a2_WALLET.name: 2000000, TRADER_2_WALLET.name: 2000, TRADER_3_WALLET.name: 90}\n",
    "\n",
    "vega.mint(\n",
    "    MM_WALLET.name,\n",
    "    tdai_id,\n",
    "    amount=mint_amount[MM_WALLET.name]\n",
    ")\n",
    "vega.mint(\n",
    "    TRADER_a1_WALLET.name,\n",
    "    tdai_id,\n",
    "    amount=mint_amount[TRADER_a1_WALLET.name]\n",
    ")\n",
    "vega.mint(\n",
    "    TRADER_a2_WALLET.name,\n",
    "    tdai_id,\n",
    "    amount=mint_amount[TRADER_a2_WALLET.name]\n",
    ")\n",
    "vega.mint(\n",
    "    TRADER_2_WALLET.name,\n",
    "    tdai_id,\n",
    "    amount=mint_amount[TRADER_2_WALLET.name]\n",
    ")\n",
    "vega.mint(\n",
    "    TRADER_3_WALLET.name,\n",
    "    tdai_id,\n",
    "    amount=mint_amount[TRADER_3_WALLET.name]\n",
    ")\n",
    "vega.wait_for_total_catchup()\n"
   ]
  },
  {
   "cell_type": "code",
   "execution_count": null,
   "metadata": {},
   "outputs": [],
   "source": []
  },
  {
   "cell_type": "code",
   "execution_count": 6,
   "metadata": {},
   "outputs": [
    {
     "name": "stderr",
     "output_type": "stream",
     "text": [
      "Using function with raw data from data-node VegaService.all_markets. Be wary if prices/positions are not converted from int form\n"
     ]
    }
   ],
   "source": [
    "# Create a market\n",
    "vega.create_simple_market(\n",
    "        market_name=\"BTC:DAI_Mar22\",\n",
    "        proposal_wallet=MM_WALLET.name,\n",
    "        settlement_asset_id=tdai_id,\n",
    "        termination_wallet=TERMINATE_WALLET.name,\n",
    "        position_decimals=0,\n",
    "        market_decimals=0,\n",
    "        risk_aversion=0.000001,\n",
    "        tau=0.1,\n",
    "        sigma=1,\n",
    "        \n",
    ")\n",
    "\n",
    "market_id = vega.all_markets()[0].id"
   ]
  },
  {
   "cell_type": "code",
   "execution_count": 7,
   "metadata": {},
   "outputs": [],
   "source": [
    "vega.update_network_parameter(MM_WALLET.name, \"market.margin.scalingFactors\", \"{\\\"search_level\\\": 1.5, \\\"initial_margin\\\": 2, \\\"collateral_release\\\": 3}\")"
   ]
  },
  {
   "cell_type": "code",
   "execution_count": 8,
   "metadata": {},
   "outputs": [],
   "source": [
    "# submit liquidity\n",
    "vega.submit_simple_liquidity(\n",
    "    wallet_name=MM_WALLET.name,\n",
    "    market_id=market_id,\n",
    "    commitment_amount=100000,\n",
    "    fee=0.001,\n",
    "    reference_buy=\"PEGGED_REFERENCE_BEST_BID\",\n",
    "    reference_sell=\"PEGGED_REFERENCE_BEST_ASK\",\n",
    "    delta_buy=55,\n",
    "    delta_sell=55,\n",
    "    is_amendment=False\n",
    ")\n",
    "\n",
    "vega.forward('1s')\n",
    "vega.forward('1s')"
   ]
  },
  {
   "cell_type": "code",
   "execution_count": 9,
   "metadata": {},
   "outputs": [
    {
     "data": {
      "text/plain": [
       "AccountData(general=1900000.0, margin=0.0, bond=100000.0)"
      ]
     },
     "execution_count": 9,
     "metadata": {},
     "output_type": "execute_result"
    }
   ],
   "source": [
    "vega.party_account(MM_WALLET.name, market_id=market_id, asset_id=tdai_id)"
   ]
  },
  {
   "cell_type": "code",
   "execution_count": 10,
   "metadata": {},
   "outputs": [
    {
     "data": {
      "text/plain": [
       "55091"
      ]
     },
     "execution_count": 10,
     "metadata": {},
     "output_type": "execute_result"
    }
   ],
   "source": [
    "vega.data_node_graphql_port"
   ]
  },
  {
   "cell_type": "code",
   "execution_count": 11,
   "metadata": {},
   "outputs": [],
   "source": [
    "# Post GTC limit order\n",
    "buy_order_id = vega.submit_order(\n",
    "    trading_wallet=TRADER_a2_WALLET.name,\n",
    "    market_id=market_id,\n",
    "    order_type=\"TYPE_LIMIT\",\n",
    "    time_in_force=\"TIME_IN_FORCE_GTC\",\n",
    "    side=\"SIDE_BUY\",\n",
    "    volume=5,\n",
    "    price=5,\n",
    "    wait=True,\n",
    ")\n",
    "\n",
    "sell_order_id = vega.submit_order(\n",
    "    trading_wallet=TRADER_a1_WALLET.name,\n",
    "    market_id=market_id,\n",
    "    order_type=\"TYPE_LIMIT\",\n",
    "    time_in_force=\"TIME_IN_FORCE_GTC\",\n",
    "    side=\"SIDE_SELL\",\n",
    "    volume=10,\n",
    "    price=1000,\n",
    "    wait=True,\n",
    ")\n",
    "\n",
    "buy_order_id = vega.submit_order(\n",
    "    trading_wallet=TRADER_a2_WALLET.name,\n",
    "    market_id=market_id,\n",
    "    order_type=\"TYPE_LIMIT\",\n",
    "    time_in_force=\"TIME_IN_FORCE_GTC\",\n",
    "    side=\"SIDE_BUY\",\n",
    "    volume=10,\n",
    "    price=10,\n",
    "    wait=True,\n",
    ")\n",
    "\n",
    "sell_order_id = vega.submit_order(\n",
    "    trading_wallet=TRADER_a1_WALLET.name,\n",
    "    market_id=market_id,\n",
    "    order_type=\"TYPE_LIMIT\",\n",
    "    time_in_force=\"TIME_IN_FORCE_GTC\",\n",
    "    side=\"SIDE_SELL\",\n",
    "    volume=10,\n",
    "    price=10,\n",
    "    wait=True,\n",
    ")\n"
   ]
  },
  {
   "cell_type": "code",
   "execution_count": 12,
   "metadata": {},
   "outputs": [
    {
     "name": "stderr",
     "output_type": "stream",
     "text": [
      "Using function with raw data from data-node VegaService.market_data. Be wary if prices/positions are not converted from int form\n"
     ]
    },
    {
     "name": "stdout",
     "output_type": "stream",
     "text": [
      "mm General = 1900000.0\n",
      "mm Margin  = 0.0\n",
      "mm Bond    = 100000.0\n",
      "[]\n",
      "0.0\n",
      "T2 General = 2000.0\n",
      "T2 Margin  = 0\n",
      "T2 Bond    = 0\n",
      "[]\n",
      "0.0\n",
      "T3 General = 90.0\n",
      "T3 Margin  = 0\n",
      "T3 Bond    = 0\n",
      "[]\n",
      "0.0\n",
      "a1 General = 1857723.85632\n",
      "a1 Margin  = 142276.14368\n",
      "a1 Bond    = 0\n",
      "[MarginLevels(maintenance_margin=36636.107, search_level=54954.1605, initial_margin=73272.214, collateral_release_level=252184.46468, party_id='64f4638929c274042f8a83c09f16f7158c511c852719cd94dbc8a13bcaa20cf2', market_id='8418baba53a18afa8f3cdd815ac8312003553c7368d8fc97df451ee595aa7707', asset='b697f148ac152c8468f1f7d13cf1f5ff880456e85777b1ff3cb3b6259925b88f', timestamp=1638185433259066000)]\n",
      "0.0\n",
      "a2 General = 1991952.6815\n",
      "a2 Margin  = 8047.3185\n",
      "a2 Bond    = 0\n",
      "[MarginLevels(maintenance_margin=220.20023, search_level=330.30034, initial_margin=440.40046, collateral_release_level=8707.91919, party_id='c95412b66fceafc5dc018471b00529fa33de5f3d902d13d855b8d03b06e7ed88', market_id='8418baba53a18afa8f3cdd815ac8312003553c7368d8fc97df451ee595aa7707', asset='b697f148ac152c8468f1f7d13cf1f5ff880456e85777b1ff3cb3b6259925b88f', timestamp=1638185433259066000)]\n",
      "0.0\n",
      "mark_price: \"0\"\n",
      "best_bid_price: \"10\"\n",
      "best_bid_volume: 10\n",
      "best_offer_price: \"10\"\n",
      "best_offer_volume: 10\n",
      "best_static_bid_price: \"10\"\n",
      "best_static_bid_volume: 10\n",
      "best_static_offer_price: \"10\"\n",
      "best_static_offer_volume: 10\n",
      "mid_price: \"10\"\n",
      "static_mid_price: \"10\"\n",
      "market: \"8418baba53a18afa8f3cdd815ac8312003553c7368d8fc97df451ee595aa7707\"\n",
      "timestamp: 1638185435259066000\n",
      "auction_end: 1638185301259066000\n",
      "auction_start: 1638185201259066000\n",
      "indicative_price: \"10\"\n",
      "indicative_volume: 10\n",
      "market_trading_mode: TRADING_MODE_OPENING_AUCTION\n",
      "trigger: AUCTION_TRIGGER_OPENING\n",
      "target_stake: \"35569000\"\n",
      "supplied_stake: \"10000000000\"\n",
      "price_monitoring_bounds {\n",
      "  min_valid_price: \"10\"\n",
      "  max_valid_price: \"11\"\n",
      "  trigger {\n",
      "    horizon: 86400\n",
      "    probability: \"0.999999\"\n",
      "    auction_extension: 5\n",
      "  }\n",
      "  reference_price: \"1000000\"\n",
      "}\n",
      "market_value_proxy: \"10000000000\"\n",
      "liquidity_provider_fee_share {\n",
      "  party: \"5ad5673fa1ee543486ed5982cbbe722dd527cfbd2d07b8f055d0235e953fecd3\"\n",
      "  equity_like_share: \"0\"\n",
      "  average_entry_valuation: \"10000000000\"\n",
      "}\n",
      "market_state: STATE_PENDING\n",
      "\n"
     ]
    }
   ],
   "source": [
    "# Check order status/ market state\n",
    "\n",
    "for wallet in wallets:\n",
    "    if wallet.name in mint_amount:\n",
    "        general, margin, bond = vega.party_account(wallet_name=wallet.name, asset_id=tdai_id, market_id=market_id)\n",
    "        print(wallet.name + \" General = \"+str(general))\n",
    "        print(wallet.name + \" Margin  = \"+str(margin))\n",
    "        print(wallet.name + \" Bond    = \"+str(bond))\n",
    "        print(vega.margin_levels(wallet.name))\n",
    "        print(general+margin+bond - mint_amount[wallet.name])\n",
    "        # print(vega.order_status(order_id=buy_order_id))\n",
    "\n",
    "print(vega.market_data(market_id=market_id))"
   ]
  },
  {
   "cell_type": "code",
   "execution_count": 13,
   "metadata": {},
   "outputs": [
    {
     "name": "stdout",
     "output_type": "stream",
     "text": [
      "mm General = 1128322.2114\n",
      "mm Margin  = 771677.7886\n",
      "mm Bond    = 100000.0\n",
      "T2 General = 1359.41742\n",
      "T2 Margin  = 640.58258\n",
      "T2 Bond    = 0\n",
      "T3 General = 90.0\n",
      "T3 Margin  = 0\n",
      "T3 Bond    = 0\n",
      "a1 General = 1978777.23856\n",
      "a1 Margin  = 21222.76144\n",
      "a1 Bond    = 0\n",
      "a2 General = 1999759.78152\n",
      "a2 Margin  = 240.21848\n",
      "a2 Bond    = 0\n",
      "Settle General = 0\n",
      "Settle Margin  = 0\n",
      "Settle Bond    = 0\n"
     ]
    }
   ],
   "source": [
    "new_buy_order_id = vega.submit_order(\n",
    "    trading_wallet=TRADER_2_WALLET.name,\n",
    "    market_id=market_id,\n",
    "    order_type=\"TYPE_LIMIT\",\n",
    "    time_in_force=\"TIME_IN_FORCE_GTC\",\n",
    "    side=\"SIDE_BUY\",\n",
    "    volume=40,\n",
    "    price=10,\n",
    "    wait=True,\n",
    ")\n",
    "for wallet in wallets:\n",
    "    general, margin, bond = vega.party_account(wallet_name=wallet.name, asset_id=tdai_id, market_id=market_id)\n",
    "    print(wallet.name + \" General = \"+str(general))\n",
    "    print(wallet.name + \" Margin  = \"+str(margin))\n",
    "    print(wallet.name + \" Bond    = \"+str(bond))"
   ]
  },
  {
   "cell_type": "code",
   "execution_count": null,
   "metadata": {},
   "outputs": [
    {
     "ename": "NameError",
     "evalue": "name 'TRADER_1_WALLET' is not defined",
     "output_type": "error",
     "traceback": [
      "\u001b[0;31m---------------------------------------------------------------------------\u001b[0m",
      "\u001b[0;31mNameError\u001b[0m                                 Traceback (most recent call last)",
      "\u001b[1;32m/Users/jiajiacui/github.com/vegaprotocol/vega-market-sim/examples/notebooks/Test_Closeout.ipynb Cell 11\u001b[0m in \u001b[0;36m<cell line: 2>\u001b[0;34m()\u001b[0m\n\u001b[1;32m      <a href='vscode-notebook-cell:/Users/jiajiacui/github.com/vegaprotocol/vega-market-sim/examples/notebooks/Test_Closeout.ipynb#X12sZmlsZQ%3D%3D?line=0'>1</a>\u001b[0m \u001b[39m# Amend order\u001b[39;00m\n\u001b[1;32m      <a href='vscode-notebook-cell:/Users/jiajiacui/github.com/vegaprotocol/vega-market-sim/examples/notebooks/Test_Closeout.ipynb#X12sZmlsZQ%3D%3D?line=1'>2</a>\u001b[0m vega\u001b[39m.\u001b[39mamend_order(\n\u001b[0;32m----> <a href='vscode-notebook-cell:/Users/jiajiacui/github.com/vegaprotocol/vega-market-sim/examples/notebooks/Test_Closeout.ipynb#X12sZmlsZQ%3D%3D?line=2'>3</a>\u001b[0m     trading_wallet\u001b[39m=\u001b[39mTRADER_1_WALLET\u001b[39m.\u001b[39mname,\n\u001b[1;32m      <a href='vscode-notebook-cell:/Users/jiajiacui/github.com/vegaprotocol/vega-market-sim/examples/notebooks/Test_Closeout.ipynb#X12sZmlsZQ%3D%3D?line=3'>4</a>\u001b[0m     market_id\u001b[39m=\u001b[39mmarket_id,\n\u001b[1;32m      <a href='vscode-notebook-cell:/Users/jiajiacui/github.com/vegaprotocol/vega-market-sim/examples/notebooks/Test_Closeout.ipynb#X12sZmlsZQ%3D%3D?line=4'>5</a>\u001b[0m     order_id\u001b[39m=\u001b[39mbuy_order_id,\n\u001b[1;32m      <a href='vscode-notebook-cell:/Users/jiajiacui/github.com/vegaprotocol/vega-market-sim/examples/notebooks/Test_Closeout.ipynb#X12sZmlsZQ%3D%3D?line=5'>6</a>\u001b[0m     price\u001b[39m=\u001b[39m\u001b[39m75\u001b[39m,\n\u001b[1;32m      <a href='vscode-notebook-cell:/Users/jiajiacui/github.com/vegaprotocol/vega-market-sim/examples/notebooks/Test_Closeout.ipynb#X12sZmlsZQ%3D%3D?line=6'>7</a>\u001b[0m     volume_delta\u001b[39m=\u001b[39m\u001b[39m2\u001b[39m,\n\u001b[1;32m      <a href='vscode-notebook-cell:/Users/jiajiacui/github.com/vegaprotocol/vega-market-sim/examples/notebooks/Test_Closeout.ipynb#X12sZmlsZQ%3D%3D?line=7'>8</a>\u001b[0m )\n",
      "\u001b[0;31mNameError\u001b[0m: name 'TRADER_1_WALLET' is not defined"
     ]
    }
   ],
   "source": [
    "# Amend order\n",
    "vega.amend_order(\n",
    "    trading_wallet=TRADER_1_WALLET.name,\n",
    "    market_id=market_id,\n",
    "    order_id=buy_order_id,\n",
    "    price=75,\n",
    "    volume_delta=2,\n",
    ")\n",
    "\n"
   ]
  },
  {
   "cell_type": "code",
   "execution_count": null,
   "metadata": {},
   "outputs": [],
   "source": []
  },
  {
   "cell_type": "code",
   "execution_count": 15,
   "metadata": {},
   "outputs": [
    {
     "name": "stderr",
     "output_type": "stream",
     "text": [
      "Using function with raw data from data-node VegaService.order_status. Be wary if prices/positions are not converted from int form\n",
      "Using function with raw data from data-node VegaService.market_data. Be wary if prices/positions are not converted from int form\n"
     ]
    },
    {
     "name": "stdout",
     "output_type": "stream",
     "text": [
      "id: \"82cc83ce0357d1b3ea49bfda49f95e61ee6dc25967041acd43a317654f8cd658\"\n",
      "market_id: \"f325216c8e1a6207bcaa929d9030ad5680ad693c8eaf18053d3b554a99d7cf38\"\n",
      "party_id: \"8b9e94d400e33a7b353062bca685ff173c8a5a1e28e1d7188b8fd5270d607e3c\"\n",
      "side: SIDE_BUY\n",
      "price: \"10\"\n",
      "size: 40\n",
      "remaining: 40\n",
      "time_in_force: TIME_IN_FORCE_GTC\n",
      "type: TYPE_LIMIT\n",
      "created_at: 1638185445259066000\n",
      "status: STATUS_ACTIVE\n",
      "reference: \"8b9e94d400e33a7b353062bca685ff173c8a5a1e28e1d7188b8fd5270d607e3c-0cc6f2de-29e7-4054-ac51-bfac9fa3b1ff\"\n",
      "version: 1\n",
      "\n",
      "mark_price: \"10\"\n",
      "best_bid_price: \"10\"\n",
      "best_bid_volume: 40\n",
      "best_offer_price: \"1000\"\n",
      "best_offer_volume: 12\n",
      "best_static_bid_price: \"10\"\n",
      "best_static_bid_volume: 40\n",
      "best_static_offer_price: \"1000\"\n",
      "best_static_offer_volume: 10\n",
      "mid_price: \"505\"\n",
      "static_mid_price: \"505\"\n",
      "market: \"f325216c8e1a6207bcaa929d9030ad5680ad693c8eaf18053d3b554a99d7cf38\"\n",
      "timestamp: 1638185447259066000\n",
      "open_interest: 10\n",
      "indicative_price: \"0\"\n",
      "market_trading_mode: TRADING_MODE_CONTINUOUS\n",
      "target_stake: \"35569000\"\n",
      "supplied_stake: \"100000000\"\n",
      "price_monitoring_bounds {\n",
      "  min_valid_price: \"8\"\n",
      "  max_valid_price: \"12\"\n",
      "  trigger {\n",
      "    horizon: 86400\n",
      "    probability: \"0.999999\"\n",
      "    auction_extension: 5\n",
      "  }\n",
      "  reference_price: \"1000000\"\n",
      "}\n",
      "market_value_proxy: \"100000000\"\n",
      "liquidity_provider_fee_share {\n",
      "  party: \"06efe5d96921fbf27a229d6e797c61b71f545d5644b5c1a22308834e7958fd6e\"\n",
      "  equity_like_share: \"1\"\n",
      "  average_entry_valuation: \"100000000\"\n",
      "}\n",
      "market_state: STATE_ACTIVE\n",
      "\n"
     ]
    }
   ],
   "source": [
    "# Check order status/ market state after amend\n",
    "print(vega.order_status(order_id=new_buy_order_id))\n",
    "\n",
    "print(vega.market_data(market_id=market_id))"
   ]
  }
 ],
 "metadata": {
  "kernelspec": {
   "display_name": "Python 3 (ipykernel)",
   "language": "python",
   "name": "python3"
  },
  "language_info": {
   "codemirror_mode": {
    "name": "ipython",
    "version": 3
   },
   "file_extension": ".py",
   "mimetype": "text/x-python",
   "name": "python",
   "nbconvert_exporter": "python",
   "pygments_lexer": "ipython3",
   "version": "3.10.5"
  },
  "vscode": {
   "interpreter": {
    "hash": "5c00165305f273872415b0603efc45e61452b0a3e0b82b69bfe746be71fa6f99"
   }
  }
 },
 "nbformat": 4,
 "nbformat_minor": 4
}
